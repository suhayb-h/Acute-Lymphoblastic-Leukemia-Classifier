{
  "cells": [
    {
      "cell_type": "markdown",
      "metadata": {
        "id": "view-in-github",
        "colab_type": "text"
      },
      "source": [
        "<a href=\"https://colab.research.google.com/github/suhayb-h/Acute-Lymphoblastic-Leukemia-Classifier/blob/main/2_Logistic_Regression_CNN.ipynb\" target=\"_parent\"><img src=\"https://colab.research.google.com/assets/colab-badge.svg\" alt=\"Open In Colab\"/></a>"
      ]
    },
    {
      "cell_type": "markdown",
      "source": [
        "# Acute Lymphoblastic Leukemia Classifier:\n",
        "## Logistic Regression and Convolutional Neural Network Models\n",
        "##### Project Author: Suhayb Hafiz \n",
        "\n",
        "---\n"
      ],
      "metadata": {
        "id": "wtlopgXd7JUg"
      }
    },
    {
      "cell_type": "markdown",
      "source": [
        "The first models constructed to differentiate the C-NMC dataset used CNNs as the central defining characteristic. That principal ethos has not changed amidst new model construction. Initially, all models were either built on pre-trained models, through transfer learning, or processed through several models before being averaged, through ensemble modelling techniques. Based on newly constructed models, these practices have not changed yet. This limited construction practice has also limited the capability to explain model findings, with only 5 papers specifically outlining resultant computer vision findings. Furthermore, no specific conclusions were demonstrated as to what features differentiate normal cells from cancerous cells. \n",
        "\n",
        "There are fundamental absences in computer vision based cellular classification that this project will attempt to explore. No recurrent comparator model was ever constructed in a binary image classification problem and by extension no such model has ever been used to differentiate the C-NMC dataset. This process is typically resource intensive, and this may why it is not a commonly explored model architecture. To circumvent the computational requirement, training a model would require creating the model with the PyTorch library. Doing so would allow the code to run code through GPUs as opposed to bottlenecked CPUs. \n",
        "\n",
        "Ultimately, this project is purely an exploratory endeavor. Due to the lack of available computational resources, there is a natural limit to how complex experimental models can be. Despite the limitation, the central goal of this project remains unchanged. Hopefully, the experimental model construction should clearly outline the limitations and strengths of different machine learning types. \n"
      ],
      "metadata": {
        "id": "506xm_HqNsIX"
      }
    },
    {
      "cell_type": "code",
      "source": [
        "from google.colab import drive\n",
        "drive.mount('/content/drive/')"
      ],
      "metadata": {
        "colab": {
          "base_uri": "https://localhost:8080/"
        },
        "id": "H10OJUuT7qNL",
        "outputId": "26623f30-4705-4926-993f-4a6d70085e1d"
      },
      "execution_count": null,
      "outputs": [
        {
          "output_type": "stream",
          "name": "stdout",
          "text": [
            "Mounted at /content/drive/\n"
          ]
        }
      ]
    },
    {
      "cell_type": "code",
      "execution_count": null,
      "metadata": {
        "id": "igpi-Pwsxisu"
      },
      "outputs": [],
      "source": [
        "from tensorflow.keras.layers import Conv2D, MaxPooling2D, Dense, Flatten, Dropout\n",
        "from tensorflow.keras.preprocessing.image import ImageDataGenerator\n",
        "from tensorflow.keras.callbacks import EarlyStopping\n",
        "from tensorflow.keras.layers import InputLayer\n",
        "from tensorflow.keras.models import Sequential\n",
        "import tensorflow as tf\n",
        "\n",
        "from sklearn.metrics import confusion_matrix\n",
        "from matplotlib import pyplot as plt\n",
        "import seaborn as sns\n",
        "import pandas as pd\n",
        "import numpy as np"
      ]
    },
    {
      "cell_type": "markdown",
      "metadata": {
        "id": "GjUZiGgO64xb"
      },
      "source": [
        "# Preparing the Data"
      ]
    },
    {
      "cell_type": "markdown",
      "source": [
        "The initial steps were to import relevant libraries, import the dataset and scale the data. As mentioned earlier, the validation data set was utilized as the test set for this project. For this reason, a new validation set was created by splitting the training set directly from the data generator. 17.5% of the training set was chosen to be used as the validation dataset simply because it roughly equates to the size of the original validation data set.\n",
        "\n",
        "Within the image data generators, all images were rescaled, randomly rotated, randomly flipped, and shuffled. These manipulations were established to implement as much randomness into the data as possible, while simultaneously maintaining the integrity of the images. Since these images were round cells without obvious directional polarity, rotating and flipping the cells should not affect the integrity of the sequential model. These manipulations also have an added benefit of increasing the perceived number of samples by the models. Finally, based on the analysis of colour distribution in the dataset, images were forced to retain their colors before training the model.\n"
      ],
      "metadata": {
        "id": "8imF-6tNOlt3"
      }
    },
    {
      "cell_type": "code",
      "execution_count": null,
      "metadata": {
        "colab": {
          "base_uri": "https://localhost:8080/"
        },
        "id": "xX9EChpkxzgE",
        "outputId": "3c159cf3-2da0-49f0-cd30-deed93d24df0"
      },
      "outputs": [
        {
          "output_type": "stream",
          "name": "stdout",
          "text": [
            "Found 8796 images belonging to 2 classes.\n",
            "Found 1865 images belonging to 2 classes.\n"
          ]
        }
      ],
      "source": [
        "train_datagen = ImageDataGenerator(rescale=1./255, \n",
        "                                   rotation_range = 180, \n",
        "                                   horizontal_flip = True, \n",
        "                                   vertical_flip = True, \n",
        "                                   validation_split = 0.175)\n",
        "\n",
        "# Specified where images should be loaded from and additional attributes:\n",
        "train_generator = \\\n",
        "train_datagen.flow_from_directory(\n",
        "    '/content/drive/Othercomputers/My MacBook Air/C-NMC_Leukemia/training_data', \n",
        "    color_mode = 'rgb', \n",
        "    class_mode = 'categorical',\n",
        "    shuffle = True, \n",
        "    subset = 'training')\n",
        "\n",
        "validation_generator = \\\n",
        "train_datagen.flow_from_directory(\n",
        "    '/content/drive/Othercomputers/My MacBook Air/C-NMC_Leukemia/training_data', \n",
        "    color_mode = 'rgb', \n",
        "    class_mode = 'categorical',\n",
        "    shuffle = True, \n",
        "    subset = 'validation')"
      ]
    },
    {
      "cell_type": "code",
      "execution_count": null,
      "metadata": {
        "colab": {
          "base_uri": "https://localhost:8080/"
        },
        "id": "EmT3efYB64xd",
        "outputId": "be56fdf0-0aeb-4e37-d731-047ac9294d65"
      },
      "outputs": [
        {
          "output_type": "execute_result",
          "data": {
            "text/plain": [
              "2.145765712599587"
            ]
          },
          "metadata": {},
          "execution_count": 4
        }
      ],
      "source": [
        "# Weight calculation for normal lymphocytes:  \n",
        "# Number of cancer cells divided by the number of normal cells.\n",
        "\n",
        "7272/3389"
      ]
    },
    {
      "cell_type": "code",
      "execution_count": null,
      "metadata": {
        "colab": {
          "base_uri": "https://localhost:8080/"
        },
        "id": "e8t-ggKszmIR",
        "outputId": "9d51997f-fd0d-465b-b327-d394177c0a05"
      },
      "outputs": [
        {
          "output_type": "execute_result",
          "data": {
            "text/plain": [
              "{'all': 0, 'hem': 1}"
            ]
          },
          "metadata": {},
          "execution_count": 5
        }
      ],
      "source": [
        "# Specify how the machine names classes:\n",
        "\n",
        "class_names = validation_generator.class_indices\n",
        "class_names"
      ]
    },
    {
      "cell_type": "code",
      "execution_count": null,
      "metadata": {
        "id": "4-2YjejM364t"
      },
      "outputs": [],
      "source": [
        "# Weight of 2.15 is applied to 'hem' cells\n",
        "\n",
        "weights = {0: 1,\n",
        "           1: 2.15}"
      ]
    },
    {
      "cell_type": "markdown",
      "metadata": {
        "id": "fMxuAda564xf"
      },
      "source": [
        "# Logistic Regression Model"
      ]
    },
    {
      "cell_type": "markdown",
      "source": [
        "The first step in experiment design was to establish a base model that would serve as a comparison baseline for other models. The initial intention was to construct a classic machine learning model, but such models required computational resources that were not available. Dealing with images through data generators proved to be computationally efficient and manageable, but data generators could only be used for TensorFlow, PyTorch or similar neural network libraries.\n",
        "\n",
        "The most appropriate base model to assess the data distribution was a simple logistic regression model. Since traditional classic modelling libraries would fail to compute the image data, a logistic regression model was built through TensorFlow using a sequential neural network. Afterwards, more layers were added the logistic regression model to create a new simple sequential neural network.\n",
        "\n",
        "A simple logistic regression model is a binary classification model. It assigns labels to one of two classes based on a where a data point lies along a sigmoid curve. Neural networks are constructed in layers, in which each layer performs a newfound mathematical function. Each added new layer adds complexity to the model that can translate into better learning. To replicate a logistic regression model, a neural network needed to be constructed that had as little learning functionality as possible, implying that the model needed to be simple in its construction. For this reason, a model that comprised of only two layers was instantiated. The first layer being the input layer, and the last layer being the output layer. Furthermore, the output layer was set to a sigmoidal activation parameter, thereby replicating the sigmoidal classification of a traditional logistic regression model. \n",
        "Typical neural network models are trained over time which is reflected by gradual increases in accuracy and gradual decreases in losses. However, due to the simplicity of the logistic regression model above, there appeared to be no obvious training in the training dataset or validation dataset. As mentioned earlier, this was implemented by design, as classic logistic regression models do not have the capability of improving performance overtime. Assessing this model’s performance on the test dataset provided a baseline accuracy by which to measure future model performance. \n",
        "\n",
        "As previously stated, the CSV file that was provided with the original data required labels to be reversed to have the same labels as the training and validation sets. This new column served as the target by which the test data could be assessed on.\n"
      ],
      "metadata": {
        "id": "NqPbCmRfOPN8"
      }
    },
    {
      "cell_type": "code",
      "execution_count": null,
      "metadata": {
        "colab": {
          "base_uri": "https://localhost:8080/"
        },
        "id": "NqNSfxWU64xf",
        "outputId": "73af8ff9-5792-473a-b983-1c40dd1a9cfc"
      },
      "outputs": [
        {
          "output_type": "stream",
          "name": "stdout",
          "text": [
            "Model: \"sequential\"\n",
            "_________________________________________________________________\n",
            " Layer (type)                Output Shape              Param #   \n",
            "=================================================================\n",
            " flatten (Flatten)           (None, 196608)            0         \n",
            "                                                                 \n",
            " dense (Dense)               (None, 2)                 393218    \n",
            "                                                                 \n",
            "=================================================================\n",
            "Total params: 393,218\n",
            "Trainable params: 393,218\n",
            "Non-trainable params: 0\n",
            "_________________________________________________________________\n"
          ]
        }
      ],
      "source": [
        "base_model = Sequential()\n",
        "\n",
        "base_model.add(InputLayer(input_shape=(256, 256, 3)))\n",
        "base_model.add(Flatten())\n",
        "\n",
        "# Simulate a classic 'Logistic Regression' model by constructing a neural network:\n",
        "# No layers were added between the input and output layers\n",
        "\n",
        "base_model.add(Dense(2, activation='sigmoid'))\n",
        "\n",
        "base_model.compile('SGD', # --> vs Adam\n",
        "              loss=tf.losses.BinaryCrossentropy(), # --> Neccessary because this is a binary classifier?\n",
        "              metrics = ['categorical_accuracy']) # --> Category is absolutely essential\n",
        "base_model.summary()"
      ]
    },
    {
      "cell_type": "code",
      "execution_count": null,
      "metadata": {
        "colab": {
          "base_uri": "https://localhost:8080/"
        },
        "id": "KzFpEV8264xg",
        "outputId": "65d4a25c-da87-42ae-8217-d2b7fd69ffd0"
      },
      "outputs": [
        {
          "output_type": "stream",
          "name": "stdout",
          "text": [
            "Epoch 1/25\n",
            "  7/275 [..............................] - ETA: 1:59:08 - loss: 1.0188 - categorical_accuracy: 0.5536"
          ]
        }
      ],
      "source": [
        "early_stop = EarlyStopping(monitor = 'val_categorical_accuracy', \n",
        "                           patience = 10,  \n",
        "                           verbose = 1)\n",
        "\n",
        "model_0 = base_model.fit(train_generator, \n",
        "                        epochs=25,\n",
        "                        validation_data = validation_generator, \n",
        "                        shuffle=True, \n",
        "                        class_weight = weights,\n",
        "                        callbacks = [early_stop])"
      ]
    },
    {
      "cell_type": "code",
      "source": [
        "pickle.dump(model_0, open(model_0.pkl, 'wb'))\n",
        "pkl_0 = pickle.load(open(model_0.pkl, 'rb'))"
      ],
      "metadata": {
        "id": "-_w0gn9GWM4Y"
      },
      "execution_count": null,
      "outputs": []
    },
    {
      "cell_type": "code",
      "execution_count": null,
      "metadata": {
        "id": "I7ZofCK964xg"
      },
      "outputs": [],
      "source": [
        "fig = plt.figure(figsize = (15,7))\n",
        "\n",
        "plt.subplot(1, 2, 1, title = 'Loss')\n",
        "plt.plot(pkl_0.history['loss'], \n",
        "         color = 'teal', \n",
        "         label = 'loss')\n",
        "plt.plot(pkl_0.history['val_loss'], \n",
        "         color = 'orange', \n",
        "         label = 'val_loss')\n",
        "plt.legend(loc = \"upper left\")\n",
        "plt.ylabel('Loss')\n",
        "plt.xlabel('Epochs')\n",
        "\n",
        "plt.subplot(1, 2, 2, title = 'Accuracy')\n",
        "plt.plot(pkl_0.history['categorical_accuracy'], \n",
        "         color = 'teal', \n",
        "         label = 'accuracy')\n",
        "plt.plot(pkl_0.history['val_categorical_accuracy'], \n",
        "         color = 'orange', \n",
        "         label = 'val_accuracy')\n",
        "plt.legend(loc = \"upper left\")\n",
        "plt.ylabel('Accuracy')\n",
        "plt.xlabel('Epochs')\n",
        "\n",
        "#plt.subplots_adjust(wspace=1) \n",
        "plt.show()"
      ]
    },
    {
      "cell_type": "code",
      "execution_count": null,
      "metadata": {
        "colab": {
          "base_uri": "https://localhost:8080/",
          "height": 424
        },
        "id": "UOT-NuCB64xh",
        "outputId": "e90e4269-74a3-4a43-a8d5-37257af07347"
      },
      "outputs": [
        {
          "output_type": "execute_result",
          "data": {
            "text/plain": [
              "                Patient_ID new_names labels true_labels\n",
              "0      UID_57_29_1_all.bmp     1.bmp      1           0\n",
              "1      UID_57_22_2_all.bmp     2.bmp      1           0\n",
              "2      UID_57_31_3_all.bmp     3.bmp      1           0\n",
              "3     UID_H49_35_1_hem.bmp     4.bmp      0           1\n",
              "4      UID_58_6_13_all.bmp     5.bmp      1           0\n",
              "...                    ...       ...    ...         ...\n",
              "1862   UID_54_33_1_all.bmp  1863.bmp      1           0\n",
              "1863   UID_55_24_1_all.bmp  1864.bmp      1           0\n",
              "1864  UID_H32_20_1_hem.bmp  1865.bmp      0           1\n",
              "1865   UID_54_30_2_all.bmp  1866.bmp      1           0\n",
              "1866   UID_66_10_3_all.bmp  1867.bmp      1           0\n",
              "\n",
              "[1867 rows x 4 columns]"
            ],
            "text/html": [
              "\n",
              "  <div id=\"df-e9b2c359-a680-41e7-acda-b2bb46e33480\">\n",
              "    <div class=\"colab-df-container\">\n",
              "      <div>\n",
              "<style scoped>\n",
              "    .dataframe tbody tr th:only-of-type {\n",
              "        vertical-align: middle;\n",
              "    }\n",
              "\n",
              "    .dataframe tbody tr th {\n",
              "        vertical-align: top;\n",
              "    }\n",
              "\n",
              "    .dataframe thead th {\n",
              "        text-align: right;\n",
              "    }\n",
              "</style>\n",
              "<table border=\"1\" class=\"dataframe\">\n",
              "  <thead>\n",
              "    <tr style=\"text-align: right;\">\n",
              "      <th></th>\n",
              "      <th>Patient_ID</th>\n",
              "      <th>new_names</th>\n",
              "      <th>labels</th>\n",
              "      <th>true_labels</th>\n",
              "    </tr>\n",
              "  </thead>\n",
              "  <tbody>\n",
              "    <tr>\n",
              "      <th>0</th>\n",
              "      <td>UID_57_29_1_all.bmp</td>\n",
              "      <td>1.bmp</td>\n",
              "      <td>1</td>\n",
              "      <td>0</td>\n",
              "    </tr>\n",
              "    <tr>\n",
              "      <th>1</th>\n",
              "      <td>UID_57_22_2_all.bmp</td>\n",
              "      <td>2.bmp</td>\n",
              "      <td>1</td>\n",
              "      <td>0</td>\n",
              "    </tr>\n",
              "    <tr>\n",
              "      <th>2</th>\n",
              "      <td>UID_57_31_3_all.bmp</td>\n",
              "      <td>3.bmp</td>\n",
              "      <td>1</td>\n",
              "      <td>0</td>\n",
              "    </tr>\n",
              "    <tr>\n",
              "      <th>3</th>\n",
              "      <td>UID_H49_35_1_hem.bmp</td>\n",
              "      <td>4.bmp</td>\n",
              "      <td>0</td>\n",
              "      <td>1</td>\n",
              "    </tr>\n",
              "    <tr>\n",
              "      <th>4</th>\n",
              "      <td>UID_58_6_13_all.bmp</td>\n",
              "      <td>5.bmp</td>\n",
              "      <td>1</td>\n",
              "      <td>0</td>\n",
              "    </tr>\n",
              "    <tr>\n",
              "      <th>...</th>\n",
              "      <td>...</td>\n",
              "      <td>...</td>\n",
              "      <td>...</td>\n",
              "      <td>...</td>\n",
              "    </tr>\n",
              "    <tr>\n",
              "      <th>1862</th>\n",
              "      <td>UID_54_33_1_all.bmp</td>\n",
              "      <td>1863.bmp</td>\n",
              "      <td>1</td>\n",
              "      <td>0</td>\n",
              "    </tr>\n",
              "    <tr>\n",
              "      <th>1863</th>\n",
              "      <td>UID_55_24_1_all.bmp</td>\n",
              "      <td>1864.bmp</td>\n",
              "      <td>1</td>\n",
              "      <td>0</td>\n",
              "    </tr>\n",
              "    <tr>\n",
              "      <th>1864</th>\n",
              "      <td>UID_H32_20_1_hem.bmp</td>\n",
              "      <td>1865.bmp</td>\n",
              "      <td>0</td>\n",
              "      <td>1</td>\n",
              "    </tr>\n",
              "    <tr>\n",
              "      <th>1865</th>\n",
              "      <td>UID_54_30_2_all.bmp</td>\n",
              "      <td>1866.bmp</td>\n",
              "      <td>1</td>\n",
              "      <td>0</td>\n",
              "    </tr>\n",
              "    <tr>\n",
              "      <th>1866</th>\n",
              "      <td>UID_66_10_3_all.bmp</td>\n",
              "      <td>1867.bmp</td>\n",
              "      <td>1</td>\n",
              "      <td>0</td>\n",
              "    </tr>\n",
              "  </tbody>\n",
              "</table>\n",
              "<p>1867 rows × 4 columns</p>\n",
              "</div>\n",
              "      <button class=\"colab-df-convert\" onclick=\"convertToInteractive('df-e9b2c359-a680-41e7-acda-b2bb46e33480')\"\n",
              "              title=\"Convert this dataframe to an interactive table.\"\n",
              "              style=\"display:none;\">\n",
              "        \n",
              "  <svg xmlns=\"http://www.w3.org/2000/svg\" height=\"24px\"viewBox=\"0 0 24 24\"\n",
              "       width=\"24px\">\n",
              "    <path d=\"M0 0h24v24H0V0z\" fill=\"none\"/>\n",
              "    <path d=\"M18.56 5.44l.94 2.06.94-2.06 2.06-.94-2.06-.94-.94-2.06-.94 2.06-2.06.94zm-11 1L8.5 8.5l.94-2.06 2.06-.94-2.06-.94L8.5 2.5l-.94 2.06-2.06.94zm10 10l.94 2.06.94-2.06 2.06-.94-2.06-.94-.94-2.06-.94 2.06-2.06.94z\"/><path d=\"M17.41 7.96l-1.37-1.37c-.4-.4-.92-.59-1.43-.59-.52 0-1.04.2-1.43.59L10.3 9.45l-7.72 7.72c-.78.78-.78 2.05 0 2.83L4 21.41c.39.39.9.59 1.41.59.51 0 1.02-.2 1.41-.59l7.78-7.78 2.81-2.81c.8-.78.8-2.07 0-2.86zM5.41 20L4 18.59l7.72-7.72 1.47 1.35L5.41 20z\"/>\n",
              "  </svg>\n",
              "      </button>\n",
              "      \n",
              "  <style>\n",
              "    .colab-df-container {\n",
              "      display:flex;\n",
              "      flex-wrap:wrap;\n",
              "      gap: 12px;\n",
              "    }\n",
              "\n",
              "    .colab-df-convert {\n",
              "      background-color: #E8F0FE;\n",
              "      border: none;\n",
              "      border-radius: 50%;\n",
              "      cursor: pointer;\n",
              "      display: none;\n",
              "      fill: #1967D2;\n",
              "      height: 32px;\n",
              "      padding: 0 0 0 0;\n",
              "      width: 32px;\n",
              "    }\n",
              "\n",
              "    .colab-df-convert:hover {\n",
              "      background-color: #E2EBFA;\n",
              "      box-shadow: 0px 1px 2px rgba(60, 64, 67, 0.3), 0px 1px 3px 1px rgba(60, 64, 67, 0.15);\n",
              "      fill: #174EA6;\n",
              "    }\n",
              "\n",
              "    [theme=dark] .colab-df-convert {\n",
              "      background-color: #3B4455;\n",
              "      fill: #D2E3FC;\n",
              "    }\n",
              "\n",
              "    [theme=dark] .colab-df-convert:hover {\n",
              "      background-color: #434B5C;\n",
              "      box-shadow: 0px 1px 3px 1px rgba(0, 0, 0, 0.15);\n",
              "      filter: drop-shadow(0px 1px 2px rgba(0, 0, 0, 0.3));\n",
              "      fill: #FFFFFF;\n",
              "    }\n",
              "  </style>\n",
              "\n",
              "      <script>\n",
              "        const buttonEl =\n",
              "          document.querySelector('#df-e9b2c359-a680-41e7-acda-b2bb46e33480 button.colab-df-convert');\n",
              "        buttonEl.style.display =\n",
              "          google.colab.kernel.accessAllowed ? 'block' : 'none';\n",
              "\n",
              "        async function convertToInteractive(key) {\n",
              "          const element = document.querySelector('#df-e9b2c359-a680-41e7-acda-b2bb46e33480');\n",
              "          const dataTable =\n",
              "            await google.colab.kernel.invokeFunction('convertToInteractive',\n",
              "                                                     [key], {});\n",
              "          if (!dataTable) return;\n",
              "\n",
              "          const docLinkHtml = 'Like what you see? Visit the ' +\n",
              "            '<a target=\"_blank\" href=https://colab.research.google.com/notebooks/data_table.ipynb>data table notebook</a>'\n",
              "            + ' to learn more about interactive tables.';\n",
              "          element.innerHTML = '';\n",
              "          dataTable['output_type'] = 'display_data';\n",
              "          await google.colab.output.renderOutput(dataTable, element);\n",
              "          const docLink = document.createElement('div');\n",
              "          docLink.innerHTML = docLinkHtml;\n",
              "          element.appendChild(docLink);\n",
              "        }\n",
              "      </script>\n",
              "    </div>\n",
              "  </div>\n",
              "  "
            ]
          },
          "metadata": {},
          "execution_count": 27
        }
      ],
      "source": [
        "df_test = \\\n",
        "pd.read_csv(\n",
        "    '/content/drive/Othercomputers/My MacBook Air/C-NMC_Leukemia/validation_data/C-NMC_test_prelim_phase_data_labels.csv', \n",
        "    dtype = str)\n",
        "\n",
        "# a new column called labels_ was created wherein 'all' patients are labelled 0 \n",
        "df_test.loc[df_test['Patient_ID'].str.contains('all'), 'true_labels'] = '0'\n",
        "\n",
        "# labels_ was also given a label 1 for any patients that were non-cancerous\n",
        "df_test.loc[df_test['Patient_ID'].str.contains('hem'), 'true_labels'] = '1'\n",
        "\n",
        "df_test"
      ]
    },
    {
      "cell_type": "code",
      "execution_count": null,
      "metadata": {
        "colab": {
          "base_uri": "https://localhost:8080/"
        },
        "id": "9A4va7cJ64xh",
        "outputId": "a79b4665-a0d1-4fc7-c0f1-bf41ed799fbf"
      },
      "outputs": [
        {
          "output_type": "stream",
          "name": "stdout",
          "text": [
            "Found 1867 validated image filenames belonging to 2 classes.\n"
          ]
        }
      ],
      "source": [
        "# Apply the same rescaling factor as our other generators\n",
        "test_datagen = ImageDataGenerator(rescale=1./255)\n",
        "test_generator = \\\n",
        "test_datagen.flow_from_dataframe(\n",
        "    dataframe = df_test,\n",
        "    directory = \\\n",
        "    '/content/drive/Othercomputers/My MacBook Air/C-NMC_Leukemia/validation_data/C-NMC_test_prelim_phase_data',\n",
        "    batch_size = 100,\n",
        "    x_col = 'new_names',\n",
        "    y_col = 'true_labels',\n",
        "    color_mode = 'rgb',\n",
        "    class_mode = 'categorical')\n",
        "\n",
        "X_test, y_test = test_generator.next()"
      ]
    },
    {
      "cell_type": "code",
      "execution_count": null,
      "metadata": {
        "colab": {
          "base_uri": "https://localhost:8080/"
        },
        "id": "6UgF2gGx64xh",
        "outputId": "69b8a66a-4b77-4da1-ca0e-6ccf108ead47"
      },
      "outputs": [
        {
          "output_type": "stream",
          "name": "stdout",
          "text": [
            "4/4 [==============================] - 0s 8ms/step - loss: 0.6711 - categorical_accuracy: 0.6100\n",
            "Test loss: 0.6710572242736816\n",
            "Test accuracy: 0.6100000143051147\n"
          ]
        }
      ],
      "source": [
        "score_0 = base_model.evaluate(X_test, y_test)\n",
        "\n",
        "print('Test loss:', score_0[0])\n",
        "print('Test accuracy:', score_0[1])"
      ]
    },
    {
      "cell_type": "markdown",
      "source": [
        "The logistic regression model provides an accuracy score of 61%, implying that it correctly predicts the cancer state of a cell 61% of the time. This isn't an impressive score, but at least signifies that the base model performs better than random guessing (which would result in an accuracy score around 50%). By passing a batch of 100 images, a confusion matrix can be made to better assess how the model makes its predictions."
      ],
      "metadata": {
        "id": "SvqiI_VGN-CD"
      }
    },
    {
      "cell_type": "code",
      "source": [
        "pickle.dump(X_test, open(X_test.pkl, 'wb'))\n",
        "pickle.dump(y_test, open(y_test.pkl, 'wb'))"
      ],
      "metadata": {
        "id": "1e6131yxbu1a"
      },
      "execution_count": null,
      "outputs": []
    },
    {
      "cell_type": "code",
      "source": [
        "pkl_X = pickle.load(open(X_test.pkl, 'rb'))\n",
        "pkl_y = pickle.load(open(y_test.pkl, 'rb'))"
      ],
      "metadata": {
        "id": "sSTBX-O1cR-3"
      },
      "execution_count": null,
      "outputs": []
    },
    {
      "cell_type": "code",
      "execution_count": null,
      "metadata": {
        "id": "gvBckXL264xi"
      },
      "outputs": [],
      "source": [
        "# Calculate the predictions\n",
        "predict_probas_0 = base_model.predict(pkl_X) # --> why are we not predicting on model_0?\n",
        "\n",
        "# Convert probabilities to label encoding\n",
        "y_predict_0 = np.argmax(predict_probas_0, axis=1)"
      ]
    },
    {
      "cell_type": "code",
      "execution_count": null,
      "metadata": {
        "colab": {
          "base_uri": "https://localhost:8080/",
          "height": 422
        },
        "id": "2-RUGqif64xi",
        "outputId": "32a87e90-222f-4e09-e7e1-fb8ee14ad5ca"
      },
      "outputs": [
        {
          "output_type": "display_data",
          "data": {
            "text/plain": [
              "<Figure size 576x432 with 1 Axes>"
            ],
            "image/png": "[encoded data removed]"
          },
          "metadata": {
            "needs_background": "light"
          }
        }
      ],
      "source": [
        "y_test_labels = np.argmax(pkl_y, axis=1)\n",
        "conf_mat_0 = confusion_matrix(y_test_labels, y_predict_0)\n",
        "\n",
        "plt.figure(figsize = (8,6))\n",
        "sns.heatmap(conf_mat_0,\n",
        "            annot=True,\n",
        "            cbar=False,\n",
        "            xticklabels = class_names,\n",
        "            yticklabels = class_names,\n",
        "            cmap = \"rocket_r\",\n",
        "            linewidths = 1)\n",
        "plt.title('Confusion Matrix for Logistic Regression', \n",
        "          size = 25, \n",
        "          y = 1)\n",
        "plt.xlabel(\"Predicted Label\", size = 20)\n",
        "plt.ylabel(\"True Label\", size = 20)\n",
        "plt.show()"
      ]
    },
    {
      "cell_type": "markdown",
      "source": [
        "The confusion matrix above outlines some specific findings that should be noted:\n",
        "•\tDespite the application of higher weight to 'hem' cells, the model is still more likely to predict an 'all' label than a 'hem' label\n",
        "•\tThe model incorrectly predicts 'hem' cells as 'all' just as often as it incorrectly predicts 'all' cells as 'hem' cells\n"
      ],
      "metadata": {
        "id": "ReO1-s8mOCsc"
      }
    },
    {
      "cell_type": "markdown",
      "metadata": {
        "id": "EPvRD7Yd64xi"
      },
      "source": [
        "# Neural Network Model"
      ]
    },
    {
      "cell_type": "markdown",
      "source": [
        "Sequential models are constructed by adding layers and adjusting the parameters of each individual layer. The model constructed in this notebook was created with three 2-dimensional convolution layers, followed by a flattened layer and 2 dense layers. The convolutional layers received the most adjustment in terms of parameter optimization. Regularizers were established on these layers with the sole purpose of reducing overfitting. Two regularizers were available, L1 and L2, with the option to utilize both regularizers in conjunction for each parameter. Ultimately, L2 was chosen as the sole regularizer since it specifically serves the function of reducing overfitting. Each convolutional layer was also given a dropout function, since doing so also reduces overfitting. All three layers were also given maximum pooling layers. The final output layer of this model was set to a sigmoid activating dense layer with two outputs. This output layer serves to provide a binary classification between two results, those being cancerous and non-cancerous.\n",
        "\n",
        "The final phase of analysis was to assess the model’s performance on the testing data. Just as for the training and validation data, the testing data was imported via an image generator. However, in the original dataset, the validation data was as labelled differently than the training set. For this reason, a different methodology was used to import the data. The validation images were imported and labelled in accordance with the CSV file (and subsequent extracted dataframe) that was provided with the original data. The same parameter optimizations that were utilized for the training and validation generators were utilized for the test generator as well.\n",
        "The CNN performed much better than the logistic regression model, having accomplished an accuracy score of 75%. The confusion matrix below showcases how this new model adapted compared to the logistic regression model.\n"
      ],
      "metadata": {
        "id": "4BCSSRquO-gs"
      }
    },
    {
      "cell_type": "code",
      "execution_count": null,
      "metadata": {
        "id": "AKF_jsbq721k"
      },
      "outputs": [],
      "source": [
        "model = Sequential()\n",
        "\n",
        "model.add(Conv2D(16, (3,3), 1, activation = 'relu', \n",
        "                 #input_shape = (480, 480, 3)\n",
        "                 ))\n",
        "model.add(MaxPooling2D())\n",
        "model.add(Dropout(0.2))\n",
        "\n",
        "model.add(Conv2D(32, (3,3), 1, activation = 'relu'))\n",
        "model.add(MaxPooling2D())\n",
        "model.add(Dropout(0.2))\n",
        "\n",
        "model.add(Conv2D(16, (3,3), 1, activation = 'relu'))\n",
        "model.add(MaxPooling2D())\n",
        "model.add(Dropout(0.2))\n",
        "\n",
        "model.add(Flatten())\n",
        "\n",
        "#model.add(Dense(256, activation = 'relu'))\n",
        "model.add(Dense(2, activation = 'sigmoid'))\n",
        "\n",
        "model.compile('SGD', \n",
        "              loss = tf.losses.CategoricalCrossentropy(), \n",
        "              metrics = ['categorical_accuracy'])\n",
        "#model.summary()"
      ]
    },
    {
      "cell_type": "code",
      "execution_count": null,
      "metadata": {
        "colab": {
          "base_uri": "https://localhost:8080/"
        },
        "id": "6kSnI106-e_0",
        "outputId": "f9685c79-13e8-4fd3-eec0-ee2302d151f9"
      },
      "outputs": [
        {
          "output_type": "stream",
          "name": "stdout",
          "text": [
            "Epoch 1/50\n",
            "275/275 [==============================] - 157s 564ms/step - loss: 0.7108 - categorical_accuracy: 0.7711 - val_loss: 0.5625 - val_categorical_accuracy: 0.7442\n",
            "Epoch 2/50\n",
            "275/275 [==============================] - 155s 562ms/step - loss: 0.6794 - categorical_accuracy: 0.7849 - val_loss: 0.5646 - val_categorical_accuracy: 0.7448\n",
            "Epoch 3/50\n",
            "275/275 [==============================] - 154s 561ms/step - loss: 0.6735 - categorical_accuracy: 0.7884 - val_loss: 0.5237 - val_categorical_accuracy: 0.7378\n",
            "Epoch 4/50\n",
            "275/275 [==============================] - 154s 561ms/step - loss: 0.6739 - categorical_accuracy: 0.7885 - val_loss: 0.5578 - val_categorical_accuracy: 0.7442\n",
            "Epoch 5/50\n",
            "275/275 [==============================] - 154s 559ms/step - loss: 0.6725 - categorical_accuracy: 0.7889 - val_loss: 0.5319 - val_categorical_accuracy: 0.7383\n",
            "Epoch 6/50\n",
            "275/275 [==============================] - 154s 558ms/step - loss: 0.6696 - categorical_accuracy: 0.7882 - val_loss: 0.5563 - val_categorical_accuracy: 0.7496\n",
            "Epoch 7/50\n",
            "275/275 [==============================] - 159s 578ms/step - loss: 0.6664 - categorical_accuracy: 0.7925 - val_loss: 0.5529 - val_categorical_accuracy: 0.7512\n",
            "Epoch 8/50\n",
            "275/275 [==============================] - 155s 566ms/step - loss: 0.6667 - categorical_accuracy: 0.7905 - val_loss: 0.5295 - val_categorical_accuracy: 0.7410\n",
            "Epoch 9/50\n",
            "275/275 [==============================] - 155s 564ms/step - loss: 0.6651 - categorical_accuracy: 0.7939 - val_loss: 0.5464 - val_categorical_accuracy: 0.7485\n",
            "Epoch 10/50\n",
            "275/275 [==============================] - 154s 562ms/step - loss: 0.6647 - categorical_accuracy: 0.7945 - val_loss: 0.5624 - val_categorical_accuracy: 0.7523\n",
            "Epoch 11/50\n",
            "275/275 [==============================] - 155s 563ms/step - loss: 0.6587 - categorical_accuracy: 0.7947 - val_loss: 0.5716 - val_categorical_accuracy: 0.7453\n",
            "Epoch 12/50\n",
            "275/275 [==============================] - 155s 564ms/step - loss: 0.6603 - categorical_accuracy: 0.7922 - val_loss: 0.5688 - val_categorical_accuracy: 0.7550\n",
            "Epoch 13/50\n",
            "275/275 [==============================] - 154s 562ms/step - loss: 0.6587 - categorical_accuracy: 0.7974 - val_loss: 0.5697 - val_categorical_accuracy: 0.7528\n",
            "Epoch 14/50\n",
            "275/275 [==============================] - 154s 559ms/step - loss: 0.6588 - categorical_accuracy: 0.7949 - val_loss: 0.5807 - val_categorical_accuracy: 0.7571\n",
            "Epoch 15/50\n",
            "275/275 [==============================] - 154s 560ms/step - loss: 0.6545 - categorical_accuracy: 0.7954 - val_loss: 0.5795 - val_categorical_accuracy: 0.7582\n",
            "Epoch 16/50\n",
            "275/275 [==============================] - 154s 559ms/step - loss: 0.6580 - categorical_accuracy: 0.7948 - val_loss: 0.5712 - val_categorical_accuracy: 0.7657\n",
            "Epoch 17/50\n",
            "275/275 [==============================] - 154s 559ms/step - loss: 0.6523 - categorical_accuracy: 0.7971 - val_loss: 0.5502 - val_categorical_accuracy: 0.7651\n",
            "Epoch 18/50\n",
            "275/275 [==============================] - 153s 556ms/step - loss: 0.6536 - categorical_accuracy: 0.7989 - val_loss: 0.5650 - val_categorical_accuracy: 0.7539\n",
            "Epoch 19/50\n",
            "275/275 [==============================] - 153s 555ms/step - loss: 0.6566 - categorical_accuracy: 0.7959 - val_loss: 0.5643 - val_categorical_accuracy: 0.7609\n",
            "Epoch 20/50\n",
            "275/275 [==============================] - 152s 555ms/step - loss: 0.6512 - categorical_accuracy: 0.7977 - val_loss: 0.5356 - val_categorical_accuracy: 0.7576\n",
            "Epoch 21/50\n",
            "275/275 [==============================] - 153s 555ms/step - loss: 0.6538 - categorical_accuracy: 0.7967 - val_loss: 0.5809 - val_categorical_accuracy: 0.7587\n",
            "Epoch 22/50\n",
            "275/275 [==============================] - 153s 557ms/step - loss: 0.6531 - categorical_accuracy: 0.7998 - val_loss: 0.5363 - val_categorical_accuracy: 0.7598\n",
            "Epoch 23/50\n",
            "275/275 [==============================] - 153s 557ms/step - loss: 0.6482 - categorical_accuracy: 0.7982 - val_loss: 0.5315 - val_categorical_accuracy: 0.7684\n",
            "Epoch 24/50\n",
            "275/275 [==============================] - 152s 554ms/step - loss: 0.6520 - categorical_accuracy: 0.7975 - val_loss: 0.5191 - val_categorical_accuracy: 0.7630\n",
            "Epoch 25/50\n",
            "275/275 [==============================] - 153s 555ms/step - loss: 0.6470 - categorical_accuracy: 0.7970 - val_loss: 0.5727 - val_categorical_accuracy: 0.7694\n",
            "Epoch 26/50\n",
            "275/275 [==============================] - 153s 556ms/step - loss: 0.6447 - categorical_accuracy: 0.7979 - val_loss: 0.5345 - val_categorical_accuracy: 0.7818\n",
            "Epoch 27/50\n",
            "275/275 [==============================] - 153s 556ms/step - loss: 0.6438 - categorical_accuracy: 0.7998 - val_loss: 0.5059 - val_categorical_accuracy: 0.7732\n",
            "Epoch 28/50\n",
            "275/275 [==============================] - 153s 556ms/step - loss: 0.6450 - categorical_accuracy: 0.7985 - val_loss: 0.5268 - val_categorical_accuracy: 0.7871\n",
            "Epoch 29/50\n",
            "275/275 [==============================] - 153s 556ms/step - loss: 0.6431 - categorical_accuracy: 0.8017 - val_loss: 0.5571 - val_categorical_accuracy: 0.7796\n",
            "Epoch 30/50\n",
            "275/275 [==============================] - 153s 557ms/step - loss: 0.6407 - categorical_accuracy: 0.8014 - val_loss: 0.5147 - val_categorical_accuracy: 0.7903\n",
            "Epoch 31/50\n",
            "275/275 [==============================] - 154s 559ms/step - loss: 0.6371 - categorical_accuracy: 0.8015 - val_loss: 0.5340 - val_categorical_accuracy: 0.7689\n",
            "Epoch 32/50\n",
            "275/275 [==============================] - 153s 558ms/step - loss: 0.6393 - categorical_accuracy: 0.8023 - val_loss: 0.4943 - val_categorical_accuracy: 0.7957\n",
            "Epoch 33/50\n",
            "275/275 [==============================] - 153s 556ms/step - loss: 0.6355 - categorical_accuracy: 0.8035 - val_loss: 0.4848 - val_categorical_accuracy: 0.7786\n",
            "Epoch 34/50\n",
            "275/275 [==============================] - 152s 554ms/step - loss: 0.6322 - categorical_accuracy: 0.8063 - val_loss: 0.5118 - val_categorical_accuracy: 0.7866\n",
            "Epoch 35/50\n",
            "275/275 [==============================] - 153s 556ms/step - loss: 0.6313 - categorical_accuracy: 0.8068 - val_loss: 0.4707 - val_categorical_accuracy: 0.8075\n",
            "Epoch 36/50\n",
            "275/275 [==============================] - 154s 560ms/step - loss: 0.6323 - categorical_accuracy: 0.8062 - val_loss: 0.4950 - val_categorical_accuracy: 0.8011\n",
            "Epoch 37/50\n",
            "275/275 [==============================] - 152s 554ms/step - loss: 0.6283 - categorical_accuracy: 0.8053 - val_loss: 0.4884 - val_categorical_accuracy: 0.7941\n",
            "Epoch 38/50\n",
            "275/275 [==============================] - 152s 554ms/step - loss: 0.6255 - categorical_accuracy: 0.8092 - val_loss: 0.4965 - val_categorical_accuracy: 0.7812\n",
            "Epoch 39/50\n",
            "275/275 [==============================] - 153s 558ms/step - loss: 0.6235 - categorical_accuracy: 0.8062 - val_loss: 0.4928 - val_categorical_accuracy: 0.8032\n",
            "Epoch 40/50\n",
            "275/275 [==============================] - 157s 571ms/step - loss: 0.6180 - categorical_accuracy: 0.8085 - val_loss: 0.4724 - val_categorical_accuracy: 0.8032\n",
            "Epoch 41/50\n",
            "275/275 [==============================] - 155s 564ms/step - loss: 0.6216 - categorical_accuracy: 0.8065 - val_loss: 0.5133 - val_categorical_accuracy: 0.7727\n",
            "Epoch 42/50\n",
            "275/275 [==============================] - 155s 564ms/step - loss: 0.6163 - categorical_accuracy: 0.8125 - val_loss: 0.4576 - val_categorical_accuracy: 0.8155\n",
            "Epoch 43/50\n",
            "275/275 [==============================] - 155s 564ms/step - loss: 0.6175 - categorical_accuracy: 0.8141 - val_loss: 0.5827 - val_categorical_accuracy: 0.6965\n",
            "Epoch 44/50\n",
            "275/275 [==============================] - 154s 560ms/step - loss: 0.6139 - categorical_accuracy: 0.8148 - val_loss: 0.4713 - val_categorical_accuracy: 0.7807\n",
            "Epoch 45/50\n",
            "275/275 [==============================] - 154s 560ms/step - loss: 0.6200 - categorical_accuracy: 0.8115 - val_loss: 0.4942 - val_categorical_accuracy: 0.8032\n",
            "Epoch 46/50\n",
            "275/275 [==============================] - 156s 566ms/step - loss: 0.6108 - categorical_accuracy: 0.8141 - val_loss: 0.4791 - val_categorical_accuracy: 0.7877\n",
            "Epoch 47/50\n",
            "275/275 [==============================] - 157s 570ms/step - loss: 0.6076 - categorical_accuracy: 0.8167 - val_loss: 0.5164 - val_categorical_accuracy: 0.7673\n",
            "Epoch 48/50\n",
            "275/275 [==============================] - 156s 567ms/step - loss: 0.6089 - categorical_accuracy: 0.8158 - val_loss: 0.5213 - val_categorical_accuracy: 0.8198\n",
            "Epoch 49/50\n",
            "275/275 [==============================] - 153s 558ms/step - loss: 0.6087 - categorical_accuracy: 0.8204 - val_loss: 0.4873 - val_categorical_accuracy: 0.8113\n",
            "Epoch 50/50\n",
            "275/275 [==============================] - 152s 552ms/step - loss: 0.6082 - categorical_accuracy: 0.8172 - val_loss: 0.4449 - val_categorical_accuracy: 0.8279\n"
          ]
        }
      ],
      "source": [
        "model_1 = model.fit(train_generator, \n",
        "                 epochs = 50, \n",
        "                 validation_data = validation_generator, \n",
        "                 class_weight = weights,\n",
        "                 callbacks = [early_stop])"
      ]
    },
    {
      "cell_type": "code",
      "execution_count": null,
      "metadata": {
        "id": "fU1zD12n_Mit",
        "colab": {
          "base_uri": "https://localhost:8080/",
          "height": 458
        },
        "outputId": "a921ecc4-fd69-4dae-e1db-65c2750c28b8"
      },
      "outputs": [
        {
          "output_type": "display_data",
          "data": {
            "text/plain": [
              "<Figure size 1080x504 with 2 Axes>"
            ],
            "image/png": "[encoded data removed]"
          },
          "metadata": {
            "needs_background": "light"
          }
        }
      ],
      "source": [
        "fig = plt.figure(figsize = (15,7))\n",
        "\n",
        "plt.subplot(1, 2, 1, title = 'Loss')\n",
        "plt.plot(model_1.history['loss'], \n",
        "         color = 'teal', \n",
        "         label = 'loss')\n",
        "plt.plot(model_1.history['val_loss'], \n",
        "         color = 'orange', \n",
        "         label = 'val_loss')\n",
        "plt.legend(loc = \"upper left\")\n",
        "plt.ylabel('Loss')\n",
        "plt.xlabel('Epochs')\n",
        "\n",
        "plt.subplot(1, 2, 2, title = 'Accuracy')\n",
        "plt.plot(model_1.history['categorical_accuracy'], \n",
        "         color = 'teal', \n",
        "         label = 'accuracy')\n",
        "plt.plot(model_1.history['val_categorical_accuracy'], \n",
        "         color = 'orange', \n",
        "         label = 'val_accuracy')\n",
        "plt.legend(loc = \"upper left\")\n",
        "plt.ylabel('Accuracy')\n",
        "plt.xlabel('Epochs')\n",
        "\n",
        "#plt.subplots_adjust(wspace=1) \n",
        "plt.show()"
      ]
    },
    {
      "cell_type": "code",
      "execution_count": null,
      "metadata": {
        "colab": {
          "base_uri": "https://localhost:8080/"
        },
        "id": "WkvWiqZ_64xk",
        "outputId": "dca01921-ff90-4111-be5a-250637d8889f"
      },
      "outputs": [
        {
          "output_type": "stream",
          "name": "stdout",
          "text": [
            "4/4 [==============================] - 0s 11ms/step - loss: 0.5380 - categorical_accuracy: 0.7500\n",
            "Test loss: 0.5379656553268433\n",
            "Test accuracy: 0.75\n"
          ]
        }
      ],
      "source": [
        "# Evaluate the model's performance on the test data\n",
        "score_1 = model.evaluate(X_test, y_test)\n",
        "\n",
        "print('Test loss:', score_1[0])\n",
        "print('Test accuracy:', score_1[1])"
      ]
    },
    {
      "cell_type": "code",
      "execution_count": null,
      "metadata": {
        "id": "a2iRsWPQ64xk"
      },
      "outputs": [],
      "source": [
        "# Calculate the predictions\n",
        "predict_probas_1 = model.predict(X_test)\n",
        "\n",
        "# Convert probabilities to label encoding\n",
        "y_predict_1 = np.argmax(predict_probas_1, axis=1)"
      ]
    },
    {
      "cell_type": "code",
      "execution_count": null,
      "metadata": {
        "colab": {
          "base_uri": "https://localhost:8080/",
          "height": 422
        },
        "id": "9Iq6Xl4C64xl",
        "outputId": "3014780a-c303-4615-afef-0a51dea91795"
      },
      "outputs": [
        {
          "output_type": "display_data",
          "data": {
            "text/plain": [
              "<Figure size 576x432 with 1 Axes>"
            ],
            "image/png": "[encoded data removed]"
          },
          "metadata": {
            "needs_background": "light"
          }
        }
      ],
      "source": [
        "conf_mat_1 = confusion_matrix(y_test_labels, y_predict_1)\n",
        "\n",
        "plt.figure(figsize = (8,6))\n",
        "sns.heatmap(conf_mat_1,\n",
        "            annot=True,\n",
        "            cbar=False,\n",
        "            xticklabels = class_names,\n",
        "            yticklabels = class_names,\n",
        "            cmap = \"rocket_r\",\n",
        "            linewidths = 1)\n",
        "plt.title('Confusion Matrix for Sequential CNN', \n",
        "          size = 25, \n",
        "          y = 1.01)\n",
        "plt.xlabel(\"Predicted Label\", size = 20)\n",
        "plt.ylabel(\"True Label\", size = 20)\n",
        "plt.show()"
      ]
    },
    {
      "cell_type": "markdown",
      "source": [
        "The most notable findings in the CNN performance are as follows:\n",
        "•\tThe model is still more likely to predict 'all' cells than it is normal cells\n",
        "•\tThe model did a significantly better job in correctly classifying normal cells compared to the logistic regression model.\n",
        "•\tMany more 'all' cells were correctly labelled by the model when compared to the logistic regression model"
      ],
      "metadata": {
        "id": "nMdd3psLPDYk"
      }
    },
    {
      "cell_type": "code",
      "source": [],
      "metadata": {
        "id": "sOQWZxwfozrE"
      },
      "execution_count": null,
      "outputs": []
    }
  ],
  "metadata": {
    "colab": {
      "machine_shape": "hm",
      "name": "2_Logistic_Regression:CNN.ipynb",
      "provenance": [],
      "include_colab_link": true
    },
    "gpuClass": "standard",
    "kernelspec": {
      "display_name": "Python 3.8.13 ('deeplearning')",
      "language": "python",
      "name": "python3"
    },
    "language_info": {
      "codemirror_mode": {
        "name": "ipython",
        "version": 3
      },
      "file_extension": ".py",
      "mimetype": "text/x-python",
      "name": "python",
      "nbconvert_exporter": "python",
      "pygments_lexer": "ipython3",
      "version": "3.8.13"
    },
    "vscode": {
      "interpreter": {
        "hash": "273d489d297b00ca4249bd56ca235947d5c672f5aad333aaf3138058574823b8"
      }
    }
  },
  "nbformat": 4,
  "nbformat_minor": 0
}