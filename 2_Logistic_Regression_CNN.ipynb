{
  "cells": [
    {
      "cell_type": "markdown",
      "metadata": {
        "id": "view-in-github",
        "colab_type": "text"
      },
      "source": [
        "<a href=\"https://colab.research.google.com/github/suhayb-h/Acute-Lymphoblastic-Leukemia-Classifier/blob/main/2_Logistic_Regression_CNN.ipynb\" target=\"_parent\"><img src=\"https://colab.research.google.com/assets/colab-badge.svg\" alt=\"Open In Colab\"/></a>"
      ]
    },
    {
      "cell_type": "markdown",
      "source": [
        "# Acute Lymphoblastic Leukemia Classifier:\n",
        "## Notebook 2: Logistic Regression and Convolutional Neural Network Models\n",
        "##### Project Author: Suhayb Hafiz \n",
        "\n",
        "---\n",
        "\n",
        "Author is currently working on code commentary and additional markdown writing for this notebook\n"
      ],
      "metadata": {
        "id": "wtlopgXd7JUg"
      }
    },
    {
      "cell_type": "markdown",
      "metadata": {
        "id": "xLD0zrc064xW"
      },
      "source": [
        "## Introduction\n",
        "\n",
        "This notebook established a base model that would serve as a comparison baseline for other models. The initial intention was to construct a classic machine learning model, but such models required computational resources that were not available. Dealing with images through data generators proved to be computationally efficient and manageable, but data generators could only be used for tensorflow, pytorch or similar neural network libraries. \n",
        "\n",
        "The most appropriate base model to assess the data distribution was a simple logistic regression model. Since traditional classic modelling libraries would fail to compute the image data, a logistic regression model was built through tensorflow using a sequential neural network. Afterwards, more layers were added the logistic regression model to create a new simple sequential neural network."
      ]
    },
    {
      "cell_type": "markdown",
      "metadata": {
        "id": "xpkj4mTw64xY"
      },
      "source": [
        "The initial steps were to import relevant libraries, import the dataset and scale the data. As mentioned in the EDA notebook, the validation data set was utilized as the test set. For this reason, a new validation set was created by splitting the training set directly from the data generator. 17.5% of the training set was chosen to be used as the validation dataset simply because it roughly equates to the size of the original validation data set. \n",
        "\n",
        "Within the image data generators, all images were rescaled, randomly rotated, randomly flipped, and shuffled. These manipulations were established to implement as much randomness into the data as possible, while simultaneously maintaining the integrity of the images.  Since these images were round cells without obvious directional polarity, rotatating and flipping the cells should not affect the integrity of the sequential model. These manipulations also have an added benefit of increasing the percieved number of samples by the models. Finally, based on the analysis of colour distribution in the previous EDA report, images were forced to retain their colors before training the model."
      ]
    },
    {
      "cell_type": "code",
      "source": [
        "from google.colab import drive\n",
        "drive.mount('/content/drive/')"
      ],
      "metadata": {
        "colab": {
          "base_uri": "https://localhost:8080/"
        },
        "id": "H10OJUuT7qNL",
        "outputId": "a49d7dcb-2e58-4a5b-9259-ac2b1d7442f4"
      },
      "execution_count": null,
      "outputs": [
        {
          "output_type": "stream",
          "name": "stdout",
          "text": [
            "Mounted at /content/drive/\n"
          ]
        }
      ]
    },
    {
      "cell_type": "code",
      "execution_count": null,
      "metadata": {
        "id": "igpi-Pwsxisu"
      },
      "outputs": [],
      "source": [
        "import tensorflow as tf\n",
        "import numpy as np\n",
        "import pandas as pd\n",
        "from matplotlib import pyplot as plt\n",
        "from tensorflow.keras.layers import InputLayer\n",
        "from tensorflow.keras.models import Sequential\n",
        "from tensorflow.keras.layers import Conv2D, MaxPooling2D, Dense, Flatten, Dropout\n",
        "from sklearn.metrics import confusion_matrix\n",
        "from tensorflow.keras.preprocessing.image import ImageDataGenerator\n",
        "import seaborn as sns\n",
        "from tensorflow.keras.callbacks import EarlyStopping"
      ]
    },
    {
      "cell_type": "markdown",
      "metadata": {
        "id": "GjUZiGgO64xb"
      },
      "source": [
        "# Preparing the Data"
      ]
    },
    {
      "cell_type": "code",
      "execution_count": null,
      "metadata": {
        "colab": {
          "base_uri": "https://localhost:8080/"
        },
        "id": "xX9EChpkxzgE",
        "outputId": "279bacca-12d5-4898-f9ec-7141433a1b3c"
      },
      "outputs": [
        {
          "output_type": "stream",
          "name": "stdout",
          "text": [
            "Found 8796 images belonging to 2 classes.\n",
            "Found 1865 images belonging to 2 classes.\n"
          ]
        }
      ],
      "source": [
        "train_datagen = ImageDataGenerator(rescale=1./255, \n",
        "                                   rotation_range = 180, \n",
        "                                   horizontal_flip = True, \n",
        "                                   vertical_flip = True, \n",
        "                                   validation_split = 0.175)\n",
        "\n",
        "# Specified where images should be loaded from and additional attributes:\n",
        "train_generator = \\\n",
        "train_datagen.flow_from_directory(\n",
        "    '/content/drive/Othercomputers/My MacBook Air/C-NMC_Leukemia/training_data', \n",
        "    color_mode = 'rgb', \n",
        "    class_mode = 'categorical',\n",
        "    shuffle = True, \n",
        "    subset = 'training')\n",
        "\n",
        "validation_generator = \\\n",
        "train_datagen.flow_from_directory(\n",
        "    '/content/drive/Othercomputers/My MacBook Air/C-NMC_Leukemia/training_data', \n",
        "    color_mode = 'rgb', \n",
        "    class_mode = 'categorical',\n",
        "    shuffle = True, \n",
        "    subset = 'validation')"
      ]
    },
    {
      "cell_type": "markdown",
      "metadata": {
        "id": "kCpBdM4P64xd"
      },
      "source": [
        "As mentioned in the EDA notebook, the dataset for this project had a class imbalance, which could negatively impact the performance of the model. In order to combat this issue, a higher weight was assigned to \"hem\" cells as mentioned in the EDA report. These weights were then passed to the model during training."
      ]
    },
    {
      "cell_type": "code",
      "execution_count": null,
      "metadata": {
        "colab": {
          "base_uri": "https://localhost:8080/"
        },
        "id": "EmT3efYB64xd",
        "outputId": "f2144fd3-d4a6-4f79-eb72-f653b570620e"
      },
      "outputs": [
        {
          "output_type": "execute_result",
          "data": {
            "text/plain": [
              "2.145765712599587"
            ]
          },
          "metadata": {},
          "execution_count": 6
        }
      ],
      "source": [
        "# Weight calculation for normal lymphocytes:  \n",
        "# Number of cancer cells divided by the number of normal cells.\n",
        "\n",
        "7272/3389"
      ]
    },
    {
      "cell_type": "code",
      "execution_count": null,
      "metadata": {
        "colab": {
          "base_uri": "https://localhost:8080/"
        },
        "id": "e8t-ggKszmIR",
        "outputId": "fb8685e8-9fa7-4b83-b6b7-f96b34518dee"
      },
      "outputs": [
        {
          "output_type": "execute_result",
          "data": {
            "text/plain": [
              "{'all': 0, 'hem': 1}"
            ]
          },
          "metadata": {},
          "execution_count": 7
        }
      ],
      "source": [
        "# Specify how the machine names classes:\n",
        "\n",
        "class_names = validation_generator.class_indices\n",
        "class_names"
      ]
    },
    {
      "cell_type": "code",
      "execution_count": null,
      "metadata": {
        "id": "4-2YjejM364t"
      },
      "outputs": [],
      "source": [
        "# Weight of 2.15 is applied to 'hem' cells\n",
        "\n",
        "weights = {0: 1,\n",
        "           1: 2.15}"
      ]
    },
    {
      "cell_type": "markdown",
      "metadata": {
        "id": "fMxuAda564xf"
      },
      "source": [
        "# Logistic Regression Model"
      ]
    },
    {
      "cell_type": "markdown",
      "source": [
        "A simple logistic regression model is a binary classification model. It assigns labels to one of two classes based on a where a data point lies along a sigmoid curve. Neural networks are constructed in layers, in which each layer performs a newfound mathematical function. Each added new layer adds complexity to the model that can translate into better learning. In order to replicate a logistic regression model, a neural network needed to be constructed that had as little learning functionality as possible, implying that the model needed to be simple in it's construction. For this reason a model that comprised of only two layers was isntantiated. The first layer being the input layer, and the last layer being the output layer. Furthermore, the output layer was set to a sigmoidal activation parameter, thereby replicating the sigmoidal classification of a traditional logistic regression model. The model was constructed below:"
      ],
      "metadata": {
        "id": "BPlvgSFoavQj"
      }
    },
    {
      "cell_type": "code",
      "execution_count": null,
      "metadata": {
        "colab": {
          "base_uri": "https://localhost:8080/"
        },
        "id": "NqNSfxWU64xf",
        "outputId": "c82e6c4f-95e5-4513-a35e-84c1c4b667d5"
      },
      "outputs": [
        {
          "output_type": "stream",
          "name": "stdout",
          "text": [
            "Model: \"sequential\"\n",
            "_________________________________________________________________\n",
            " Layer (type)                Output Shape              Param #   \n",
            "=================================================================\n",
            " flatten (Flatten)           (None, 196608)            0         \n",
            "                                                                 \n",
            " dense (Dense)               (None, 2)                 393218    \n",
            "                                                                 \n",
            "=================================================================\n",
            "Total params: 393,218\n",
            "Trainable params: 393,218\n",
            "Non-trainable params: 0\n",
            "_________________________________________________________________\n"
          ]
        }
      ],
      "source": [
        "base_model = Sequential()\n",
        "\n",
        "base_model.add(InputLayer(input_shape=(256, 256, 3)))\n",
        "base_model.add(Flatten())\n",
        "\n",
        "# Simulate a classic 'Logistic Regression' model by constructing a neural network:\n",
        "# No layers were added between the input and output layers\n",
        "\n",
        "base_model.add(Dense(2, activation='sigmoid'))\n",
        "\n",
        "base_model.compile('SGD', # --> \n",
        "              loss=tf.losses.BinaryCrossentropy(), # -->\n",
        "              metrics = ['categorical_accuracy']) # -->\n",
        "base_model.summary()"
      ]
    },
    {
      "cell_type": "code",
      "execution_count": null,
      "metadata": {
        "colab": {
          "base_uri": "https://localhost:8080/"
        },
        "id": "KzFpEV8264xg",
        "outputId": "84df885a-be7b-402c-9d04-79e0ea0f1965"
      },
      "outputs": [
        {
          "output_type": "stream",
          "name": "stdout",
          "text": [
            "Epoch 1/25\n",
            "275/275 [==============================] - 2370s 9s/step - loss: 2.6459 - categorical_accuracy: 0.6892 - val_loss: 1.8556 - val_categorical_accuracy: 0.6434\n",
            "Epoch 2/25\n",
            "275/275 [==============================] - 149s 541ms/step - loss: 2.4932 - categorical_accuracy: 0.6988 - val_loss: 6.6564 - val_categorical_accuracy: 0.3180\n",
            "Epoch 3/25\n",
            "275/275 [==============================] - 149s 541ms/step - loss: 2.8723 - categorical_accuracy: 0.6867 - val_loss: 1.1833 - val_categorical_accuracy: 0.7603\n",
            "Epoch 4/25\n",
            "275/275 [==============================] - 149s 542ms/step - loss: 2.4197 - categorical_accuracy: 0.6950 - val_loss: 2.9479 - val_categorical_accuracy: 0.6971\n",
            "Epoch 5/25\n",
            "275/275 [==============================] - 149s 543ms/step - loss: 2.4965 - categorical_accuracy: 0.6984 - val_loss: 1.9438 - val_categorical_accuracy: 0.7426\n",
            "Epoch 6/25\n",
            "275/275 [==============================] - 149s 542ms/step - loss: 2.4589 - categorical_accuracy: 0.6988 - val_loss: 1.2033 - val_categorical_accuracy: 0.7619\n",
            "Epoch 7/25\n",
            "275/275 [==============================] - 149s 543ms/step - loss: 2.4073 - categorical_accuracy: 0.7080 - val_loss: 1.3975 - val_categorical_accuracy: 0.7614\n",
            "Epoch 8/25\n",
            "275/275 [==============================] - 149s 540ms/step - loss: 2.5055 - categorical_accuracy: 0.6955 - val_loss: 2.4684 - val_categorical_accuracy: 0.5126\n",
            "Epoch 9/25\n",
            "275/275 [==============================] - 151s 549ms/step - loss: 2.3720 - categorical_accuracy: 0.7030 - val_loss: 1.0428 - val_categorical_accuracy: 0.7501\n",
            "Epoch 10/25\n",
            "275/275 [==============================] - 149s 541ms/step - loss: 2.4049 - categorical_accuracy: 0.7054 - val_loss: 3.0630 - val_categorical_accuracy: 0.4054\n",
            "Epoch 11/25\n",
            "275/275 [==============================] - 149s 542ms/step - loss: 2.4994 - categorical_accuracy: 0.7005 - val_loss: 1.0583 - val_categorical_accuracy: 0.7641\n",
            "Epoch 12/25\n",
            "275/275 [==============================] - 149s 541ms/step - loss: 2.4749 - categorical_accuracy: 0.6986 - val_loss: 5.7919 - val_categorical_accuracy: 0.6804\n",
            "Epoch 13/25\n",
            "275/275 [==============================] - 149s 541ms/step - loss: 2.7565 - categorical_accuracy: 0.6949 - val_loss: 1.8364 - val_categorical_accuracy: 0.6316\n",
            "Epoch 14/25\n",
            "275/275 [==============================] - 149s 541ms/step - loss: 2.5948 - categorical_accuracy: 0.6985 - val_loss: 0.8168 - val_categorical_accuracy: 0.7807\n",
            "Epoch 15/25\n",
            "275/275 [==============================] - 148s 540ms/step - loss: 2.3413 - categorical_accuracy: 0.7033 - val_loss: 1.2804 - val_categorical_accuracy: 0.7651\n",
            "Epoch 16/25\n",
            "275/275 [==============================] - 148s 539ms/step - loss: 2.4732 - categorical_accuracy: 0.7002 - val_loss: 1.0331 - val_categorical_accuracy: 0.7828\n",
            "Epoch 17/25\n",
            "275/275 [==============================] - 148s 538ms/step - loss: 2.5076 - categorical_accuracy: 0.7002 - val_loss: 2.6612 - val_categorical_accuracy: 0.7201\n",
            "Epoch 18/25\n",
            "275/275 [==============================] - 148s 538ms/step - loss: 2.5268 - categorical_accuracy: 0.6982 - val_loss: 1.8602 - val_categorical_accuracy: 0.7534\n",
            "Epoch 19/25\n",
            "275/275 [==============================] - 148s 540ms/step - loss: 2.3754 - categorical_accuracy: 0.7094 - val_loss: 2.1188 - val_categorical_accuracy: 0.7276\n",
            "Epoch 20/25\n",
            "275/275 [==============================] - 149s 542ms/step - loss: 2.3713 - categorical_accuracy: 0.7048 - val_loss: 1.0311 - val_categorical_accuracy: 0.7727\n",
            "Epoch 21/25\n",
            "275/275 [==============================] - 148s 537ms/step - loss: 2.4219 - categorical_accuracy: 0.7004 - val_loss: 1.2714 - val_categorical_accuracy: 0.7534\n",
            "Epoch 22/25\n",
            "275/275 [==============================] - 148s 537ms/step - loss: 2.3060 - categorical_accuracy: 0.7166 - val_loss: 0.7397 - val_categorical_accuracy: 0.7936\n",
            "Epoch 23/25\n",
            "275/275 [==============================] - 147s 537ms/step - loss: 2.5182 - categorical_accuracy: 0.7008 - val_loss: 0.8649 - val_categorical_accuracy: 0.7834\n",
            "Epoch 24/25\n",
            "275/275 [==============================] - 148s 539ms/step - loss: 2.2228 - categorical_accuracy: 0.7119 - val_loss: 0.9571 - val_categorical_accuracy: 0.7555\n",
            "Epoch 25/25\n",
            "275/275 [==============================] - 148s 538ms/step - loss: 2.2856 - categorical_accuracy: 0.7093 - val_loss: 0.9345 - val_categorical_accuracy: 0.7764\n"
          ]
        }
      ],
      "source": [
        "early_stop = EarlyStopping(monitor = 'val_categorical_accuracy', \n",
        "                           patience = 10,  \n",
        "                           verbose = 1)\n",
        "\n",
        "model_0 = base_model.fit(train_generator, \n",
        "                        epochs=25,\n",
        "                        validation_data = validation_generator, \n",
        "                        shuffle=True, \n",
        "                        class_weight = weights,\n",
        "                        callbacks = [early_stop])"
      ]
    },
    {
      "cell_type": "code",
      "execution_count": null,
      "metadata": {
        "colab": {
          "base_uri": "https://localhost:8080/",
          "height": 308
        },
        "id": "I7ZofCK964xg",
        "outputId": "ee66b751-949c-47d0-c007-91b188c21685"
      },
      "outputs": [
        {
          "output_type": "display_data",
          "data": {
            "text/plain": [
              "<Figure size 432x288 with 2 Axes>"
            ],
            "image/png": "[encoded data removed]"
          },
          "metadata": {
            "needs_background": "light"
          }
        }
      ],
      "source": [
        "fig = plt.figure()\n",
        "\n",
        "plt.subplot(1, 2, 1)\n",
        "plt.plot(model_0.history['loss'], \n",
        "         color = 'teal', \n",
        "         label = 'loss')\n",
        "plt.plot(model_0.history['val_loss'], \n",
        "         color = 'orange', \n",
        "         label = 'val_loss')\n",
        "fig.suptitle('Loss', fontsize=20)\n",
        "plt.legend(loc = \"upper left\")\n",
        "plt.ylabel('Loss')\n",
        "plt.xlabel('Epochs')\n",
        "\n",
        "plt.subplot(1, 2, 2)\n",
        "plt.plot(model_0.history['categorical_accuracy'], \n",
        "         color = 'teal', \n",
        "         label = 'accuracy')\n",
        "plt.plot(model_0.history['val_categorical_accuracy'], \n",
        "         color = 'orange', \n",
        "         label = 'val_accuracy')\n",
        "fig.suptitle('Accuracy', fontsize = 20)\n",
        "plt.legend(loc = \"upper left\")\n",
        "plt.ylabel('Accuracy')\n",
        "plt.xlabel('Epochs')\n",
        "\n",
        "plt.subplots_adjust(wspace=1) \n",
        "plt.show()"
      ]
    },
    {
      "cell_type": "markdown",
      "metadata": {
        "id": "VsLKflyy64xg"
      },
      "source": [
        "As previously stated in the EDA notebook, the CSV file that was provided with the original data needed to have its' labels swapped, and this task was completed in the coding cell below. This new column served as the target by which the test data will be assessed on. "
      ]
    },
    {
      "cell_type": "code",
      "execution_count": null,
      "metadata": {
        "colab": {
          "base_uri": "https://localhost:8080/",
          "height": 424
        },
        "id": "UOT-NuCB64xh",
        "outputId": "c4466789-854b-43d8-91d8-4e67e0749e1a"
      },
      "outputs": [
        {
          "output_type": "execute_result",
          "data": {
            "text/plain": [
              "                Patient_ID new_names labels true_labels\n",
              "0      UID_57_29_1_all.bmp     1.bmp      1           0\n",
              "1      UID_57_22_2_all.bmp     2.bmp      1           0\n",
              "2      UID_57_31_3_all.bmp     3.bmp      1           0\n",
              "3     UID_H49_35_1_hem.bmp     4.bmp      0           1\n",
              "4      UID_58_6_13_all.bmp     5.bmp      1           0\n",
              "...                    ...       ...    ...         ...\n",
              "1862   UID_54_33_1_all.bmp  1863.bmp      1           0\n",
              "1863   UID_55_24_1_all.bmp  1864.bmp      1           0\n",
              "1864  UID_H32_20_1_hem.bmp  1865.bmp      0           1\n",
              "1865   UID_54_30_2_all.bmp  1866.bmp      1           0\n",
              "1866   UID_66_10_3_all.bmp  1867.bmp      1           0\n",
              "\n",
              "[1867 rows x 4 columns]"
            ],
            "text/html": [
              "\n",
              "  <div id=\"df-f94ae4f5-1056-4f90-995f-8b354de4ba4f\">\n",
              "    <div class=\"colab-df-container\">\n",
              "      <div>\n",
              "<style scoped>\n",
              "    .dataframe tbody tr th:only-of-type {\n",
              "        vertical-align: middle;\n",
              "    }\n",
              "\n",
              "    .dataframe tbody tr th {\n",
              "        vertical-align: top;\n",
              "    }\n",
              "\n",
              "    .dataframe thead th {\n",
              "        text-align: right;\n",
              "    }\n",
              "</style>\n",
              "<table border=\"1\" class=\"dataframe\">\n",
              "  <thead>\n",
              "    <tr style=\"text-align: right;\">\n",
              "      <th></th>\n",
              "      <th>Patient_ID</th>\n",
              "      <th>new_names</th>\n",
              "      <th>labels</th>\n",
              "      <th>true_labels</th>\n",
              "    </tr>\n",
              "  </thead>\n",
              "  <tbody>\n",
              "    <tr>\n",
              "      <th>0</th>\n",
              "      <td>UID_57_29_1_all.bmp</td>\n",
              "      <td>1.bmp</td>\n",
              "      <td>1</td>\n",
              "      <td>0</td>\n",
              "    </tr>\n",
              "    <tr>\n",
              "      <th>1</th>\n",
              "      <td>UID_57_22_2_all.bmp</td>\n",
              "      <td>2.bmp</td>\n",
              "      <td>1</td>\n",
              "      <td>0</td>\n",
              "    </tr>\n",
              "    <tr>\n",
              "      <th>2</th>\n",
              "      <td>UID_57_31_3_all.bmp</td>\n",
              "      <td>3.bmp</td>\n",
              "      <td>1</td>\n",
              "      <td>0</td>\n",
              "    </tr>\n",
              "    <tr>\n",
              "      <th>3</th>\n",
              "      <td>UID_H49_35_1_hem.bmp</td>\n",
              "      <td>4.bmp</td>\n",
              "      <td>0</td>\n",
              "      <td>1</td>\n",
              "    </tr>\n",
              "    <tr>\n",
              "      <th>4</th>\n",
              "      <td>UID_58_6_13_all.bmp</td>\n",
              "      <td>5.bmp</td>\n",
              "      <td>1</td>\n",
              "      <td>0</td>\n",
              "    </tr>\n",
              "    <tr>\n",
              "      <th>...</th>\n",
              "      <td>...</td>\n",
              "      <td>...</td>\n",
              "      <td>...</td>\n",
              "      <td>...</td>\n",
              "    </tr>\n",
              "    <tr>\n",
              "      <th>1862</th>\n",
              "      <td>UID_54_33_1_all.bmp</td>\n",
              "      <td>1863.bmp</td>\n",
              "      <td>1</td>\n",
              "      <td>0</td>\n",
              "    </tr>\n",
              "    <tr>\n",
              "      <th>1863</th>\n",
              "      <td>UID_55_24_1_all.bmp</td>\n",
              "      <td>1864.bmp</td>\n",
              "      <td>1</td>\n",
              "      <td>0</td>\n",
              "    </tr>\n",
              "    <tr>\n",
              "      <th>1864</th>\n",
              "      <td>UID_H32_20_1_hem.bmp</td>\n",
              "      <td>1865.bmp</td>\n",
              "      <td>0</td>\n",
              "      <td>1</td>\n",
              "    </tr>\n",
              "    <tr>\n",
              "      <th>1865</th>\n",
              "      <td>UID_54_30_2_all.bmp</td>\n",
              "      <td>1866.bmp</td>\n",
              "      <td>1</td>\n",
              "      <td>0</td>\n",
              "    </tr>\n",
              "    <tr>\n",
              "      <th>1866</th>\n",
              "      <td>UID_66_10_3_all.bmp</td>\n",
              "      <td>1867.bmp</td>\n",
              "      <td>1</td>\n",
              "      <td>0</td>\n",
              "    </tr>\n",
              "  </tbody>\n",
              "</table>\n",
              "<p>1867 rows × 4 columns</p>\n",
              "</div>\n",
              "      <button class=\"colab-df-convert\" onclick=\"convertToInteractive('df-f94ae4f5-1056-4f90-995f-8b354de4ba4f')\"\n",
              "              title=\"Convert this dataframe to an interactive table.\"\n",
              "              style=\"display:none;\">\n",
              "        \n",
              "  <svg xmlns=\"http://www.w3.org/2000/svg\" height=\"24px\"viewBox=\"0 0 24 24\"\n",
              "       width=\"24px\">\n",
              "    <path d=\"M0 0h24v24H0V0z\" fill=\"none\"/>\n",
              "    <path d=\"M18.56 5.44l.94 2.06.94-2.06 2.06-.94-2.06-.94-.94-2.06-.94 2.06-2.06.94zm-11 1L8.5 8.5l.94-2.06 2.06-.94-2.06-.94L8.5 2.5l-.94 2.06-2.06.94zm10 10l.94 2.06.94-2.06 2.06-.94-2.06-.94-.94-2.06-.94 2.06-2.06.94z\"/><path d=\"M17.41 7.96l-1.37-1.37c-.4-.4-.92-.59-1.43-.59-.52 0-1.04.2-1.43.59L10.3 9.45l-7.72 7.72c-.78.78-.78 2.05 0 2.83L4 21.41c.39.39.9.59 1.41.59.51 0 1.02-.2 1.41-.59l7.78-7.78 2.81-2.81c.8-.78.8-2.07 0-2.86zM5.41 20L4 18.59l7.72-7.72 1.47 1.35L5.41 20z\"/>\n",
              "  </svg>\n",
              "      </button>\n",
              "      \n",
              "  <style>\n",
              "    .colab-df-container {\n",
              "      display:flex;\n",
              "      flex-wrap:wrap;\n",
              "      gap: 12px;\n",
              "    }\n",
              "\n",
              "    .colab-df-convert {\n",
              "      background-color: #E8F0FE;\n",
              "      border: none;\n",
              "      border-radius: 50%;\n",
              "      cursor: pointer;\n",
              "      display: none;\n",
              "      fill: #1967D2;\n",
              "      height: 32px;\n",
              "      padding: 0 0 0 0;\n",
              "      width: 32px;\n",
              "    }\n",
              "\n",
              "    .colab-df-convert:hover {\n",
              "      background-color: #E2EBFA;\n",
              "      box-shadow: 0px 1px 2px rgba(60, 64, 67, 0.3), 0px 1px 3px 1px rgba(60, 64, 67, 0.15);\n",
              "      fill: #174EA6;\n",
              "    }\n",
              "\n",
              "    [theme=dark] .colab-df-convert {\n",
              "      background-color: #3B4455;\n",
              "      fill: #D2E3FC;\n",
              "    }\n",
              "\n",
              "    [theme=dark] .colab-df-convert:hover {\n",
              "      background-color: #434B5C;\n",
              "      box-shadow: 0px 1px 3px 1px rgba(0, 0, 0, 0.15);\n",
              "      filter: drop-shadow(0px 1px 2px rgba(0, 0, 0, 0.3));\n",
              "      fill: #FFFFFF;\n",
              "    }\n",
              "  </style>\n",
              "\n",
              "      <script>\n",
              "        const buttonEl =\n",
              "          document.querySelector('#df-f94ae4f5-1056-4f90-995f-8b354de4ba4f button.colab-df-convert');\n",
              "        buttonEl.style.display =\n",
              "          google.colab.kernel.accessAllowed ? 'block' : 'none';\n",
              "\n",
              "        async function convertToInteractive(key) {\n",
              "          const element = document.querySelector('#df-f94ae4f5-1056-4f90-995f-8b354de4ba4f');\n",
              "          const dataTable =\n",
              "            await google.colab.kernel.invokeFunction('convertToInteractive',\n",
              "                                                     [key], {});\n",
              "          if (!dataTable) return;\n",
              "\n",
              "          const docLinkHtml = 'Like what you see? Visit the ' +\n",
              "            '<a target=\"_blank\" href=https://colab.research.google.com/notebooks/data_table.ipynb>data table notebook</a>'\n",
              "            + ' to learn more about interactive tables.';\n",
              "          element.innerHTML = '';\n",
              "          dataTable['output_type'] = 'display_data';\n",
              "          await google.colab.output.renderOutput(dataTable, element);\n",
              "          const docLink = document.createElement('div');\n",
              "          docLink.innerHTML = docLinkHtml;\n",
              "          element.appendChild(docLink);\n",
              "        }\n",
              "      </script>\n",
              "    </div>\n",
              "  </div>\n",
              "  "
            ]
          },
          "metadata": {},
          "execution_count": 16
        }
      ],
      "source": [
        "df_test = \\\n",
        "pd.read_csv(\n",
        "    '/content/drive/Othercomputers/My MacBook Air/C-NMC_Leukemia/validation_data/C-NMC_test_prelim_phase_data_labels.csv', \n",
        "    dtype = str)\n",
        "\n",
        "# a new column called labels_ was created wherein 'all' patients are labelled 0 \n",
        "df_test.loc[df_test['Patient_ID'].str.contains('all'), 'true_labels'] = '0'\n",
        "\n",
        "# labels_ was also given a label 1 for any patients that were non-cancerous\n",
        "df_test.loc[df_test['Patient_ID'].str.contains('hem'), 'true_labels'] = '1'\n",
        "\n",
        "df_test"
      ]
    },
    {
      "cell_type": "code",
      "execution_count": null,
      "metadata": {
        "colab": {
          "base_uri": "https://localhost:8080/"
        },
        "id": "9A4va7cJ64xh",
        "outputId": "d0b0b531-029c-402f-b34a-27a10e7fea2e"
      },
      "outputs": [
        {
          "output_type": "stream",
          "name": "stdout",
          "text": [
            "Found 1867 validated image filenames belonging to 2 classes.\n"
          ]
        }
      ],
      "source": [
        "# Apply the same rescaling factor as our other generators\n",
        "test_datagen = ImageDataGenerator(rescale=1./255)\n",
        "test_generator = \\\n",
        "test_datagen.flow_from_dataframe(\n",
        "    dataframe = df_test,\n",
        "    directory = \\\n",
        "    '/content/drive/Othercomputers/My MacBook Air/C-NMC_Leukemia/validation_data/C-NMC_test_prelim_phase_data',\n",
        "    batch_size = 100,\n",
        "    x_col = 'new_names',\n",
        "    y_col = 'true_labels',\n",
        "    color_mode = 'rgb',\n",
        "    class_mode = 'categorical')\n",
        "\n",
        "X_test, y_test = test_generator.next()"
      ]
    },
    {
      "cell_type": "code",
      "execution_count": null,
      "metadata": {
        "colab": {
          "base_uri": "https://localhost:8080/"
        },
        "id": "6UgF2gGx64xh",
        "outputId": "b3635b4d-3455-4bab-dff2-992d91842641"
      },
      "outputs": [
        {
          "output_type": "stream",
          "name": "stdout",
          "text": [
            "4/4 [==============================] - 0s 8ms/step - loss: 1.4140 - categorical_accuracy: 0.6900\n",
            "Test loss: 1.4139928817749023\n",
            "Test accuracy: 0.6899999976158142\n"
          ]
        }
      ],
      "source": [
        "score_0 = base_model.evaluate(X_test, y_test)\n",
        "\n",
        "print('Test loss:', score_0[0])\n",
        "print('Test accuracy:', score_0[1])"
      ]
    },
    {
      "cell_type": "code",
      "execution_count": null,
      "metadata": {
        "id": "gvBckXL264xi"
      },
      "outputs": [],
      "source": [
        "# Calculate the predictions\n",
        "predict_probas_0 = base_model.predict(X_test)\n",
        "\n",
        "# Convert probabilities to label encoding\n",
        "y_predict_0 = np.argmax(predict_probas_0, axis=1)"
      ]
    },
    {
      "cell_type": "code",
      "execution_count": null,
      "metadata": {
        "colab": {
          "base_uri": "https://localhost:8080/",
          "height": 422
        },
        "id": "2-RUGqif64xi",
        "outputId": "e06448eb-c2da-41e1-b41b-512a5d077a3c"
      },
      "outputs": [
        {
          "output_type": "display_data",
          "data": {
            "text/plain": [
              "<Figure size 576x432 with 1 Axes>"
            ],
            "image/png": "[encoded data removed]"
          },
          "metadata": {
            "needs_background": "light"
          }
        }
      ],
      "source": [
        "y_test_labels = np.argmax(y_test, axis=1)\n",
        "conf_mat_0 = confusion_matrix(y_test_labels, y_predict_0)\n",
        "\n",
        "plt.figure(figsize = (8,6))\n",
        "sns.heatmap(conf_mat_0,\n",
        "            annot=True,\n",
        "            cbar=False,\n",
        "            xticklabels = class_names,\n",
        "            yticklabels = class_names,\n",
        "            cmap = \"rocket_r\",\n",
        "            linewidths = 1)\n",
        "plt.title('Confusion Matrix for Logistic Regression', \n",
        "          size = 25, \n",
        "          y = 1)\n",
        "plt.xlabel(\"Predicted Label\", size = 20)\n",
        "plt.ylabel(\"True Label\", size = 20)\n",
        "plt.show()"
      ]
    },
    {
      "cell_type": "markdown",
      "metadata": {
        "id": "mGec1sNO64xf"
      },
      "source": [
        "Sequential models are constructed by adding layers and adjusting the parameters of each individual layer. The model constructed in this notebook was created with three 2-dimnsional convlution layers, followed by a flattened layer and 2 dense layers. The convolutional layers recieved the most adjustment in terms of parameter optimization. Regularizers were established on these layers with the sole purpose of reducing overfitting. Two regularizers were available, L1 and L2, with the option to utilize both regularizers in conjuntion for each parameter. Ultimately, L2 was chosen as the sole regularizer since it specifically serves the function of reducing overfitting. Each convolutional layer was also given a dropout function, since doing so also reduces overfitting. All three layers were also given maximum pooling layers. The final output layer of this model was set to a sigmoid activating dense layer with two outputs. This output layer serves to provide a binary classification between two final results, those being cancerous and non-cancerous."
      ]
    },
    {
      "cell_type": "markdown",
      "metadata": {
        "id": "EPvRD7Yd64xi"
      },
      "source": [
        "# Neural Network Model"
      ]
    },
    {
      "cell_type": "code",
      "execution_count": null,
      "metadata": {
        "id": "AKF_jsbq721k"
      },
      "outputs": [],
      "source": [
        "model = Sequential()\n",
        "\n",
        "model.add(Conv2D(16, (3,3), 1, activation = 'relu', \n",
        "                 #input_shape = (480, 480, 3)\n",
        "                 ))\n",
        "model.add(MaxPooling2D())\n",
        "model.add(Dropout(0.2))\n",
        "\n",
        "model.add(Conv2D(32, (3,3), 1, activation = 'relu'))\n",
        "model.add(MaxPooling2D())\n",
        "model.add(Dropout(0.2))\n",
        "\n",
        "model.add(Conv2D(16, (3,3), 1, activation = 'relu'))\n",
        "model.add(MaxPooling2D())\n",
        "model.add(Dropout(0.2))\n",
        "\n",
        "model.add(Flatten())\n",
        "\n",
        "#model.add(Dense(256, activation = 'relu'))\n",
        "model.add(Dense(2, activation = 'sigmoid'))\n",
        "\n",
        "model.compile('SGD', \n",
        "              loss = tf.losses.CategoricalCrossentropy(), \n",
        "              metrics = ['categorical_accuracy'])\n",
        "#model.summary()"
      ]
    },
    {
      "cell_type": "code",
      "execution_count": null,
      "metadata": {
        "colab": {
          "base_uri": "https://localhost:8080/"
        },
        "id": "6kSnI106-e_0",
        "outputId": "133a69a9-2f47-4650-e259-ee03f55d8139"
      },
      "outputs": [
        {
          "output_type": "stream",
          "name": "stdout",
          "text": [
            "Epoch 1/50\n",
            "275/275 [==============================] - 152s 547ms/step - loss: 0.7287 - categorical_accuracy: 0.7713 - val_loss: 0.5434 - val_categorical_accuracy: 0.7458\n",
            "Epoch 2/50\n",
            "275/275 [==============================] - 150s 545ms/step - loss: 0.6850 - categorical_accuracy: 0.7843 - val_loss: 0.5299 - val_categorical_accuracy: 0.7458\n",
            "Epoch 3/50\n",
            "275/275 [==============================] - 151s 548ms/step - loss: 0.6729 - categorical_accuracy: 0.7893 - val_loss: 0.5230 - val_categorical_accuracy: 0.7383\n",
            "Epoch 4/50\n",
            "275/275 [==============================] - 151s 551ms/step - loss: 0.6710 - categorical_accuracy: 0.7917 - val_loss: 0.5370 - val_categorical_accuracy: 0.7475\n",
            "Epoch 5/50\n",
            "275/275 [==============================] - 151s 548ms/step - loss: 0.6696 - categorical_accuracy: 0.7917 - val_loss: 0.5588 - val_categorical_accuracy: 0.7458\n",
            "Epoch 6/50\n",
            "275/275 [==============================] - 152s 554ms/step - loss: 0.6682 - categorical_accuracy: 0.7897 - val_loss: 0.5408 - val_categorical_accuracy: 0.7416\n",
            "Epoch 7/50\n",
            "275/275 [==============================] - 150s 545ms/step - loss: 0.6676 - categorical_accuracy: 0.7912 - val_loss: 0.5340 - val_categorical_accuracy: 0.7362\n",
            "Epoch 8/50\n",
            "275/275 [==============================] - 150s 547ms/step - loss: 0.6644 - categorical_accuracy: 0.7930 - val_loss: 0.5421 - val_categorical_accuracy: 0.7469\n",
            "Epoch 9/50\n",
            "275/275 [==============================] - 151s 550ms/step - loss: 0.6675 - categorical_accuracy: 0.7926 - val_loss: 0.5868 - val_categorical_accuracy: 0.7399\n",
            "Epoch 10/50\n",
            "275/275 [==============================] - 152s 552ms/step - loss: 0.6630 - categorical_accuracy: 0.7934 - val_loss: 0.5497 - val_categorical_accuracy: 0.7501\n",
            "Epoch 11/50\n",
            "275/275 [==============================] - 155s 564ms/step - loss: 0.6609 - categorical_accuracy: 0.7938 - val_loss: 0.5302 - val_categorical_accuracy: 0.7319\n",
            "Epoch 12/50\n",
            "275/275 [==============================] - 155s 565ms/step - loss: 0.6647 - categorical_accuracy: 0.7933 - val_loss: 0.5443 - val_categorical_accuracy: 0.7512\n",
            "Epoch 13/50\n",
            "275/275 [==============================] - 154s 561ms/step - loss: 0.6586 - categorical_accuracy: 0.7949 - val_loss: 0.5549 - val_categorical_accuracy: 0.7491\n",
            "Epoch 14/50\n",
            "275/275 [==============================] - 154s 559ms/step - loss: 0.6596 - categorical_accuracy: 0.7960 - val_loss: 0.5364 - val_categorical_accuracy: 0.7550\n",
            "Epoch 15/50\n",
            "275/275 [==============================] - 154s 560ms/step - loss: 0.6570 - categorical_accuracy: 0.7966 - val_loss: 0.5530 - val_categorical_accuracy: 0.7469\n",
            "Epoch 16/50\n",
            "275/275 [==============================] - 155s 564ms/step - loss: 0.6598 - categorical_accuracy: 0.7942 - val_loss: 0.5297 - val_categorical_accuracy: 0.7351\n",
            "Epoch 17/50\n",
            "275/275 [==============================] - 154s 560ms/step - loss: 0.6570 - categorical_accuracy: 0.7998 - val_loss: 0.5557 - val_categorical_accuracy: 0.7512\n",
            "Epoch 18/50\n",
            "275/275 [==============================] - 154s 559ms/step - loss: 0.6571 - categorical_accuracy: 0.7966 - val_loss: 0.5393 - val_categorical_accuracy: 0.7405\n",
            "Epoch 19/50\n",
            "275/275 [==============================] - 153s 555ms/step - loss: 0.6572 - categorical_accuracy: 0.7957 - val_loss: 0.5398 - val_categorical_accuracy: 0.7528\n",
            "Epoch 20/50\n",
            "275/275 [==============================] - 153s 555ms/step - loss: 0.6560 - categorical_accuracy: 0.7956 - val_loss: 0.5301 - val_categorical_accuracy: 0.7421\n",
            "Epoch 21/50\n",
            "275/275 [==============================] - 153s 557ms/step - loss: 0.6565 - categorical_accuracy: 0.7949 - val_loss: 0.5443 - val_categorical_accuracy: 0.7550\n",
            "Epoch 22/50\n",
            "275/275 [==============================] - 153s 555ms/step - loss: 0.6554 - categorical_accuracy: 0.7965 - val_loss: 0.5571 - val_categorical_accuracy: 0.7539\n",
            "Epoch 23/50\n",
            "275/275 [==============================] - 154s 561ms/step - loss: 0.6535 - categorical_accuracy: 0.7975 - val_loss: 0.5462 - val_categorical_accuracy: 0.7539\n",
            "Epoch 24/50\n",
            "275/275 [==============================] - 153s 555ms/step - loss: 0.6518 - categorical_accuracy: 0.7959 - val_loss: 0.5366 - val_categorical_accuracy: 0.7534\n",
            "Epoch 24: early stopping\n"
          ]
        }
      ],
      "source": [
        "model_1 = model.fit(train_generator, \n",
        "                 epochs = 50, \n",
        "                 validation_data = validation_generator, \n",
        "                 class_weight = weights,\n",
        "                 callbacks = [early_stop])"
      ]
    },
    {
      "cell_type": "code",
      "execution_count": null,
      "metadata": {
        "id": "fU1zD12n_Mit",
        "colab": {
          "base_uri": "https://localhost:8080/",
          "height": 308
        },
        "outputId": "6f702d55-b81f-4fe2-f5d5-4ab993fb907d"
      },
      "outputs": [
        {
          "output_type": "display_data",
          "data": {
            "text/plain": [
              "<Figure size 432x288 with 2 Axes>"
            ],
            "image/png": "[encoded data removed]"
          },
          "metadata": {
            "needs_background": "light"
          }
        }
      ],
      "source": [
        "fig = plt.figure()\n",
        "\n",
        "plt.subplot(1, 2, 1)\n",
        "plt.plot(model_1.history['loss'], \n",
        "         color = 'teal', \n",
        "         label = 'loss')\n",
        "plt.plot(model_1.history['val_loss'], \n",
        "         color = 'orange', \n",
        "         label = 'val_loss')\n",
        "fig.suptitle('Loss', fontsize=20)\n",
        "plt.legend(loc = \"upper left\")\n",
        "plt.ylabel('Loss')\n",
        "plt.xlabel('Epochs')\n",
        "\n",
        "plt.subplot(1, 2, 2)\n",
        "plt.plot(model_1.history['categorical_accuracy'], \n",
        "         color = 'teal', \n",
        "         label = 'accuracy')\n",
        "plt.plot(model_1.history['val_categorical_accuracy'], \n",
        "         color = 'orange', \n",
        "         label = 'val_accuracy')\n",
        "fig.suptitle('Accuracy', fontsize=20)\n",
        "plt.legend(loc = \"upper left\")\n",
        "plt.ylabel('Accuracy')\n",
        "plt.xlabel('Epochs')\n",
        "\n",
        "plt.subplots_adjust(wspace=1) \n",
        "plt.show()"
      ]
    },
    {
      "cell_type": "markdown",
      "metadata": {
        "id": "UZhYDitf64xk"
      },
      "source": [
        "The final phase of analysis was to assess the models performance on the testing data. Just as for the training and validation data, the testing data was imported via an image generator. However, in the original dataset, the validation data was was labelled differently than the training set. This issue was discussed further in the EDA notebook. For this reason, a different methodology was used to import the data. The validation images were imported and labelled in accordance to the CSV file (and subsequent extracted dataframe) that was provided with the original data. The same parameter optimizations that were utilized for the training and validation generators were utilized for the test generator as well. "
      ]
    },
    {
      "cell_type": "code",
      "execution_count": null,
      "metadata": {
        "colab": {
          "base_uri": "https://localhost:8080/"
        },
        "id": "WkvWiqZ_64xk",
        "outputId": "76efb3db-6b3c-4d76-bc4d-f65c1ff75665"
      },
      "outputs": [
        {
          "output_type": "stream",
          "name": "stdout",
          "text": [
            "4/4 [==============================] - 0s 19ms/step - loss: 0.6412 - categorical_accuracy: 0.6700\n",
            "Test loss: 0.6411870718002319\n",
            "Test accuracy: 0.6700000166893005\n"
          ]
        }
      ],
      "source": [
        "# Evaluate the model's performance on the test data\n",
        "score_1 = model.evaluate(X_test, y_test)\n",
        "\n",
        "print('Test loss:', score_1[0])\n",
        "print('Test accuracy:', score_1[1])"
      ]
    },
    {
      "cell_type": "code",
      "execution_count": null,
      "metadata": {
        "id": "a2iRsWPQ64xk"
      },
      "outputs": [],
      "source": [
        "# Calculate the predictions\n",
        "predict_probas_1 = model.predict(X_test)\n",
        "\n",
        "# Convert probabilities to label encoding\n",
        "y_predict_1 = np.argmax(predict_probas_1, axis=1)"
      ]
    },
    {
      "cell_type": "code",
      "execution_count": null,
      "metadata": {
        "colab": {
          "base_uri": "https://localhost:8080/",
          "height": 422
        },
        "id": "9Iq6Xl4C64xl",
        "outputId": "07b4deff-90f4-4f19-ff8b-169738f254c3"
      },
      "outputs": [
        {
          "output_type": "display_data",
          "data": {
            "text/plain": [
              "<Figure size 576x432 with 1 Axes>"
            ],
            "image/png": "[encoded data removed]"
          },
          "metadata": {
            "needs_background": "light"
          }
        }
      ],
      "source": [
        "conf_mat_1 = confusion_matrix(y_test_labels, y_predict_1)\n",
        "\n",
        "plt.figure(figsize = (8,6))\n",
        "sns.heatmap(conf_mat_1,\n",
        "            annot=True,\n",
        "            cbar=False,\n",
        "            xticklabels = class_names,\n",
        "            yticklabels = class_names,\n",
        "            cmap = \"rocket_r\",\n",
        "            linewidths = 1)\n",
        "plt.title('Confusion Matrix for Sequential CNN', \n",
        "          size = 25, \n",
        "          y = 1.01)\n",
        "plt.xlabel(\"Predicted Label\", size = 20)\n",
        "plt.ylabel(\"True Label\", size = 20)\n",
        "plt.show()"
      ]
    }
  ],
  "metadata": {
    "accelerator": "GPU",
    "colab": {
      "machine_shape": "hm",
      "name": "2_Logistic_Regression:CNN.ipynb",
      "provenance": [],
      "include_colab_link": true
    },
    "gpuClass": "standard",
    "kernelspec": {
      "display_name": "Python 3.8.13 ('deeplearning')",
      "language": "python",
      "name": "python3"
    },
    "language_info": {
      "codemirror_mode": {
        "name": "ipython",
        "version": 3
      },
      "file_extension": ".py",
      "mimetype": "text/x-python",
      "name": "python",
      "nbconvert_exporter": "python",
      "pygments_lexer": "ipython3",
      "version": "3.8.13"
    },
    "vscode": {
      "interpreter": {
        "hash": "273d489d297b00ca4249bd56ca235947d5c672f5aad333aaf3138058574823b8"
      }
    }
  },
  "nbformat": 4,
  "nbformat_minor": 0
}