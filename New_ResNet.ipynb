{
  "nbformat": 4,
  "nbformat_minor": 0,
  "metadata": {
    "colab": {
      "provenance": [],
      "machine_shape": "hm",
      "authorship_tag": "ABX9TyMl6JxPC0v+LTENC3vRjPLg",
      "include_colab_link": true
    },
    "kernelspec": {
      "name": "python3",
      "display_name": "Python 3"
    },
    "language_info": {
      "name": "python"
    },
    "accelerator": "GPU"
  },
  "cells": [
    {
      "cell_type": "markdown",
      "metadata": {
        "id": "view-in-github",
        "colab_type": "text"
      },
      "source": [
        "<a href=\"https://colab.research.google.com/github/suhayb-h/Acute-Lymphoblastic-Leukemia-Classifier/blob/main/New_ResNet.ipynb\" target=\"_parent\"><img src=\"https://colab.research.google.com/assets/colab-badge.svg\" alt=\"Open In Colab\"/></a>"
      ]
    },
    {
      "cell_type": "markdown",
      "source": [
        "This final notebook outlines building a transfer learning neural network to identify lymphoblasts as being cancerous or normal.\n",
        "\n",
        "Transfer learning requires a pre-trained neural network to serve as a starting point in model construction. In the context of image classification, a ready-made model trained on a large and generalized dataset will serve as a generic model of the visual world. New layers can be added to the base model and only these new layers will be trained towards the specified task of interest. In the case of this project, the task is to correctly identify images in the ISBI-2019 dataset as cancerous or normal. As an analogy, the machine needs to be 'specialized' much like physicians, clinicians and scientists need to specialize their knowledge of the entire visual world towards interpreting images of cells and microscopic features.\n",
        "\n",
        "A pre-trained image classifier model is a documented and openly available network that was previously trained on a extensive dataset of random images. For this project, a pre-trained model will be used directly from TensorFlow Hub, a repository of pre-trained TensorFlow models. Once a model has been loaded, new layers were added to allow for transfer learning to fine-tune the model to serve as an ALL classifier model.\n",
        "\n",
        "There are two ways to customize the pre-trained model:\n",
        "\n",
        "*   Feature Extraction: Use the representations learned by a previous network to extract meaningful features from new samples. You simply add a new classifier, which will be trained from scratch, on top of the pretrained model so that you can repurpose the feature maps learned previously for the dataset.\n",
        "\n",
        "*   Fine-Tuning: Unfreeze a few of the top layers of a frozen model base and jointly train both the newly-added classifier layers and the last layers of the base model. This allows us to \"fine-tune\" the higher-order feature representations in the base model in order to make them more relevant for the specific task.\n",
        "\n",
        "Data augmentation serves as a central principal that will be applied to all models in this project. The purpose of this practice was to increase the diversity of the training set by applying random, yet realistic, transformations to the dataset to create new images for the dataset. These transformations include image flipping and image rotation."
      ],
      "metadata": {
        "id": "l80YLJTRRheu"
      }
    },
    {
      "cell_type": "markdown",
      "source": [
        "Compose the model\n",
        "\n",
        "*   Load in the pretrained base model and corresponding pretrained weights\n",
        "*   Stack the classification layers on top"
      ],
      "metadata": {
        "id": "dLUVAy4lSLqP"
      }
    },
    {
      "cell_type": "code",
      "source": [
        "import pandas as pd\n",
        "import numpy as np\n",
        "#import time\n",
        "from sklearn.metrics import confusion_matrix\n",
        "\n",
        "#import PIL.Image as Image\n",
        "import matplotlib.pylab as plt\n",
        "import seaborn as sns\n",
        "\n",
        "import tensorflow as tf\n",
        "import tensorflow_hub as hub\n",
        "from tensorflow.keras.preprocessing.image import ImageDataGenerator\n",
        "from tensorflow.keras.callbacks import EarlyStopping\n",
        "\n",
        "#import datetime\n",
        "\n",
        "from google.colab import drive\n",
        "drive.mount('/content/drive/')\n",
        "\n",
        "#%load_ext tensorboard"
      ],
      "metadata": {
        "id": "KSJldYPTa9UO",
        "outputId": "e81b46f9-636c-4892-d3b9-cdf1d8ae56c7",
        "colab": {
          "base_uri": "https://localhost:8080/"
        }
      },
      "execution_count": 1,
      "outputs": [
        {
          "output_type": "stream",
          "name": "stdout",
          "text": [
            "Drive already mounted at /content/drive/; to attempt to forcibly remount, call drive.mount(\"/content/drive/\", force_remount=True).\n"
          ]
        }
      ]
    },
    {
      "cell_type": "markdown",
      "source": [
        "TensorFlow hub has a variety of models available to be used for a variety of purposes. 154 models are available within this repository for image classification alone. When selecting for models trained on the largest possible generalized dataset (identified as the ImageNet ILSVRC dataset) and the most recent version of the TensorFlow library, 65 models were available. Of the myriad of model architectures available, the most complex and latest variant ResNet model was selected as the pre-trained model to be used for the ALL classifier. This model is the ResNet V2 152 model."
      ],
      "metadata": {
        "id": "QgnQaYYpakS6"
      }
    },
    {
      "cell_type": "code",
      "source": [
        "resnet_base = \"https://tfhub.dev/google/imagenet/resnet_v2_152/classification/5\"\n",
        "\n",
        "classifier_base = \\\n",
        "  hub.KerasLayer(\n",
        "      resnet_base, \n",
        "      input_shape = (450, 450, 3),\n",
        "      trainable = False #Training base model won't yield significant improvements\n",
        "      )"
      ],
      "metadata": {
        "id": "dJgrTPx8gHn4"
      },
      "execution_count": 2,
      "outputs": []
    },
    {
      "cell_type": "code",
      "source": [
        "train_ds = tf.keras.utils.image_dataset_from_directory(\n",
        "  str('/content/drive/Othercomputers/My MacBook Air/C-NMC_Leukemia/training_data'),\n",
        "  validation_split = 0.175,\n",
        "  labels = 'inferred',\n",
        "  label_mode = 'categorical',\n",
        "  class_names = ('hem', 'all'),\n",
        "  color_mode = 'rgb',\n",
        "  shuffle = True,\n",
        "  subset = \"training\",\n",
        "  seed = 42,\n",
        "  image_size = (450, 450),\n",
        "  batch_size = 100\n",
        ")\n",
        "\n",
        "val_ds = tf.keras.utils.image_dataset_from_directory(\n",
        "  str('/content/drive/Othercomputers/My MacBook Air/C-NMC_Leukemia/training_data'),\n",
        "  validation_split = 0.175,\n",
        "  labels = 'inferred',\n",
        "  label_mode = 'categorical',\n",
        "  class_names = ('hem', 'all'),\n",
        "  color_mode = 'rgb',\n",
        "  shuffle = True,\n",
        "  subset = \"validation\",\n",
        "  seed = 42,\n",
        "  image_size = (450, 450),\n",
        "  batch_size = 100\n",
        ")"
      ],
      "metadata": {
        "id": "TDdFHMOLiOr2",
        "outputId": "450810e0-d7fd-4f70-c4ce-0347606326e2",
        "colab": {
          "base_uri": "https://localhost:8080/"
        }
      },
      "execution_count": 23,
      "outputs": [
        {
          "output_type": "stream",
          "name": "stdout",
          "text": [
            "Found 10661 files belonging to 2 classes.\n",
            "Using 8796 files for training.\n",
            "Found 10661 files belonging to 2 classes.\n",
            "Using 1865 files for validation.\n"
          ]
        }
      ]
    },
    {
      "cell_type": "code",
      "source": [
        "train_ds.class_names"
      ],
      "metadata": {
        "id": "BzmMHG7pir8H",
        "outputId": "7c484c13-d370-4039-af19-31d002d82569",
        "colab": {
          "base_uri": "https://localhost:8080/"
        }
      },
      "execution_count": 4,
      "outputs": [
        {
          "output_type": "execute_result",
          "data": {
            "text/plain": [
              "('hem', 'all')"
            ]
          },
          "metadata": {},
          "execution_count": 4
        }
      ]
    },
    {
      "cell_type": "code",
      "source": [
        "val_ds.class_indices"
      ],
      "metadata": {
        "id": "1274qZS6vOgk"
      },
      "execution_count": null,
      "outputs": []
    },
    {
      "cell_type": "code",
      "source": [
        "normalization_layer = tf.keras.layers.Rescaling(1./255)\n",
        "train_ds = train_ds.map(lambda x, y: (normalization_layer(x), y)) # Where x—images, y—labels\n",
        "val_ds = val_ds.map(lambda x, y: (normalization_layer(x), y)) # Where x—images, y—labels"
      ],
      "metadata": {
        "id": "GTvCvzKUirz6"
      },
      "execution_count": 5,
      "outputs": []
    },
    {
      "cell_type": "code",
      "source": [
        "# Weight calculation for normal lymphocytes:  \n",
        "# Number of cancer cells divided by the number of normal cells.\n",
        "\n",
        "7272/3389"
      ],
      "metadata": {
        "colab": {
          "base_uri": "https://localhost:8080/"
        },
        "id": "EXe4-qwVncey",
        "outputId": "d36854ba-fe87-4440-9bef-660845eccaa3"
      },
      "execution_count": 6,
      "outputs": [
        {
          "output_type": "execute_result",
          "data": {
            "text/plain": [
              "2.145765712599587"
            ]
          },
          "metadata": {},
          "execution_count": 6
        }
      ]
    },
    {
      "cell_type": "code",
      "source": [
        "# Weight of 2.15 is applied to 'hem' cells\n",
        "\n",
        "weights = {0: 2.15,\n",
        "           1: 1}"
      ],
      "metadata": {
        "id": "9xADgeb-nbki"
      },
      "execution_count": 7,
      "outputs": []
    },
    {
      "cell_type": "code",
      "source": [
        "#This cell ensures the GPU is working optimally by ensuring data is delivered for the next step before the current step has finished\n",
        "#AUTOTUNE = tf.data.AUTOTUNE\n",
        "#train_ds = train_ds.cache().prefetch(buffer_size=AUTOTUNE)\n",
        "#val_ds = val_ds.cache().prefetch(buffer_size=AUTOTUNE)"
      ],
      "metadata": {
        "id": "WH-fqp8RirwP"
      },
      "execution_count": 8,
      "outputs": []
    },
    {
      "cell_type": "code",
      "source": [
        "#for image_batch, labels_batch in train_ds:\n",
        "#  print(image_batch.shape)\n",
        "#  print(labels_batch.shape)\n",
        "#  break"
      ],
      "metadata": {
        "id": "UHtr1VdMyvs_"
      },
      "execution_count": 9,
      "outputs": []
    },
    {
      "cell_type": "code",
      "source": [
        "#feature_batch = classifier(image_batch)\n",
        "#print(feature_batch.shape)"
      ],
      "metadata": {
        "id": "B-_4J4Oxirq5"
      },
      "execution_count": 10,
      "outputs": []
    },
    {
      "cell_type": "code",
      "source": [
        "model_2 = \\\n",
        "tf.keras.Sequential([\n",
        "    classifier_base,\n",
        "    tf.keras.layers.Dense(2, activation = 'sigmoid') #Narrows the model to either 'all' or 'hem'\n",
        "])\n",
        "\n",
        "model_2.compile(\n",
        "  optimizer = tf.keras.optimizers.Adam(),\n",
        "  loss = 'CategoricalCrossentropy',\n",
        "  metrics = 'CategoricalAccuracy'\n",
        "  )\n",
        "\n",
        "model_2.summary()"
      ],
      "metadata": {
        "id": "3_ZzivE43C2n",
        "outputId": "7cb2f6a9-7861-419e-d2b8-51dca50a49d0",
        "colab": {
          "base_uri": "https://localhost:8080/"
        }
      },
      "execution_count": 11,
      "outputs": [
        {
          "output_type": "stream",
          "name": "stdout",
          "text": [
            "Model: \"sequential\"\n",
            "_________________________________________________________________\n",
            " Layer (type)                Output Shape              Param #   \n",
            "=================================================================\n",
            " keras_layer (KerasLayer)    (None, 1001)              60382697  \n",
            "                                                                 \n",
            " dense (Dense)               (None, 2)                 2004      \n",
            "                                                                 \n",
            "=================================================================\n",
            "Total params: 60,384,701\n",
            "Trainable params: 2,004\n",
            "Non-trainable params: 60,382,697\n",
            "_________________________________________________________________\n"
          ]
        }
      ]
    },
    {
      "cell_type": "markdown",
      "source": [
        "Train the model\n"
      ],
      "metadata": {
        "id": "F8Il-F6_SLX3"
      }
    },
    {
      "cell_type": "code",
      "source": [
        "#predictions = model(image_batch)\n",
        "#predictions.shape"
      ],
      "metadata": {
        "id": "znotEiRL3Czv"
      },
      "execution_count": 12,
      "outputs": []
    },
    {
      "cell_type": "code",
      "source": [
        "#log_dir = \"logs/fit/\" + datetime.datetime.now().strftime(\"%Y%m%d-%H%M%S\")\n",
        "#%tensorboard --logdir logs/fit\n",
        "\n",
        "#tensorboard_callback = tf.keras.callbacks.TensorBoard(\n",
        "#    log_dir = log_dir,\n",
        "#    histogram_freq = 1) # Enable histogram computation for every epoch\n",
        "\n",
        "early_stop = EarlyStopping(monitor = 'val_categorical_accuracy', \n",
        "                           patience = 10,  \n",
        "                           verbose = 1\n",
        "                           )\n",
        "\n",
        "history_2 = model_2.fit(train_ds, \n",
        "            validation_data = val_ds, \n",
        "            epochs = 25,\n",
        "            class_weight = weights,\n",
        "            callbacks = (early_stop)\n",
        "            )\n",
        "#           callbacks = tensorboard_callback)\n",
        "model_2_df = pd.DataFrame(history_2.history)\n",
        "path_2 =\\\n",
        "'/content/drive/Othercomputers/My MacBook Air/C-NMC_Leukemia/training_data/model_2.csv'\n",
        "\n",
        "with open(path_2, 'w', encoding = 'utf-8-sig') as f:\n",
        "  model_2_df.to_csv(f)"
      ],
      "metadata": {
        "id": "CHyFk8e-3CxI",
        "outputId": "d2162210-720e-4722-b5c6-5406a67ed86d",
        "colab": {
          "base_uri": "https://localhost:8080/",
          "height": 1000
        }
      },
      "execution_count": 13,
      "outputs": [
        {
          "output_type": "stream",
          "name": "stdout",
          "text": [
            "Epoch 1/25\n",
            "88/88 [==============================] - 184s 2s/step - loss: 0.7609 - categorical_accuracy: 0.7223 - val_loss: 0.5828 - val_categorical_accuracy: 0.7024\n",
            "Epoch 2/25\n",
            "88/88 [==============================] - 152s 2s/step - loss: 0.6706 - categorical_accuracy: 0.7732 - val_loss: 0.5677 - val_categorical_accuracy: 0.7174\n",
            "Epoch 3/25\n",
            "88/88 [==============================] - 151s 2s/step - loss: 0.6407 - categorical_accuracy: 0.7915 - val_loss: 0.4455 - val_categorical_accuracy: 0.7946\n",
            "Epoch 4/25\n",
            "88/88 [==============================] - 151s 2s/step - loss: 0.6315 - categorical_accuracy: 0.7905 - val_loss: 0.4522 - val_categorical_accuracy: 0.7871\n",
            "Epoch 5/25\n",
            "88/88 [==============================] - 151s 2s/step - loss: 0.6250 - categorical_accuracy: 0.7964 - val_loss: 0.4326 - val_categorical_accuracy: 0.8016\n",
            "Epoch 6/25\n",
            "88/88 [==============================] - 151s 2s/step - loss: 0.6056 - categorical_accuracy: 0.7991 - val_loss: 0.4154 - val_categorical_accuracy: 0.8118\n",
            "Epoch 7/25\n",
            "88/88 [==============================] - 151s 2s/step - loss: 0.6118 - categorical_accuracy: 0.7974 - val_loss: 0.4099 - val_categorical_accuracy: 0.8113\n",
            "Epoch 8/25\n",
            "88/88 [==============================] - 151s 2s/step - loss: 0.5988 - categorical_accuracy: 0.8045 - val_loss: 0.4647 - val_categorical_accuracy: 0.7807\n",
            "Epoch 9/25\n",
            "88/88 [==============================] - 151s 2s/step - loss: 0.5895 - categorical_accuracy: 0.8068 - val_loss: 0.4047 - val_categorical_accuracy: 0.8113\n",
            "Epoch 10/25\n",
            "88/88 [==============================] - 151s 2s/step - loss: 0.5985 - categorical_accuracy: 0.8051 - val_loss: 0.4363 - val_categorical_accuracy: 0.7973\n",
            "Epoch 11/25\n",
            "88/88 [==============================] - 151s 2s/step - loss: 0.5830 - categorical_accuracy: 0.8129 - val_loss: 0.3878 - val_categorical_accuracy: 0.8306\n",
            "Epoch 12/25\n",
            "88/88 [==============================] - 151s 2s/step - loss: 0.5795 - categorical_accuracy: 0.8131 - val_loss: 0.4672 - val_categorical_accuracy: 0.7866\n",
            "Epoch 13/25\n",
            "88/88 [==============================] - 151s 2s/step - loss: 0.5797 - categorical_accuracy: 0.8123 - val_loss: 0.3900 - val_categorical_accuracy: 0.8241\n",
            "Epoch 14/25\n",
            "88/88 [==============================] - 151s 2s/step - loss: 0.5801 - categorical_accuracy: 0.8161 - val_loss: 0.4606 - val_categorical_accuracy: 0.7903\n",
            "Epoch 15/25\n",
            "88/88 [==============================] - 151s 2s/step - loss: 0.5777 - categorical_accuracy: 0.8134 - val_loss: 0.4719 - val_categorical_accuracy: 0.7796\n",
            "Epoch 16/25\n",
            "88/88 [==============================] - 151s 2s/step - loss: 0.5749 - categorical_accuracy: 0.8166 - val_loss: 0.6049 - val_categorical_accuracy: 0.6938\n",
            "Epoch 17/25\n",
            "88/88 [==============================] - 151s 2s/step - loss: 0.5681 - categorical_accuracy: 0.8164 - val_loss: 0.4411 - val_categorical_accuracy: 0.7973\n",
            "Epoch 18/25\n",
            "88/88 [==============================] - 151s 2s/step - loss: 0.5729 - categorical_accuracy: 0.8184 - val_loss: 0.4768 - val_categorical_accuracy: 0.7769\n",
            "Epoch 19/25\n",
            "88/88 [==============================] - 151s 2s/step - loss: 0.5627 - categorical_accuracy: 0.8186 - val_loss: 0.3775 - val_categorical_accuracy: 0.8402\n",
            "Epoch 20/25\n",
            "88/88 [==============================] - 151s 2s/step - loss: 0.5651 - categorical_accuracy: 0.8181 - val_loss: 0.4239 - val_categorical_accuracy: 0.8027\n",
            "Epoch 21/25\n",
            "88/88 [==============================] - 151s 2s/step - loss: 0.5632 - categorical_accuracy: 0.8164 - val_loss: 0.3776 - val_categorical_accuracy: 0.8365\n",
            "Epoch 22/25\n",
            "88/88 [==============================] - 151s 2s/step - loss: 0.5601 - categorical_accuracy: 0.8184 - val_loss: 0.3833 - val_categorical_accuracy: 0.8284\n",
            "Epoch 23/25\n",
            "88/88 [==============================] - 151s 2s/step - loss: 0.5608 - categorical_accuracy: 0.8241 - val_loss: 0.4191 - val_categorical_accuracy: 0.8038\n",
            "Epoch 24/25\n",
            "88/88 [==============================] - 151s 2s/step - loss: 0.5681 - categorical_accuracy: 0.8205 - val_loss: 0.4448 - val_categorical_accuracy: 0.7968\n",
            "Epoch 25/25\n",
            "88/88 [==============================] - 151s 2s/step - loss: 0.5571 - categorical_accuracy: 0.8222 - val_loss: 0.4597 - val_categorical_accuracy: 0.7887\n"
          ]
        },
        {
          "output_type": "error",
          "ename": "ValueError",
          "evalue": "ignored",
          "traceback": [
            "\u001b[0;31m---------------------------------------------------------------------------\u001b[0m",
            "\u001b[0;31mValueError\u001b[0m                                Traceback (most recent call last)",
            "\u001b[0;32m<ipython-input-13-e6d68541761c>\u001b[0m in \u001b[0;36m<module>\u001b[0;34m\u001b[0m\n\u001b[1;32m     16\u001b[0m             callbacks = (early_stop))\n\u001b[1;32m     17\u001b[0m \u001b[0;31m#           callbacks = tensorboard_callback)\u001b[0m\u001b[0;34m\u001b[0m\u001b[0;34m\u001b[0m\u001b[0;34m\u001b[0m\u001b[0m\n\u001b[0;32m---> 18\u001b[0;31m \u001b[0mmodel_2_df\u001b[0m \u001b[0;34m=\u001b[0m \u001b[0mpd\u001b[0m\u001b[0;34m.\u001b[0m\u001b[0mDataFrame\u001b[0m\u001b[0;34m(\u001b[0m\u001b[0mmodel_2\u001b[0m\u001b[0;34m.\u001b[0m\u001b[0mhistory\u001b[0m\u001b[0;34m)\u001b[0m\u001b[0;34m\u001b[0m\u001b[0;34m\u001b[0m\u001b[0m\n\u001b[0m\u001b[1;32m     19\u001b[0m \u001b[0mpath_2\u001b[0m \u001b[0;34m=\u001b[0m\u001b[0;31m\\\u001b[0m\u001b[0;34m\u001b[0m\u001b[0;34m\u001b[0m\u001b[0m\n\u001b[1;32m     20\u001b[0m \u001b[0;34m'/content/drive/Othercomputers/My MacBook Air/C-NMC_Leukemia/training_data/model_2.csv'\u001b[0m\u001b[0;34m\u001b[0m\u001b[0;34m\u001b[0m\u001b[0m\n",
            "\u001b[0;32m/usr/local/lib/python3.7/dist-packages/pandas/core/frame.py\u001b[0m in \u001b[0;36m__init__\u001b[0;34m(self, data, index, columns, dtype, copy)\u001b[0m\n\u001b[1;32m    728\u001b[0m         \u001b[0;32melse\u001b[0m\u001b[0;34m:\u001b[0m\u001b[0;34m\u001b[0m\u001b[0;34m\u001b[0m\u001b[0m\n\u001b[1;32m    729\u001b[0m             \u001b[0;32mif\u001b[0m \u001b[0mindex\u001b[0m \u001b[0;32mis\u001b[0m \u001b[0;32mNone\u001b[0m \u001b[0;32mor\u001b[0m \u001b[0mcolumns\u001b[0m \u001b[0;32mis\u001b[0m \u001b[0;32mNone\u001b[0m\u001b[0;34m:\u001b[0m\u001b[0;34m\u001b[0m\u001b[0;34m\u001b[0m\u001b[0m\n\u001b[0;32m--> 730\u001b[0;31m                 \u001b[0;32mraise\u001b[0m \u001b[0mValueError\u001b[0m\u001b[0;34m(\u001b[0m\u001b[0;34m\"DataFrame constructor not properly called!\"\u001b[0m\u001b[0;34m)\u001b[0m\u001b[0;34m\u001b[0m\u001b[0;34m\u001b[0m\u001b[0m\n\u001b[0m\u001b[1;32m    731\u001b[0m \u001b[0;34m\u001b[0m\u001b[0m\n\u001b[1;32m    732\u001b[0m             \u001b[0;31m# Argument 1 to \"ensure_index\" has incompatible type \"Collection[Any]\";\u001b[0m\u001b[0;34m\u001b[0m\u001b[0;34m\u001b[0m\u001b[0;34m\u001b[0m\u001b[0m\n",
            "\u001b[0;31mValueError\u001b[0m: DataFrame constructor not properly called!"
          ]
        }
      ]
    },
    {
      "cell_type": "code",
      "source": [
        "model_2_df = \\\n",
        "pd.read_csv(\n",
        "'/content/drive/Othercomputers/My MacBook Air/C-NMC_Leukemia/training_data/model_2.csv')\n",
        "#model_2_df"
      ],
      "metadata": {
        "id": "SlWBixKNLbHM"
      },
      "execution_count": null,
      "outputs": []
    },
    {
      "cell_type": "code",
      "source": [
        "fig = plt.figure(figsize = (15,7))\n",
        "\n",
        "plt.subplot(1, 2, 1, title = 'Loss')\n",
        "plt.plot(model_2_df['loss'], \n",
        "         color = 'teal', \n",
        "         label = 'loss')\n",
        "plt.plot(model_2_df['val_loss'], \n",
        "         color = 'orange', \n",
        "         label = 'val_loss')\n",
        "plt.legend(loc = \"upper left\")\n",
        "plt.ylabel('Loss')\n",
        "plt.xlabel('Epochs')\n",
        "\n",
        "plt.subplot(1, 2, 2, title = 'Accuracy')\n",
        "plt.plot(model_2_df['categorical_accuracy'], \n",
        "         color = 'teal', \n",
        "         label = 'accuracy')\n",
        "plt.plot(model_2_df['val_categorical_accuracy'], \n",
        "         color = 'orange', \n",
        "         label = 'val_categorical_accuracy')\n",
        "plt.legend(loc = \"upper left\")\n",
        "plt.ylabel('Accuracy')\n",
        "plt.xlabel('Epochs')\n",
        "\n",
        "#plt.subplots_adjust(wspace=1)\n",
        "plt.show()"
      ],
      "metadata": {
        "id": "iAcwyfsvSKSE",
        "colab": {
          "base_uri": "https://localhost:8080/",
          "height": 458
        },
        "outputId": "684b8f0c-a186-4b60-ac2f-d5dcf19d7702"
      },
      "execution_count": 17,
      "outputs": [
        {
          "output_type": "display_data",
          "data": {
            "text/plain": [
              "<Figure size 1080x504 with 2 Axes>"
            ],
            "image/png": "[encoded data removed]"
          },
          "metadata": {
            "needs_background": "light"
          }
        }
      ]
    },
    {
      "cell_type": "markdown",
      "source": [
        "Evaluate model"
      ],
      "metadata": {
        "id": "2D03REJ1SLOi"
      }
    },
    {
      "cell_type": "code",
      "source": [
        "df_test = \\\n",
        "pd.read_csv(\n",
        "    '/content/drive/Othercomputers/My MacBook Air/C-NMC_Leukemia/validation_data/C-NMC_test_prelim_phase_data_labels.csv', \n",
        "    dtype = str)\n",
        "\n",
        "# a new column called labels_ was created wherein 'all' patients are labelled 'all' \n",
        "df_test.loc[df_test['Patient_ID'].str.contains('all'), 'true_labels'] = 'all'\n",
        "\n",
        "# a new column called labels_ was created wherein healthy patients are labelled 'hem' \n",
        "df_test.loc[df_test['Patient_ID'].str.contains('hem'), 'true_labels'] = 'hem'\n",
        "\n",
        "df_test"
      ],
      "metadata": {
        "colab": {
          "base_uri": "https://localhost:8080/",
          "height": 419
        },
        "id": "ES8KT21Ot_Wh",
        "outputId": "a1f0665d-2502-4fe6-a0cc-9826ce0cd4ee"
      },
      "execution_count": 18,
      "outputs": [
        {
          "output_type": "execute_result",
          "data": {
            "text/plain": [
              "                Patient_ID new_names labels true_labels\n",
              "0      UID_57_29_1_all.bmp     1.bmp      1         all\n",
              "1      UID_57_22_2_all.bmp     2.bmp      1         all\n",
              "2      UID_57_31_3_all.bmp     3.bmp      1         all\n",
              "3     UID_H49_35_1_hem.bmp     4.bmp      0         hem\n",
              "4      UID_58_6_13_all.bmp     5.bmp      1         all\n",
              "...                    ...       ...    ...         ...\n",
              "1862   UID_54_33_1_all.bmp  1863.bmp      1         all\n",
              "1863   UID_55_24_1_all.bmp  1864.bmp      1         all\n",
              "1864  UID_H32_20_1_hem.bmp  1865.bmp      0         hem\n",
              "1865   UID_54_30_2_all.bmp  1866.bmp      1         all\n",
              "1866   UID_66_10_3_all.bmp  1867.bmp      1         all\n",
              "\n",
              "[1867 rows x 4 columns]"
            ],
            "text/html": [
              "\n",
              "  <div id=\"df-cf6b3a8a-8c65-4581-8940-4913d0b8ecac\">\n",
              "    <div class=\"colab-df-container\">\n",
              "      <div>\n",
              "<style scoped>\n",
              "    .dataframe tbody tr th:only-of-type {\n",
              "        vertical-align: middle;\n",
              "    }\n",
              "\n",
              "    .dataframe tbody tr th {\n",
              "        vertical-align: top;\n",
              "    }\n",
              "\n",
              "    .dataframe thead th {\n",
              "        text-align: right;\n",
              "    }\n",
              "</style>\n",
              "<table border=\"1\" class=\"dataframe\">\n",
              "  <thead>\n",
              "    <tr style=\"text-align: right;\">\n",
              "      <th></th>\n",
              "      <th>Patient_ID</th>\n",
              "      <th>new_names</th>\n",
              "      <th>labels</th>\n",
              "      <th>true_labels</th>\n",
              "    </tr>\n",
              "  </thead>\n",
              "  <tbody>\n",
              "    <tr>\n",
              "      <th>0</th>\n",
              "      <td>UID_57_29_1_all.bmp</td>\n",
              "      <td>1.bmp</td>\n",
              "      <td>1</td>\n",
              "      <td>all</td>\n",
              "    </tr>\n",
              "    <tr>\n",
              "      <th>1</th>\n",
              "      <td>UID_57_22_2_all.bmp</td>\n",
              "      <td>2.bmp</td>\n",
              "      <td>1</td>\n",
              "      <td>all</td>\n",
              "    </tr>\n",
              "    <tr>\n",
              "      <th>2</th>\n",
              "      <td>UID_57_31_3_all.bmp</td>\n",
              "      <td>3.bmp</td>\n",
              "      <td>1</td>\n",
              "      <td>all</td>\n",
              "    </tr>\n",
              "    <tr>\n",
              "      <th>3</th>\n",
              "      <td>UID_H49_35_1_hem.bmp</td>\n",
              "      <td>4.bmp</td>\n",
              "      <td>0</td>\n",
              "      <td>hem</td>\n",
              "    </tr>\n",
              "    <tr>\n",
              "      <th>4</th>\n",
              "      <td>UID_58_6_13_all.bmp</td>\n",
              "      <td>5.bmp</td>\n",
              "      <td>1</td>\n",
              "      <td>all</td>\n",
              "    </tr>\n",
              "    <tr>\n",
              "      <th>...</th>\n",
              "      <td>...</td>\n",
              "      <td>...</td>\n",
              "      <td>...</td>\n",
              "      <td>...</td>\n",
              "    </tr>\n",
              "    <tr>\n",
              "      <th>1862</th>\n",
              "      <td>UID_54_33_1_all.bmp</td>\n",
              "      <td>1863.bmp</td>\n",
              "      <td>1</td>\n",
              "      <td>all</td>\n",
              "    </tr>\n",
              "    <tr>\n",
              "      <th>1863</th>\n",
              "      <td>UID_55_24_1_all.bmp</td>\n",
              "      <td>1864.bmp</td>\n",
              "      <td>1</td>\n",
              "      <td>all</td>\n",
              "    </tr>\n",
              "    <tr>\n",
              "      <th>1864</th>\n",
              "      <td>UID_H32_20_1_hem.bmp</td>\n",
              "      <td>1865.bmp</td>\n",
              "      <td>0</td>\n",
              "      <td>hem</td>\n",
              "    </tr>\n",
              "    <tr>\n",
              "      <th>1865</th>\n",
              "      <td>UID_54_30_2_all.bmp</td>\n",
              "      <td>1866.bmp</td>\n",
              "      <td>1</td>\n",
              "      <td>all</td>\n",
              "    </tr>\n",
              "    <tr>\n",
              "      <th>1866</th>\n",
              "      <td>UID_66_10_3_all.bmp</td>\n",
              "      <td>1867.bmp</td>\n",
              "      <td>1</td>\n",
              "      <td>all</td>\n",
              "    </tr>\n",
              "  </tbody>\n",
              "</table>\n",
              "<p>1867 rows × 4 columns</p>\n",
              "</div>\n",
              "      <button class=\"colab-df-convert\" onclick=\"convertToInteractive('df-cf6b3a8a-8c65-4581-8940-4913d0b8ecac')\"\n",
              "              title=\"Convert this dataframe to an interactive table.\"\n",
              "              style=\"display:none;\">\n",
              "        \n",
              "  <svg xmlns=\"http://www.w3.org/2000/svg\" height=\"24px\"viewBox=\"0 0 24 24\"\n",
              "       width=\"24px\">\n",
              "    <path d=\"M0 0h24v24H0V0z\" fill=\"none\"/>\n",
              "    <path d=\"M18.56 5.44l.94 2.06.94-2.06 2.06-.94-2.06-.94-.94-2.06-.94 2.06-2.06.94zm-11 1L8.5 8.5l.94-2.06 2.06-.94-2.06-.94L8.5 2.5l-.94 2.06-2.06.94zm10 10l.94 2.06.94-2.06 2.06-.94-2.06-.94-.94-2.06-.94 2.06-2.06.94z\"/><path d=\"M17.41 7.96l-1.37-1.37c-.4-.4-.92-.59-1.43-.59-.52 0-1.04.2-1.43.59L10.3 9.45l-7.72 7.72c-.78.78-.78 2.05 0 2.83L4 21.41c.39.39.9.59 1.41.59.51 0 1.02-.2 1.41-.59l7.78-7.78 2.81-2.81c.8-.78.8-2.07 0-2.86zM5.41 20L4 18.59l7.72-7.72 1.47 1.35L5.41 20z\"/>\n",
              "  </svg>\n",
              "      </button>\n",
              "      \n",
              "  <style>\n",
              "    .colab-df-container {\n",
              "      display:flex;\n",
              "      flex-wrap:wrap;\n",
              "      gap: 12px;\n",
              "    }\n",
              "\n",
              "    .colab-df-convert {\n",
              "      background-color: #E8F0FE;\n",
              "      border: none;\n",
              "      border-radius: 50%;\n",
              "      cursor: pointer;\n",
              "      display: none;\n",
              "      fill: #1967D2;\n",
              "      height: 32px;\n",
              "      padding: 0 0 0 0;\n",
              "      width: 32px;\n",
              "    }\n",
              "\n",
              "    .colab-df-convert:hover {\n",
              "      background-color: #E2EBFA;\n",
              "      box-shadow: 0px 1px 2px rgba(60, 64, 67, 0.3), 0px 1px 3px 1px rgba(60, 64, 67, 0.15);\n",
              "      fill: #174EA6;\n",
              "    }\n",
              "\n",
              "    [theme=dark] .colab-df-convert {\n",
              "      background-color: #3B4455;\n",
              "      fill: #D2E3FC;\n",
              "    }\n",
              "\n",
              "    [theme=dark] .colab-df-convert:hover {\n",
              "      background-color: #434B5C;\n",
              "      box-shadow: 0px 1px 3px 1px rgba(0, 0, 0, 0.15);\n",
              "      filter: drop-shadow(0px 1px 2px rgba(0, 0, 0, 0.3));\n",
              "      fill: #FFFFFF;\n",
              "    }\n",
              "  </style>\n",
              "\n",
              "      <script>\n",
              "        const buttonEl =\n",
              "          document.querySelector('#df-cf6b3a8a-8c65-4581-8940-4913d0b8ecac button.colab-df-convert');\n",
              "        buttonEl.style.display =\n",
              "          google.colab.kernel.accessAllowed ? 'block' : 'none';\n",
              "\n",
              "        async function convertToInteractive(key) {\n",
              "          const element = document.querySelector('#df-cf6b3a8a-8c65-4581-8940-4913d0b8ecac');\n",
              "          const dataTable =\n",
              "            await google.colab.kernel.invokeFunction('convertToInteractive',\n",
              "                                                     [key], {});\n",
              "          if (!dataTable) return;\n",
              "\n",
              "          const docLinkHtml = 'Like what you see? Visit the ' +\n",
              "            '<a target=\"_blank\" href=https://colab.research.google.com/notebooks/data_table.ipynb>data table notebook</a>'\n",
              "            + ' to learn more about interactive tables.';\n",
              "          element.innerHTML = '';\n",
              "          dataTable['output_type'] = 'display_data';\n",
              "          await google.colab.output.renderOutput(dataTable, element);\n",
              "          const docLink = document.createElement('div');\n",
              "          docLink.innerHTML = docLinkHtml;\n",
              "          element.appendChild(docLink);\n",
              "        }\n",
              "      </script>\n",
              "    </div>\n",
              "  </div>\n",
              "  "
            ]
          },
          "metadata": {},
          "execution_count": 18
        }
      ]
    },
    {
      "cell_type": "code",
      "source": [
        "test_datagen = ImageDataGenerator(rescale=1./255)\n",
        "test_generator = \\\n",
        "test_datagen.flow_from_dataframe(\n",
        "    dataframe = df_test,\n",
        "    directory = \\\n",
        "    '/content/drive/Othercomputers/My MacBook Air/C-NMC_Leukemia/validation_data/C-NMC_test_prelim_phase_data',\n",
        "    batch_size = 100,\n",
        "    target_size = (450,450),\n",
        "    x_col = 'new_names',\n",
        "    y_col = 'true_labels',\n",
        "    color_mode = 'rgb',\n",
        "    class_mode = 'categorical'\n",
        "    )\n",
        "\n",
        "X_test, y_test = test_generator.next()"
      ],
      "metadata": {
        "colab": {
          "base_uri": "https://localhost:8080/"
        },
        "id": "z2dXWv9xuJ_g",
        "outputId": "f4570edd-d904-4dba-a0a1-e25758abe29c"
      },
      "execution_count": 19,
      "outputs": [
        {
          "output_type": "stream",
          "name": "stdout",
          "text": [
            "Found 1867 validated image filenames belonging to 2 classes.\n"
          ]
        }
      ]
    },
    {
      "cell_type": "code",
      "source": [
        "score_2 = model_2.evaluate(X_test, y_test)\n",
        "\n",
        "print('Test loss:', score_2[0])\n",
        "print('Test accuracy:', score_2[1])"
      ],
      "metadata": {
        "colab": {
          "base_uri": "https://localhost:8080/"
        },
        "id": "eDLXeTdLvSUG",
        "outputId": "cb1b907a-3ca9-4f34-b4f3-f4a998e8b949"
      },
      "execution_count": 20,
      "outputs": [
        {
          "output_type": "stream",
          "name": "stdout",
          "text": [
            "4/4 [==============================] - 2s 430ms/step - loss: 1.4044 - categorical_accuracy: 0.3200\n",
            "Test loss: 1.404382586479187\n",
            "Test accuracy: 0.3199999928474426\n"
          ]
        }
      ]
    },
    {
      "cell_type": "code",
      "source": [
        "# Calculate the predictions\n",
        "predict_probas_2 = model_2.predict(X_test) \n",
        "\n",
        "# Convert probabilities to label encoding\n",
        "y_predict_2 = np.argmax(predict_probas_2, axis=1)"
      ],
      "metadata": {
        "id": "OVTsgCIrvsUo"
      },
      "execution_count": 21,
      "outputs": []
    },
    {
      "cell_type": "code",
      "source": [
        "y_test_labels = np.argmax(y_test, axis=1)\n",
        "conf_mat_2 = confusion_matrix(y_test_labels, y_predict_2)\n",
        "\n",
        "colour = sns.diverging_palette(220, 20, as_cmap=True)\n",
        "\n",
        "plt.figure(figsize = (8,6))\n",
        "sns.heatmap(conf_mat_2,\n",
        "            annot = True,\n",
        "            cbar = False,\n",
        "            xticklabels = val_ds.class_names,\n",
        "            yticklabels = val_ds.class_names,\n",
        "            cmap = sns.diverging_palette(220, 20, as_cmap=True),\n",
        "            linewidths = 1\n",
        "            )\n",
        "plt.title('Confusion Matrix for Sequential CNN', \n",
        "          size = 25, \n",
        "          y = 1.01\n",
        "          )\n",
        "plt.xlabel(\"Predicted Label\", size = 20)\n",
        "plt.ylabel(\"True Label\", size = 20)\n",
        "plt.show()"
      ],
      "metadata": {
        "colab": {
          "base_uri": "https://localhost:8080/",
          "height": 422
        },
        "id": "TBd-7G6Jvumn",
        "outputId": "36a6eb09-648b-47f9-8f1a-c72f9e01bbe8"
      },
      "execution_count": 25,
      "outputs": [
        {
          "output_type": "display_data",
          "data": {
            "text/plain": [
              "<Figure size 576x432 with 1 Axes>"
            ],
            "image/png": "[encoded data removed]"
          },
          "metadata": {
            "needs_background": "light"
          }
        }
      ]
    },
    {
      "cell_type": "code",
      "source": [],
      "metadata": {
        "id": "3iOtNtGB6jUD"
      },
      "execution_count": null,
      "outputs": []
    }
  ]
}