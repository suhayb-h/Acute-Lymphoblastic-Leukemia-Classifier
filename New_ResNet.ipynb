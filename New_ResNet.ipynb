{
  "nbformat": 4,
  "nbformat_minor": 0,
  "metadata": {
    "colab": {
      "provenance": [],
      "machine_shape": "hm",
      "authorship_tag": "ABX9TyMhcxgYGUEZGNxLfKmtvU1f",
      "include_colab_link": true
    },
    "kernelspec": {
      "name": "python3",
      "display_name": "Python 3"
    },
    "language_info": {
      "name": "python"
    },
    "accelerator": "GPU"
  },
  "cells": [
    {
      "cell_type": "markdown",
      "metadata": {
        "id": "view-in-github",
        "colab_type": "text"
      },
      "source": [
        "<a href=\"https://colab.research.google.com/github/suhayb-h/Acute-Lymphoblastic-Leukemia-Classifier/blob/main/New_ResNet.ipynb\" target=\"_parent\"><img src=\"https://colab.research.google.com/assets/colab-badge.svg\" alt=\"Open In Colab\"/></a>"
      ]
    },
    {
      "cell_type": "markdown",
      "source": [
        "This final notebook outlines building a transfer learning neural network to identify lymphoblasts as being cancerous or normal.\n",
        "\n",
        "Transfer learning requires a pre-trained neural network to serve as a starting point in model construction. In the context of image classification, a ready-made model trained on a large and generalized dataset will serve as a generic model of the visual world. New layers can be added to the base model and only these new layers will be trained towards the specified task of interest. In the case of this project, the task is to correctly identify images in the ISBI-2019 dataset as cancerous or normal. As an analogy, the machine needs to be 'specialized' much like physicians, clinicians and scientists need to specialize their knowledge of the entire visual world towards interpreting images of cells and microscopic features.\n",
        "\n",
        "A pre-trained image classifier model is a documented and openly available network that was previously trained on a extensive dataset of random images. For this project, a pre-trained model will be used directly from TensorFlow Hub, a repository of pre-trained TensorFlow models. Once a model has been loaded, new layers were added to allow for transfer learning to fine-tune the model to serve as an ALL classifier model.\n",
        "\n",
        "There are two ways to customize the pre-trained model:\n",
        "\n",
        "*   Feature Extraction: Use the representations learned by a previous network to extract meaningful features from new samples. You simply add a new classifier, which will be trained from scratch, on top of the pretrained model so that you can repurpose the feature maps learned previously for the dataset.\n",
        "\n",
        "*   Fine-Tuning: Unfreeze a few of the top layers of a frozen model base and jointly train both the newly-added classifier layers and the last layers of the base model. This allows us to \"fine-tune\" the higher-order feature representations in the base model in order to make them more relevant for the specific task.\n",
        "\n",
        "Data augmentation serves as a central principal that will be applied to all models in this project. The purpose of this practice was to increase the diversity of the training set by applying random, yet realistic, transformations to the dataset to create new images for the dataset. These transformations include image flipping and image rotation."
      ],
      "metadata": {
        "id": "l80YLJTRRheu"
      }
    },
    {
      "cell_type": "markdown",
      "source": [
        "Compose the model\n",
        "\n",
        "*   Load in the pretrained base model and corresponding pretrained weights\n",
        "*   Stack the classification layers on top"
      ],
      "metadata": {
        "id": "dLUVAy4lSLqP"
      }
    },
    {
      "cell_type": "code",
      "source": [
        "import pandas as pd\n",
        "import numpy as np\n",
        "#import time\n",
        "from sklearn.metrics import confusion_matrix\n",
        "\n",
        "\n",
        "#import PIL.Image as Image\n",
        "import matplotlib.pylab as plt\n",
        "import seaborn as sns\n",
        "\n",
        "import tensorflow as tf\n",
        "import tensorflow_hub as hub\n",
        "from tensorflow.keras.preprocessing.image import ImageDataGenerator\n",
        "\n",
        "\n",
        "#import datetime\n",
        "\n",
        "from google.colab import drive\n",
        "drive.mount('/content/drive/')\n",
        "\n",
        "#%load_ext tensorboard"
      ],
      "metadata": {
        "id": "KSJldYPTa9UO",
        "outputId": "1d7472ee-21aa-4de9-94da-494b7d0c540b",
        "colab": {
          "base_uri": "https://localhost:8080/"
        }
      },
      "execution_count": 1,
      "outputs": [
        {
          "output_type": "stream",
          "name": "stdout",
          "text": [
            "Drive already mounted at /content/drive/; to attempt to forcibly remount, call drive.mount(\"/content/drive/\", force_remount=True).\n"
          ]
        }
      ]
    },
    {
      "cell_type": "markdown",
      "source": [
        "TensorFlow hub has a variety of models available to be used for a variety of purposes. 154 models are available within this repository for image classification alone. When selecting for models trained on the largest possible generalized dataset (identified as the ImageNet ILSVRC dataset) and the most recent version of the TensorFlow library, 65 models were available. Of the myriad of model architectures available, the most complex and latest variant ResNet model was selected as the pre-trained model to be used for the ALL classifier. This model is the ResNet V2 152 model."
      ],
      "metadata": {
        "id": "QgnQaYYpakS6"
      }
    },
    {
      "cell_type": "code",
      "source": [
        "resnet_base = \"https://tfhub.dev/google/imagenet/resnet_v2_152/classification/5\"\n",
        "\n",
        "classifier_base = \\\n",
        "  hub.KerasLayer(\n",
        "      resnet_base, \n",
        "      input_shape = (480, 480, 3),\n",
        "      trainable = False #Training base model won't yield significant improvements\n",
        "      )"
      ],
      "metadata": {
        "id": "dJgrTPx8gHn4"
      },
      "execution_count": 2,
      "outputs": []
    },
    {
      "cell_type": "code",
      "source": [
        "train_ds = tf.keras.utils.image_dataset_from_directory(\n",
        "  str('/content/drive/Othercomputers/My MacBook Air/C-NMC_Leukemia/training_data'),\n",
        "  validation_split = 0.175,\n",
        "  labels = 'inferred',\n",
        "  label_mode = 'categorical',\n",
        "  class_names = ('hem', 'all'),\n",
        "  color_mode = 'rgb',\n",
        "  shuffle = True,\n",
        "  subset = \"training\",\n",
        "  seed = 42,\n",
        "  image_size = (480, 480),\n",
        "  batch_size = 100\n",
        ")\n",
        "\n",
        "val_ds = tf.keras.utils.image_dataset_from_directory(\n",
        "  str('/content/drive/Othercomputers/My MacBook Air/C-NMC_Leukemia/training_data'),\n",
        "  validation_split = 0.175,\n",
        "  labels = 'inferred',\n",
        "  label_mode = 'categorical',\n",
        "  class_names = ('hem', 'all'),\n",
        "  color_mode = 'rgb',\n",
        "  shuffle = True,\n",
        "  subset = \"validation\",\n",
        "  seed = 42,\n",
        "  image_size = (480, 480),\n",
        "  batch_size = 100\n",
        ")"
      ],
      "metadata": {
        "id": "TDdFHMOLiOr2",
        "outputId": "5dd9738a-8842-4a43-a9b3-6efd6575025a",
        "colab": {
          "base_uri": "https://localhost:8080/"
        }
      },
      "execution_count": 22,
      "outputs": [
        {
          "output_type": "stream",
          "name": "stdout",
          "text": [
            "Found 10661 files belonging to 2 classes.\n",
            "Using 8796 files for training.\n",
            "Found 10661 files belonging to 2 classes.\n",
            "Using 1865 files for validation.\n"
          ]
        }
      ]
    },
    {
      "cell_type": "code",
      "source": [
        "train_ds.class_names"
      ],
      "metadata": {
        "id": "BzmMHG7pir8H",
        "outputId": "2ff61300-712b-40e4-b4aa-b3ac20007d69",
        "colab": {
          "base_uri": "https://localhost:8080/"
        }
      },
      "execution_count": 23,
      "outputs": [
        {
          "output_type": "execute_result",
          "data": {
            "text/plain": [
              "('hem', 'all')"
            ]
          },
          "metadata": {},
          "execution_count": 23
        }
      ]
    },
    {
      "cell_type": "code",
      "source": [
        "normalization_layer = tf.keras.layers.Rescaling(1./255)\n",
        "train_ds = train_ds.map(lambda x, y: (normalization_layer(x), y)) # Where x—images, y—labels.\n",
        "val_ds = val_ds.map(lambda x, y: (normalization_layer(x), y)) # Where x—images, y—labels."
      ],
      "metadata": {
        "id": "GTvCvzKUirz6"
      },
      "execution_count": 5,
      "outputs": []
    },
    {
      "cell_type": "code",
      "source": [
        "# Weight calculation for normal lymphocytes:  \n",
        "# Number of cancer cells divided by the number of normal cells.\n",
        "\n",
        "7272/3389"
      ],
      "metadata": {
        "colab": {
          "base_uri": "https://localhost:8080/"
        },
        "id": "EXe4-qwVncey",
        "outputId": "c194c12d-559c-43ae-bd36-0a138e921e36"
      },
      "execution_count": 6,
      "outputs": [
        {
          "output_type": "execute_result",
          "data": {
            "text/plain": [
              "2.145765712599587"
            ]
          },
          "metadata": {},
          "execution_count": 6
        }
      ]
    },
    {
      "cell_type": "code",
      "source": [
        "# Weight of 2.15 is applied to 'hem' cells\n",
        "\n",
        "weights = {0: 2.15,\n",
        "           1: 1}"
      ],
      "metadata": {
        "id": "9xADgeb-nbki"
      },
      "execution_count": 7,
      "outputs": []
    },
    {
      "cell_type": "code",
      "source": [
        "#This cell ensures the GPU is working optimally by ensuring data is delivered for the next step before the current step has finished\n",
        "#AUTOTUNE = tf.data.AUTOTUNE\n",
        "#train_ds = train_ds.cache().prefetch(buffer_size=AUTOTUNE)\n",
        "#val_ds = val_ds.cache().prefetch(buffer_size=AUTOTUNE)"
      ],
      "metadata": {
        "id": "WH-fqp8RirwP"
      },
      "execution_count": 8,
      "outputs": []
    },
    {
      "cell_type": "code",
      "source": [
        "#for image_batch, labels_batch in train_ds:\n",
        "#  print(image_batch.shape)\n",
        "#  print(labels_batch.shape)\n",
        "#  break"
      ],
      "metadata": {
        "id": "UHtr1VdMyvs_"
      },
      "execution_count": 9,
      "outputs": []
    },
    {
      "cell_type": "code",
      "source": [
        "#feature_batch = classifier(image_batch)\n",
        "#print(feature_batch.shape)"
      ],
      "metadata": {
        "id": "B-_4J4Oxirq5"
      },
      "execution_count": 10,
      "outputs": []
    },
    {
      "cell_type": "code",
      "source": [
        "model_2 = tf.keras.Sequential([\n",
        "  classifier_base,\n",
        "  tf.keras.layers.Dense(2, \n",
        "                        activation = 'sigmoid') #Narrows the model to either 'all' or 'hem'\n",
        "])\n",
        "\n",
        "model_2.compile(\n",
        "  optimizer = tf.keras.optimizers.Adam(),\n",
        "  loss = 'CategoricalCrossentropy',\n",
        "  metrics = 'CategoricalAccuracy')\n",
        "\n",
        "model_2.summary()"
      ],
      "metadata": {
        "id": "3_ZzivE43C2n",
        "outputId": "763efd96-1a90-4be4-8f33-08ef93294c43",
        "colab": {
          "base_uri": "https://localhost:8080/"
        }
      },
      "execution_count": 11,
      "outputs": [
        {
          "output_type": "stream",
          "name": "stdout",
          "text": [
            "Model: \"sequential\"\n",
            "_________________________________________________________________\n",
            " Layer (type)                Output Shape              Param #   \n",
            "=================================================================\n",
            " keras_layer (KerasLayer)    (None, 1001)              60382697  \n",
            "                                                                 \n",
            " dense (Dense)               (None, 2)                 2004      \n",
            "                                                                 \n",
            "=================================================================\n",
            "Total params: 60,384,701\n",
            "Trainable params: 2,004\n",
            "Non-trainable params: 60,382,697\n",
            "_________________________________________________________________\n"
          ]
        }
      ]
    },
    {
      "cell_type": "markdown",
      "source": [
        "Train the model\n"
      ],
      "metadata": {
        "id": "F8Il-F6_SLX3"
      }
    },
    {
      "cell_type": "code",
      "source": [
        "#predictions = model(image_batch)\n",
        "#predictions.shape"
      ],
      "metadata": {
        "id": "znotEiRL3Czv"
      },
      "execution_count": 12,
      "outputs": []
    },
    {
      "cell_type": "code",
      "source": [
        "#log_dir = \"logs/fit/\" + datetime.datetime.now().strftime(\"%Y%m%d-%H%M%S\")\n",
        "#%tensorboard --logdir logs/fit\n",
        "\n",
        "#tensorboard_callback = tf.keras.callbacks.TensorBoard(\n",
        "#    log_dir = log_dir,\n",
        "#    histogram_freq = 1) # Enable histogram computation for every epoch\n",
        "\n",
        "#history_2 =\\\n",
        "model_2.fit(train_ds, \n",
        "            validation_data = val_ds, \n",
        "            epochs = 5, \n",
        "            class_weight = weights)\n",
        "#           callbacks = tensorboard_callback)\n",
        "model_2_df = pd.DataFrame(model_2.history)\n",
        "path_2 =\\\n",
        "'/content/drive/Othercomputers/My MacBook Air/C-NMC_Leukemia/training_data/model_2.csv'\n",
        "\n",
        "with open(path_2, 'w', encoding = 'utf-8-sig') as f:\n",
        "  model_2_df.to_csv(f)"
      ],
      "metadata": {
        "id": "CHyFk8e-3CxI",
        "outputId": "c21a8226-69ee-45bc-9cab-694c9539691d",
        "colab": {
          "base_uri": "https://localhost:8080/"
        }
      },
      "execution_count": 13,
      "outputs": [
        {
          "output_type": "stream",
          "name": "stdout",
          "text": [
            "Epoch 1/5\n",
            "88/88 [==============================] - 938s 11s/step - loss: 0.7434 - categorical_accuracy: 0.7327 - val_loss: 0.5986 - val_categorical_accuracy: 0.6804\n",
            "Epoch 2/5\n",
            "88/88 [==============================] - 161s 2s/step - loss: 0.6524 - categorical_accuracy: 0.7833 - val_loss: 0.5346 - val_categorical_accuracy: 0.7249\n",
            "Epoch 3/5\n",
            "88/88 [==============================] - 161s 2s/step - loss: 0.6257 - categorical_accuracy: 0.7942 - val_loss: 0.4405 - val_categorical_accuracy: 0.7979\n",
            "Epoch 4/5\n",
            "88/88 [==============================] - 161s 2s/step - loss: 0.6152 - categorical_accuracy: 0.7998 - val_loss: 0.4570 - val_categorical_accuracy: 0.7877\n",
            "Epoch 5/5\n",
            "88/88 [==============================] - 161s 2s/step - loss: 0.6195 - categorical_accuracy: 0.8001 - val_loss: 0.3962 - val_categorical_accuracy: 0.8273\n"
          ]
        }
      ]
    },
    {
      "cell_type": "code",
      "source": [
        "model_2_df = \\\n",
        "pd.read_csv(\n",
        "'/content/drive/Othercomputers/My MacBook Air/C-NMC_Leukemia/training_data/model_2.csv')\n",
        "model_2_df"
      ],
      "metadata": {
        "colab": {
          "base_uri": "https://localhost:8080/",
          "height": 204
        },
        "id": "SlWBixKNLbHM",
        "outputId": "9500b55f-f529-4dad-faa4-f873c2ff8e8f"
      },
      "execution_count": 14,
      "outputs": [
        {
          "output_type": "execute_result",
          "data": {
            "text/plain": [
              "   Unnamed: 0      loss  categorical_accuracy  val_loss  \\\n",
              "0           0  0.743413              0.732719  0.598642   \n",
              "1           1  0.652433              0.783311  0.534551   \n",
              "2           2  0.625708              0.794225  0.440519   \n",
              "3           3  0.615182              0.799795  0.456970   \n",
              "4           4  0.619462              0.800136  0.396244   \n",
              "\n",
              "   val_categorical_accuracy  \n",
              "0                  0.680429  \n",
              "1                  0.724933  \n",
              "2                  0.797855  \n",
              "3                  0.787668  \n",
              "4                  0.827346  "
            ],
            "text/html": [
              "\n",
              "  <div id=\"df-6c9a048b-7891-4f2b-92df-9aa703966066\">\n",
              "    <div class=\"colab-df-container\">\n",
              "      <div>\n",
              "<style scoped>\n",
              "    .dataframe tbody tr th:only-of-type {\n",
              "        vertical-align: middle;\n",
              "    }\n",
              "\n",
              "    .dataframe tbody tr th {\n",
              "        vertical-align: top;\n",
              "    }\n",
              "\n",
              "    .dataframe thead th {\n",
              "        text-align: right;\n",
              "    }\n",
              "</style>\n",
              "<table border=\"1\" class=\"dataframe\">\n",
              "  <thead>\n",
              "    <tr style=\"text-align: right;\">\n",
              "      <th></th>\n",
              "      <th>Unnamed: 0</th>\n",
              "      <th>loss</th>\n",
              "      <th>categorical_accuracy</th>\n",
              "      <th>val_loss</th>\n",
              "      <th>val_categorical_accuracy</th>\n",
              "    </tr>\n",
              "  </thead>\n",
              "  <tbody>\n",
              "    <tr>\n",
              "      <th>0</th>\n",
              "      <td>0</td>\n",
              "      <td>0.743413</td>\n",
              "      <td>0.732719</td>\n",
              "      <td>0.598642</td>\n",
              "      <td>0.680429</td>\n",
              "    </tr>\n",
              "    <tr>\n",
              "      <th>1</th>\n",
              "      <td>1</td>\n",
              "      <td>0.652433</td>\n",
              "      <td>0.783311</td>\n",
              "      <td>0.534551</td>\n",
              "      <td>0.724933</td>\n",
              "    </tr>\n",
              "    <tr>\n",
              "      <th>2</th>\n",
              "      <td>2</td>\n",
              "      <td>0.625708</td>\n",
              "      <td>0.794225</td>\n",
              "      <td>0.440519</td>\n",
              "      <td>0.797855</td>\n",
              "    </tr>\n",
              "    <tr>\n",
              "      <th>3</th>\n",
              "      <td>3</td>\n",
              "      <td>0.615182</td>\n",
              "      <td>0.799795</td>\n",
              "      <td>0.456970</td>\n",
              "      <td>0.787668</td>\n",
              "    </tr>\n",
              "    <tr>\n",
              "      <th>4</th>\n",
              "      <td>4</td>\n",
              "      <td>0.619462</td>\n",
              "      <td>0.800136</td>\n",
              "      <td>0.396244</td>\n",
              "      <td>0.827346</td>\n",
              "    </tr>\n",
              "  </tbody>\n",
              "</table>\n",
              "</div>\n",
              "      <button class=\"colab-df-convert\" onclick=\"convertToInteractive('df-6c9a048b-7891-4f2b-92df-9aa703966066')\"\n",
              "              title=\"Convert this dataframe to an interactive table.\"\n",
              "              style=\"display:none;\">\n",
              "        \n",
              "  <svg xmlns=\"http://www.w3.org/2000/svg\" height=\"24px\"viewBox=\"0 0 24 24\"\n",
              "       width=\"24px\">\n",
              "    <path d=\"M0 0h24v24H0V0z\" fill=\"none\"/>\n",
              "    <path d=\"M18.56 5.44l.94 2.06.94-2.06 2.06-.94-2.06-.94-.94-2.06-.94 2.06-2.06.94zm-11 1L8.5 8.5l.94-2.06 2.06-.94-2.06-.94L8.5 2.5l-.94 2.06-2.06.94zm10 10l.94 2.06.94-2.06 2.06-.94-2.06-.94-.94-2.06-.94 2.06-2.06.94z\"/><path d=\"M17.41 7.96l-1.37-1.37c-.4-.4-.92-.59-1.43-.59-.52 0-1.04.2-1.43.59L10.3 9.45l-7.72 7.72c-.78.78-.78 2.05 0 2.83L4 21.41c.39.39.9.59 1.41.59.51 0 1.02-.2 1.41-.59l7.78-7.78 2.81-2.81c.8-.78.8-2.07 0-2.86zM5.41 20L4 18.59l7.72-7.72 1.47 1.35L5.41 20z\"/>\n",
              "  </svg>\n",
              "      </button>\n",
              "      \n",
              "  <style>\n",
              "    .colab-df-container {\n",
              "      display:flex;\n",
              "      flex-wrap:wrap;\n",
              "      gap: 12px;\n",
              "    }\n",
              "\n",
              "    .colab-df-convert {\n",
              "      background-color: #E8F0FE;\n",
              "      border: none;\n",
              "      border-radius: 50%;\n",
              "      cursor: pointer;\n",
              "      display: none;\n",
              "      fill: #1967D2;\n",
              "      height: 32px;\n",
              "      padding: 0 0 0 0;\n",
              "      width: 32px;\n",
              "    }\n",
              "\n",
              "    .colab-df-convert:hover {\n",
              "      background-color: #E2EBFA;\n",
              "      box-shadow: 0px 1px 2px rgba(60, 64, 67, 0.3), 0px 1px 3px 1px rgba(60, 64, 67, 0.15);\n",
              "      fill: #174EA6;\n",
              "    }\n",
              "\n",
              "    [theme=dark] .colab-df-convert {\n",
              "      background-color: #3B4455;\n",
              "      fill: #D2E3FC;\n",
              "    }\n",
              "\n",
              "    [theme=dark] .colab-df-convert:hover {\n",
              "      background-color: #434B5C;\n",
              "      box-shadow: 0px 1px 3px 1px rgba(0, 0, 0, 0.15);\n",
              "      filter: drop-shadow(0px 1px 2px rgba(0, 0, 0, 0.3));\n",
              "      fill: #FFFFFF;\n",
              "    }\n",
              "  </style>\n",
              "\n",
              "      <script>\n",
              "        const buttonEl =\n",
              "          document.querySelector('#df-6c9a048b-7891-4f2b-92df-9aa703966066 button.colab-df-convert');\n",
              "        buttonEl.style.display =\n",
              "          google.colab.kernel.accessAllowed ? 'block' : 'none';\n",
              "\n",
              "        async function convertToInteractive(key) {\n",
              "          const element = document.querySelector('#df-6c9a048b-7891-4f2b-92df-9aa703966066');\n",
              "          const dataTable =\n",
              "            await google.colab.kernel.invokeFunction('convertToInteractive',\n",
              "                                                     [key], {});\n",
              "          if (!dataTable) return;\n",
              "\n",
              "          const docLinkHtml = 'Like what you see? Visit the ' +\n",
              "            '<a target=\"_blank\" href=https://colab.research.google.com/notebooks/data_table.ipynb>data table notebook</a>'\n",
              "            + ' to learn more about interactive tables.';\n",
              "          element.innerHTML = '';\n",
              "          dataTable['output_type'] = 'display_data';\n",
              "          await google.colab.output.renderOutput(dataTable, element);\n",
              "          const docLink = document.createElement('div');\n",
              "          docLink.innerHTML = docLinkHtml;\n",
              "          element.appendChild(docLink);\n",
              "        }\n",
              "      </script>\n",
              "    </div>\n",
              "  </div>\n",
              "  "
            ]
          },
          "metadata": {},
          "execution_count": 14
        }
      ]
    },
    {
      "cell_type": "code",
      "source": [
        "fig = plt.figure(figsize = (15,7))\n",
        "\n",
        "plt.subplot(1, 2, 1, title = 'Loss')\n",
        "plt.plot(model_2_df['loss'], \n",
        "         color = 'teal', \n",
        "         label = 'loss')\n",
        "plt.plot(model_2_df['val_loss'], \n",
        "         color = 'orange', \n",
        "         label = 'val_loss')\n",
        "plt.legend(loc = \"upper left\")\n",
        "plt.ylabel('Loss')\n",
        "plt.xlabel('Epochs')\n",
        "\n",
        "plt.subplot(1, 2, 2, title = 'Accuracy')\n",
        "plt.plot(model_2_df['categorical_accuracy'], \n",
        "         color = 'teal', \n",
        "         label = 'accuracy')\n",
        "plt.plot(model_2_df['val_categorical_accuracy'], \n",
        "         color = 'orange', \n",
        "         label = 'val_categorical_accuracy')\n",
        "plt.legend(loc = \"upper left\")\n",
        "plt.ylabel('Accuracy')\n",
        "plt.xlabel('Epochs')\n",
        "\n",
        "#plt.subplots_adjust(wspace=1)\n",
        "plt.show()"
      ],
      "metadata": {
        "id": "iAcwyfsvSKSE",
        "colab": {
          "base_uri": "https://localhost:8080/",
          "height": 418
        },
        "outputId": "74160b2a-0d82-4b51-e45d-fec4a2528313"
      },
      "execution_count": 17,
      "outputs": [
        {
          "output_type": "display_data",
          "data": {
            "text/plain": [
              "<Figure size 1080x504 with 2 Axes>"
            ],
            "image/png": "[encoded data removed]"
          },
          "metadata": {
            "needs_background": "light"
          }
        }
      ]
    },
    {
      "cell_type": "markdown",
      "source": [
        "Evaluate model"
      ],
      "metadata": {
        "id": "2D03REJ1SLOi"
      }
    },
    {
      "cell_type": "code",
      "source": [
        "df_test = \\\n",
        "pd.read_csv(\n",
        "    '/content/drive/Othercomputers/My MacBook Air/C-NMC_Leukemia/validation_data/C-NMC_test_prelim_phase_data_labels.csv', \n",
        "    dtype = str)\n",
        "\n",
        "# a new column called labels_ was created wherein 'all' patients are labelled 'all' \n",
        "df_test.loc[df_test['Patient_ID'].str.contains('all'), 'true_labels'] = 'all'\n",
        "\n",
        "# a new column called labels_ was created wherein healthy patients are labelled 'hem' \n",
        "df_test.loc[df_test['Patient_ID'].str.contains('hem'), 'true_labels'] = 'hem'\n",
        "\n",
        "df_test"
      ],
      "metadata": {
        "colab": {
          "base_uri": "https://localhost:8080/",
          "height": 419
        },
        "id": "ES8KT21Ot_Wh",
        "outputId": "413a8dd5-7bf5-4575-d77a-a5e5c8b4cc6e"
      },
      "execution_count": 25,
      "outputs": [
        {
          "output_type": "execute_result",
          "data": {
            "text/plain": [
              "                Patient_ID new_names labels true_labels\n",
              "0      UID_57_29_1_all.bmp     1.bmp      1         all\n",
              "1      UID_57_22_2_all.bmp     2.bmp      1         all\n",
              "2      UID_57_31_3_all.bmp     3.bmp      1         all\n",
              "3     UID_H49_35_1_hem.bmp     4.bmp      0         hem\n",
              "4      UID_58_6_13_all.bmp     5.bmp      1         all\n",
              "...                    ...       ...    ...         ...\n",
              "1862   UID_54_33_1_all.bmp  1863.bmp      1         all\n",
              "1863   UID_55_24_1_all.bmp  1864.bmp      1         all\n",
              "1864  UID_H32_20_1_hem.bmp  1865.bmp      0         hem\n",
              "1865   UID_54_30_2_all.bmp  1866.bmp      1         all\n",
              "1866   UID_66_10_3_all.bmp  1867.bmp      1         all\n",
              "\n",
              "[1867 rows x 4 columns]"
            ],
            "text/html": [
              "\n",
              "  <div id=\"df-2d9a6bf8-12e9-42af-afc5-f23e3e9d9a93\">\n",
              "    <div class=\"colab-df-container\">\n",
              "      <div>\n",
              "<style scoped>\n",
              "    .dataframe tbody tr th:only-of-type {\n",
              "        vertical-align: middle;\n",
              "    }\n",
              "\n",
              "    .dataframe tbody tr th {\n",
              "        vertical-align: top;\n",
              "    }\n",
              "\n",
              "    .dataframe thead th {\n",
              "        text-align: right;\n",
              "    }\n",
              "</style>\n",
              "<table border=\"1\" class=\"dataframe\">\n",
              "  <thead>\n",
              "    <tr style=\"text-align: right;\">\n",
              "      <th></th>\n",
              "      <th>Patient_ID</th>\n",
              "      <th>new_names</th>\n",
              "      <th>labels</th>\n",
              "      <th>true_labels</th>\n",
              "    </tr>\n",
              "  </thead>\n",
              "  <tbody>\n",
              "    <tr>\n",
              "      <th>0</th>\n",
              "      <td>UID_57_29_1_all.bmp</td>\n",
              "      <td>1.bmp</td>\n",
              "      <td>1</td>\n",
              "      <td>all</td>\n",
              "    </tr>\n",
              "    <tr>\n",
              "      <th>1</th>\n",
              "      <td>UID_57_22_2_all.bmp</td>\n",
              "      <td>2.bmp</td>\n",
              "      <td>1</td>\n",
              "      <td>all</td>\n",
              "    </tr>\n",
              "    <tr>\n",
              "      <th>2</th>\n",
              "      <td>UID_57_31_3_all.bmp</td>\n",
              "      <td>3.bmp</td>\n",
              "      <td>1</td>\n",
              "      <td>all</td>\n",
              "    </tr>\n",
              "    <tr>\n",
              "      <th>3</th>\n",
              "      <td>UID_H49_35_1_hem.bmp</td>\n",
              "      <td>4.bmp</td>\n",
              "      <td>0</td>\n",
              "      <td>hem</td>\n",
              "    </tr>\n",
              "    <tr>\n",
              "      <th>4</th>\n",
              "      <td>UID_58_6_13_all.bmp</td>\n",
              "      <td>5.bmp</td>\n",
              "      <td>1</td>\n",
              "      <td>all</td>\n",
              "    </tr>\n",
              "    <tr>\n",
              "      <th>...</th>\n",
              "      <td>...</td>\n",
              "      <td>...</td>\n",
              "      <td>...</td>\n",
              "      <td>...</td>\n",
              "    </tr>\n",
              "    <tr>\n",
              "      <th>1862</th>\n",
              "      <td>UID_54_33_1_all.bmp</td>\n",
              "      <td>1863.bmp</td>\n",
              "      <td>1</td>\n",
              "      <td>all</td>\n",
              "    </tr>\n",
              "    <tr>\n",
              "      <th>1863</th>\n",
              "      <td>UID_55_24_1_all.bmp</td>\n",
              "      <td>1864.bmp</td>\n",
              "      <td>1</td>\n",
              "      <td>all</td>\n",
              "    </tr>\n",
              "    <tr>\n",
              "      <th>1864</th>\n",
              "      <td>UID_H32_20_1_hem.bmp</td>\n",
              "      <td>1865.bmp</td>\n",
              "      <td>0</td>\n",
              "      <td>hem</td>\n",
              "    </tr>\n",
              "    <tr>\n",
              "      <th>1865</th>\n",
              "      <td>UID_54_30_2_all.bmp</td>\n",
              "      <td>1866.bmp</td>\n",
              "      <td>1</td>\n",
              "      <td>all</td>\n",
              "    </tr>\n",
              "    <tr>\n",
              "      <th>1866</th>\n",
              "      <td>UID_66_10_3_all.bmp</td>\n",
              "      <td>1867.bmp</td>\n",
              "      <td>1</td>\n",
              "      <td>all</td>\n",
              "    </tr>\n",
              "  </tbody>\n",
              "</table>\n",
              "<p>1867 rows × 4 columns</p>\n",
              "</div>\n",
              "      <button class=\"colab-df-convert\" onclick=\"convertToInteractive('df-2d9a6bf8-12e9-42af-afc5-f23e3e9d9a93')\"\n",
              "              title=\"Convert this dataframe to an interactive table.\"\n",
              "              style=\"display:none;\">\n",
              "        \n",
              "  <svg xmlns=\"http://www.w3.org/2000/svg\" height=\"24px\"viewBox=\"0 0 24 24\"\n",
              "       width=\"24px\">\n",
              "    <path d=\"M0 0h24v24H0V0z\" fill=\"none\"/>\n",
              "    <path d=\"M18.56 5.44l.94 2.06.94-2.06 2.06-.94-2.06-.94-.94-2.06-.94 2.06-2.06.94zm-11 1L8.5 8.5l.94-2.06 2.06-.94-2.06-.94L8.5 2.5l-.94 2.06-2.06.94zm10 10l.94 2.06.94-2.06 2.06-.94-2.06-.94-.94-2.06-.94 2.06-2.06.94z\"/><path d=\"M17.41 7.96l-1.37-1.37c-.4-.4-.92-.59-1.43-.59-.52 0-1.04.2-1.43.59L10.3 9.45l-7.72 7.72c-.78.78-.78 2.05 0 2.83L4 21.41c.39.39.9.59 1.41.59.51 0 1.02-.2 1.41-.59l7.78-7.78 2.81-2.81c.8-.78.8-2.07 0-2.86zM5.41 20L4 18.59l7.72-7.72 1.47 1.35L5.41 20z\"/>\n",
              "  </svg>\n",
              "      </button>\n",
              "      \n",
              "  <style>\n",
              "    .colab-df-container {\n",
              "      display:flex;\n",
              "      flex-wrap:wrap;\n",
              "      gap: 12px;\n",
              "    }\n",
              "\n",
              "    .colab-df-convert {\n",
              "      background-color: #E8F0FE;\n",
              "      border: none;\n",
              "      border-radius: 50%;\n",
              "      cursor: pointer;\n",
              "      display: none;\n",
              "      fill: #1967D2;\n",
              "      height: 32px;\n",
              "      padding: 0 0 0 0;\n",
              "      width: 32px;\n",
              "    }\n",
              "\n",
              "    .colab-df-convert:hover {\n",
              "      background-color: #E2EBFA;\n",
              "      box-shadow: 0px 1px 2px rgba(60, 64, 67, 0.3), 0px 1px 3px 1px rgba(60, 64, 67, 0.15);\n",
              "      fill: #174EA6;\n",
              "    }\n",
              "\n",
              "    [theme=dark] .colab-df-convert {\n",
              "      background-color: #3B4455;\n",
              "      fill: #D2E3FC;\n",
              "    }\n",
              "\n",
              "    [theme=dark] .colab-df-convert:hover {\n",
              "      background-color: #434B5C;\n",
              "      box-shadow: 0px 1px 3px 1px rgba(0, 0, 0, 0.15);\n",
              "      filter: drop-shadow(0px 1px 2px rgba(0, 0, 0, 0.3));\n",
              "      fill: #FFFFFF;\n",
              "    }\n",
              "  </style>\n",
              "\n",
              "      <script>\n",
              "        const buttonEl =\n",
              "          document.querySelector('#df-2d9a6bf8-12e9-42af-afc5-f23e3e9d9a93 button.colab-df-convert');\n",
              "        buttonEl.style.display =\n",
              "          google.colab.kernel.accessAllowed ? 'block' : 'none';\n",
              "\n",
              "        async function convertToInteractive(key) {\n",
              "          const element = document.querySelector('#df-2d9a6bf8-12e9-42af-afc5-f23e3e9d9a93');\n",
              "          const dataTable =\n",
              "            await google.colab.kernel.invokeFunction('convertToInteractive',\n",
              "                                                     [key], {});\n",
              "          if (!dataTable) return;\n",
              "\n",
              "          const docLinkHtml = 'Like what you see? Visit the ' +\n",
              "            '<a target=\"_blank\" href=https://colab.research.google.com/notebooks/data_table.ipynb>data table notebook</a>'\n",
              "            + ' to learn more about interactive tables.';\n",
              "          element.innerHTML = '';\n",
              "          dataTable['output_type'] = 'display_data';\n",
              "          await google.colab.output.renderOutput(dataTable, element);\n",
              "          const docLink = document.createElement('div');\n",
              "          docLink.innerHTML = docLinkHtml;\n",
              "          element.appendChild(docLink);\n",
              "        }\n",
              "      </script>\n",
              "    </div>\n",
              "  </div>\n",
              "  "
            ]
          },
          "metadata": {},
          "execution_count": 25
        }
      ]
    },
    {
      "cell_type": "code",
      "source": [
        "test_datagen = ImageDataGenerator(rescale=1./255)\n",
        "test_generator = \\\n",
        "test_datagen.flow_from_dataframe(\n",
        "    dataframe = df_test,\n",
        "    directory = \\\n",
        "    '/content/drive/Othercomputers/My MacBook Air/C-NMC_Leukemia/validation_data/C-NMC_test_prelim_phase_data',\n",
        "    batch_size = 100,\n",
        "    target_size = (480,480),\n",
        "    x_col = 'new_names',\n",
        "    y_col = 'true_labels',\n",
        "    color_mode = 'rgb',\n",
        "    class_mode = 'categorical')\n",
        "\n",
        "X_test, y_test = test_generator.next()"
      ],
      "metadata": {
        "colab": {
          "base_uri": "https://localhost:8080/"
        },
        "id": "z2dXWv9xuJ_g",
        "outputId": "2aee995c-aa65-4003-d51e-81098cfcc9f2"
      },
      "execution_count": 31,
      "outputs": [
        {
          "output_type": "stream",
          "name": "stdout",
          "text": [
            "Found 1867 validated image filenames belonging to 2 classes.\n"
          ]
        }
      ]
    },
    {
      "cell_type": "code",
      "source": [
        "score_2 = model_2.evaluate(X_test, y_test)\n",
        "\n",
        "print('Test loss:', score_2[0])\n",
        "print('Test accuracy:', score_2[1])"
      ],
      "metadata": {
        "colab": {
          "base_uri": "https://localhost:8080/"
        },
        "id": "eDLXeTdLvSUG",
        "outputId": "2b8fef51-f2b0-49f8-bfeb-e6ae17ed7899"
      },
      "execution_count": 32,
      "outputs": [
        {
          "output_type": "stream",
          "name": "stdout",
          "text": [
            "4/4 [==============================] - 3s 450ms/step - loss: 1.4731 - categorical_accuracy: 0.3000\n"
          ]
        },
        {
          "output_type": "execute_result",
          "data": {
            "text/plain": [
              "[1.4730677604675293, 0.30000001192092896]"
            ]
          },
          "metadata": {},
          "execution_count": 32
        }
      ]
    },
    {
      "cell_type": "code",
      "source": [
        "# Calculate the predictions\n",
        "predict_probas_2 = model_2.predict(X_test) \n",
        "\n",
        "# Convert probabilities to label encoding\n",
        "y_predict_2 = np.argmax(predict_probas_2, axis=1)"
      ],
      "metadata": {
        "id": "OVTsgCIrvsUo"
      },
      "execution_count": 33,
      "outputs": []
    },
    {
      "cell_type": "code",
      "source": [
        "y_test_labels = np.argmax(y_test, axis=1)\n",
        "conf_mat_2 = confusion_matrix(y_test_labels, y_predict_2)\n",
        "\n",
        "plt.figure(figsize = (8,6))\n",
        "sns.heatmap(conf_mat_2,\n",
        "            annot = True,\n",
        "            cbar = False,\n",
        "            xticklabels = val_ds.class_names,\n",
        "            yticklabels = val_ds.class_names,\n",
        "            cmap = \"rocket_r\",\n",
        "            linewidths = 1)\n",
        "plt.title('Confusion Matrix for Sequential CNN', \n",
        "          size = 25, \n",
        "          y = 1.01)\n",
        "plt.xlabel(\"Predicted Label\", size = 20)\n",
        "plt.ylabel(\"True Label\", size = 20)\n",
        "plt.show()"
      ],
      "metadata": {
        "colab": {
          "base_uri": "https://localhost:8080/",
          "height": 422
        },
        "id": "TBd-7G6Jvumn",
        "outputId": "5327db3e-a6a9-4283-c094-f12a6ef864bb"
      },
      "execution_count": 34,
      "outputs": [
        {
          "output_type": "display_data",
          "data": {
            "text/plain": [
              "<Figure size 576x432 with 1 Axes>"
            ],
            "image/png": "[encoded data removed]"
          },
          "metadata": {
            "needs_background": "light"
          }
        }
      ]
    },
    {
      "cell_type": "code",
      "source": [],
      "metadata": {
        "id": "h7FfSAFtNul3"
      },
      "execution_count": null,
      "outputs": []
    }
  ]
}