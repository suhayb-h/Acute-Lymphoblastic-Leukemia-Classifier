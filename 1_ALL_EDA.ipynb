{
  "cells": [
    {
      "cell_type": "markdown",
      "metadata": {
        "id": "view-in-github",
        "colab_type": "text"
      },
      "source": [
        "<a href=\"https://colab.research.google.com/github/suhayb-h/Acute-Lymphoblastic-Leukemia-Classifier/blob/main/1_ALL_EDA.ipynb\" target=\"_parent\"><img src=\"https://colab.research.google.com/assets/colab-badge.svg\" alt=\"Open In Colab\"/></a>"
      ]
    },
    {
      "cell_type": "markdown",
      "source": [
        "# Acute Lymphoblastic Leukemia Classifier:\n",
        "## Notebook 1: Preprocessing and Exploratory Data Analysis\n",
        "##### Project Author: Suhayb Hafiz \n",
        "\n",
        "---"
      ],
      "metadata": {
        "id": "7aoLQ6gAvfr3"
      }
    },
    {
      "cell_type": "markdown",
      "metadata": {
        "id": "N1HxBBn9iur4"
      },
      "source": [
        "## Introduction\n",
        "\n",
        "The purpose of this project was to assess whether machine learning and neural network models could be used to differentiate human cells based on the presence of seemingly imperceptable differences. Acute Lymphoblastic Leukemia (ALL) is the most common type of childhood cancer, accounting for approximately 25% of pediatric neoplasias. ALL is caused by the excessive proliferation of a subclassification of white blood cells called B-Lymphoblasts, and these cells will be the focus of this project. B-Lymphoblasts are immature cells that mature within bone marrow. Once fully matured, these cells become B-Lymphocytes and are ultimately responsible for producing antibodies in addition to other roles within the immune system. \n",
        "Neural networks are already being implemented in healthcare to assist with diagnosis and research. Building these networks for specific tasks, such as this projects' ALL classifier, can result in the creation of new tools that can be utilized by pathologists, oncologists and other medical professionals. Ultimately, advancements in this sector of medical modelling can result in ealier diagnosis for a larger number of diseases and conditions, which can have a positive influence on prognosis and patient outcome. "
      ]
    },
    {
      "cell_type": "markdown",
      "metadata": {
        "id": "31fvfU1WkkCR"
      },
      "source": [
        "## Data Collection and Pre-Processing\n",
        "\n",
        "Images for this project were released to the public for the International Symposium on Biomedical Imaging (ISBI) 2019 C-NMC Challenge. This challenge was an international competition that culminated in a symposium in Venice, Italy. The cells were collected through bone marrow biopsies from 69 patients suffering from ALL and 49 patients without ALL. For this project, these files were downloaded directly from Kaggle.\n",
        "\n",
        "The dataset provided was relatively small, accounting for a total of only 15,135 images of lymphoblasts. Furthermore, there were no labels provided for the \"test\" data folder, deeming them completely unusable for this project. As a result, only 12,528 images were available for analysis. To adapt to this shortcoming, the validation data folder provided in the original dataset was used as the test set. Within the code for each model, new validation data was provided directly from the training set. \n",
        "\n",
        "For the models detailed as part of this project, dealing with even this relatively small dataset proved challenging due to the lack of computational resources available. Training took a remarkably long time, with the longest training time being 33 hours, while other models would fail to complete training altogether. The most significant means of combatting this issue was by importing the images through a data generator. \n",
        "\n",
        "The original validation dataset was structured entirely differently from the training dataset. While the training folder had ALL and normal lymphoblasts divided into subfolders, the validation folder had 1867 lymphocyte images within a single folder with an accompanying CSV file that labelled these cells as 'all' or normal ('hem'). After importing  relevent libraries for this notebook, this dataframe is shown below: "
      ]
    },
    {
      "cell_type": "code",
      "execution_count": null,
      "metadata": {
        "id": "lfoJKV1jQ2cI",
        "outputId": "282e1a81-49f9-4787-e3ee-a670c36c1655",
        "colab": {
          "base_uri": "https://localhost:8080/"
        }
      },
      "outputs": [
        {
          "output_type": "stream",
          "name": "stdout",
          "text": [
            "Mounted at /content/drive\n"
          ]
        }
      ],
      "source": [
        "# This notebook was written google co-lab\n",
        "# This code cell should not be run if not using co-lab\n",
        "\n",
        "from google.colab import drive\n",
        "drive.mount('/content/drive')"
      ]
    },
    {
      "cell_type": "code",
      "source": [
        "import pandas as pd\n",
        "import numpy as np\n",
        "import glob as glob\n",
        "import os\n",
        "import random\n",
        "import tensorflow as tf\n",
        "import cv2\n",
        "from tensorflow import keras\n",
        "from tensorflow.keras import layers, Input\n",
        "from tensorflow.keras.models import Sequential, Model\n",
        "from  matplotlib import pyplot as plt\n",
        "import matplotlib.image as img\n",
        "%matplotlib inline\n",
        "from sklearn.utils import shuffle"
      ],
      "metadata": {
        "id": "iP-vYNeafPYN"
      },
      "execution_count": null,
      "outputs": []
    },
    {
      "cell_type": "code",
      "execution_count": null,
      "metadata": {
        "colab": {
          "base_uri": "https://localhost:8080/",
          "height": 424
        },
        "id": "7tt62f6lnPX_",
        "outputId": "c0bfa484-5967-4c1a-af2a-b6d9a73dca57"
      },
      "outputs": [
        {
          "output_type": "execute_result",
          "data": {
            "text/plain": [
              "                Patient_ID new_names labels\n",
              "0      UID_57_29_1_all.bmp     1.bmp      1\n",
              "1      UID_57_22_2_all.bmp     2.bmp      1\n",
              "2      UID_57_31_3_all.bmp     3.bmp      1\n",
              "3     UID_H49_35_1_hem.bmp     4.bmp      0\n",
              "4      UID_58_6_13_all.bmp     5.bmp      1\n",
              "...                    ...       ...    ...\n",
              "1862   UID_54_33_1_all.bmp  1863.bmp      1\n",
              "1863   UID_55_24_1_all.bmp  1864.bmp      1\n",
              "1864  UID_H32_20_1_hem.bmp  1865.bmp      0\n",
              "1865   UID_54_30_2_all.bmp  1866.bmp      1\n",
              "1866   UID_66_10_3_all.bmp  1867.bmp      1\n",
              "\n",
              "[1867 rows x 3 columns]"
            ],
            "text/html": [
              "\n",
              "  <div id=\"df-68bebdca-fe33-4d6a-8e8f-da362d781986\">\n",
              "    <div class=\"colab-df-container\">\n",
              "      <div>\n",
              "<style scoped>\n",
              "    .dataframe tbody tr th:only-of-type {\n",
              "        vertical-align: middle;\n",
              "    }\n",
              "\n",
              "    .dataframe tbody tr th {\n",
              "        vertical-align: top;\n",
              "    }\n",
              "\n",
              "    .dataframe thead th {\n",
              "        text-align: right;\n",
              "    }\n",
              "</style>\n",
              "<table border=\"1\" class=\"dataframe\">\n",
              "  <thead>\n",
              "    <tr style=\"text-align: right;\">\n",
              "      <th></th>\n",
              "      <th>Patient_ID</th>\n",
              "      <th>new_names</th>\n",
              "      <th>labels</th>\n",
              "    </tr>\n",
              "  </thead>\n",
              "  <tbody>\n",
              "    <tr>\n",
              "      <th>0</th>\n",
              "      <td>UID_57_29_1_all.bmp</td>\n",
              "      <td>1.bmp</td>\n",
              "      <td>1</td>\n",
              "    </tr>\n",
              "    <tr>\n",
              "      <th>1</th>\n",
              "      <td>UID_57_22_2_all.bmp</td>\n",
              "      <td>2.bmp</td>\n",
              "      <td>1</td>\n",
              "    </tr>\n",
              "    <tr>\n",
              "      <th>2</th>\n",
              "      <td>UID_57_31_3_all.bmp</td>\n",
              "      <td>3.bmp</td>\n",
              "      <td>1</td>\n",
              "    </tr>\n",
              "    <tr>\n",
              "      <th>3</th>\n",
              "      <td>UID_H49_35_1_hem.bmp</td>\n",
              "      <td>4.bmp</td>\n",
              "      <td>0</td>\n",
              "    </tr>\n",
              "    <tr>\n",
              "      <th>4</th>\n",
              "      <td>UID_58_6_13_all.bmp</td>\n",
              "      <td>5.bmp</td>\n",
              "      <td>1</td>\n",
              "    </tr>\n",
              "    <tr>\n",
              "      <th>...</th>\n",
              "      <td>...</td>\n",
              "      <td>...</td>\n",
              "      <td>...</td>\n",
              "    </tr>\n",
              "    <tr>\n",
              "      <th>1862</th>\n",
              "      <td>UID_54_33_1_all.bmp</td>\n",
              "      <td>1863.bmp</td>\n",
              "      <td>1</td>\n",
              "    </tr>\n",
              "    <tr>\n",
              "      <th>1863</th>\n",
              "      <td>UID_55_24_1_all.bmp</td>\n",
              "      <td>1864.bmp</td>\n",
              "      <td>1</td>\n",
              "    </tr>\n",
              "    <tr>\n",
              "      <th>1864</th>\n",
              "      <td>UID_H32_20_1_hem.bmp</td>\n",
              "      <td>1865.bmp</td>\n",
              "      <td>0</td>\n",
              "    </tr>\n",
              "    <tr>\n",
              "      <th>1865</th>\n",
              "      <td>UID_54_30_2_all.bmp</td>\n",
              "      <td>1866.bmp</td>\n",
              "      <td>1</td>\n",
              "    </tr>\n",
              "    <tr>\n",
              "      <th>1866</th>\n",
              "      <td>UID_66_10_3_all.bmp</td>\n",
              "      <td>1867.bmp</td>\n",
              "      <td>1</td>\n",
              "    </tr>\n",
              "  </tbody>\n",
              "</table>\n",
              "<p>1867 rows × 3 columns</p>\n",
              "</div>\n",
              "      <button class=\"colab-df-convert\" onclick=\"convertToInteractive('df-68bebdca-fe33-4d6a-8e8f-da362d781986')\"\n",
              "              title=\"Convert this dataframe to an interactive table.\"\n",
              "              style=\"display:none;\">\n",
              "        \n",
              "  <svg xmlns=\"http://www.w3.org/2000/svg\" height=\"24px\"viewBox=\"0 0 24 24\"\n",
              "       width=\"24px\">\n",
              "    <path d=\"M0 0h24v24H0V0z\" fill=\"none\"/>\n",
              "    <path d=\"M18.56 5.44l.94 2.06.94-2.06 2.06-.94-2.06-.94-.94-2.06-.94 2.06-2.06.94zm-11 1L8.5 8.5l.94-2.06 2.06-.94-2.06-.94L8.5 2.5l-.94 2.06-2.06.94zm10 10l.94 2.06.94-2.06 2.06-.94-2.06-.94-.94-2.06-.94 2.06-2.06.94z\"/><path d=\"M17.41 7.96l-1.37-1.37c-.4-.4-.92-.59-1.43-.59-.52 0-1.04.2-1.43.59L10.3 9.45l-7.72 7.72c-.78.78-.78 2.05 0 2.83L4 21.41c.39.39.9.59 1.41.59.51 0 1.02-.2 1.41-.59l7.78-7.78 2.81-2.81c.8-.78.8-2.07 0-2.86zM5.41 20L4 18.59l7.72-7.72 1.47 1.35L5.41 20z\"/>\n",
              "  </svg>\n",
              "      </button>\n",
              "      \n",
              "  <style>\n",
              "    .colab-df-container {\n",
              "      display:flex;\n",
              "      flex-wrap:wrap;\n",
              "      gap: 12px;\n",
              "    }\n",
              "\n",
              "    .colab-df-convert {\n",
              "      background-color: #E8F0FE;\n",
              "      border: none;\n",
              "      border-radius: 50%;\n",
              "      cursor: pointer;\n",
              "      display: none;\n",
              "      fill: #1967D2;\n",
              "      height: 32px;\n",
              "      padding: 0 0 0 0;\n",
              "      width: 32px;\n",
              "    }\n",
              "\n",
              "    .colab-df-convert:hover {\n",
              "      background-color: #E2EBFA;\n",
              "      box-shadow: 0px 1px 2px rgba(60, 64, 67, 0.3), 0px 1px 3px 1px rgba(60, 64, 67, 0.15);\n",
              "      fill: #174EA6;\n",
              "    }\n",
              "\n",
              "    [theme=dark] .colab-df-convert {\n",
              "      background-color: #3B4455;\n",
              "      fill: #D2E3FC;\n",
              "    }\n",
              "\n",
              "    [theme=dark] .colab-df-convert:hover {\n",
              "      background-color: #434B5C;\n",
              "      box-shadow: 0px 1px 3px 1px rgba(0, 0, 0, 0.15);\n",
              "      filter: drop-shadow(0px 1px 2px rgba(0, 0, 0, 0.3));\n",
              "      fill: #FFFFFF;\n",
              "    }\n",
              "  </style>\n",
              "\n",
              "      <script>\n",
              "        const buttonEl =\n",
              "          document.querySelector('#df-68bebdca-fe33-4d6a-8e8f-da362d781986 button.colab-df-convert');\n",
              "        buttonEl.style.display =\n",
              "          google.colab.kernel.accessAllowed ? 'block' : 'none';\n",
              "\n",
              "        async function convertToInteractive(key) {\n",
              "          const element = document.querySelector('#df-68bebdca-fe33-4d6a-8e8f-da362d781986');\n",
              "          const dataTable =\n",
              "            await google.colab.kernel.invokeFunction('convertToInteractive',\n",
              "                                                     [key], {});\n",
              "          if (!dataTable) return;\n",
              "\n",
              "          const docLinkHtml = 'Like what you see? Visit the ' +\n",
              "            '<a target=\"_blank\" href=https://colab.research.google.com/notebooks/data_table.ipynb>data table notebook</a>'\n",
              "            + ' to learn more about interactive tables.';\n",
              "          element.innerHTML = '';\n",
              "          dataTable['output_type'] = 'display_data';\n",
              "          await google.colab.output.renderOutput(dataTable, element);\n",
              "          const docLink = document.createElement('div');\n",
              "          docLink.innerHTML = docLinkHtml;\n",
              "          element.appendChild(docLink);\n",
              "        }\n",
              "      </script>\n",
              "    </div>\n",
              "  </div>\n",
              "  "
            ]
          },
          "metadata": {},
          "execution_count": 3
        }
      ],
      "source": [
        "# For author: Code to run locally\n",
        "# df_test = pd.read_csv(\"/content/drive/Othercomputers/My MacBook Air/BrainStation/Capstone/capstone_data/test_data/val_data.csv\", dtype = str)\n",
        "\n",
        "# For author: Code to run on co-lab\n",
        "df_test = pd.read_csv(\"/content/drive/Othercomputers/My MacBook Air/BrainStation/Capstone/capstone_data/test_data/val_data.csv\", \n",
        "                      dtype = str) #<-- Dataframe had to be formatted as strings to be compatible with the data generator\n",
        "df_test"
      ]
    },
    {
      "cell_type": "markdown",
      "source": [
        "With regards to the dataframe shown above, an issue arose with the labelling. When training neural networks, the machine defaulted labelling 'all' as '0'and 'hem' as '1'. This was the opposite of the labelling that was used in the CSV shown above. For this reason, a new column was added to the dataframe called `true_labels` before running test data through trained models. This adjustment was included in the cell below:"
      ],
      "metadata": {
        "id": "UKJnIO6467e3"
      }
    },
    {
      "cell_type": "code",
      "source": [
        "# a new column called true_labels was created wherein 'all' patients are labelled 0 \n",
        "df_test.loc[df_test['Patient_ID'].str.contains('all'), 'true_labels'] = '0'\n",
        "\n",
        "# true_labels was also given a label 1 for any patients that were non-cancerous\n",
        "df_test.loc[df_test['Patient_ID'].str.contains('hem'), 'true_labels'] = '1'\n",
        "\n",
        "df_test"
      ],
      "metadata": {
        "id": "UT45xRxO73nG",
        "outputId": "252acbb1-3e11-425f-d89d-8e64062fc4a2",
        "colab": {
          "base_uri": "https://localhost:8080/",
          "height": 424
        }
      },
      "execution_count": null,
      "outputs": [
        {
          "output_type": "execute_result",
          "data": {
            "text/plain": [
              "                Patient_ID new_names labels true_labels\n",
              "0      UID_57_29_1_all.bmp     1.bmp      1           0\n",
              "1      UID_57_22_2_all.bmp     2.bmp      1           0\n",
              "2      UID_57_31_3_all.bmp     3.bmp      1           0\n",
              "3     UID_H49_35_1_hem.bmp     4.bmp      0           1\n",
              "4      UID_58_6_13_all.bmp     5.bmp      1           0\n",
              "...                    ...       ...    ...         ...\n",
              "1862   UID_54_33_1_all.bmp  1863.bmp      1           0\n",
              "1863   UID_55_24_1_all.bmp  1864.bmp      1           0\n",
              "1864  UID_H32_20_1_hem.bmp  1865.bmp      0           1\n",
              "1865   UID_54_30_2_all.bmp  1866.bmp      1           0\n",
              "1866   UID_66_10_3_all.bmp  1867.bmp      1           0\n",
              "\n",
              "[1867 rows x 4 columns]"
            ],
            "text/html": [
              "\n",
              "  <div id=\"df-dc0c7e22-0f10-46e7-babe-212e9a424da5\">\n",
              "    <div class=\"colab-df-container\">\n",
              "      <div>\n",
              "<style scoped>\n",
              "    .dataframe tbody tr th:only-of-type {\n",
              "        vertical-align: middle;\n",
              "    }\n",
              "\n",
              "    .dataframe tbody tr th {\n",
              "        vertical-align: top;\n",
              "    }\n",
              "\n",
              "    .dataframe thead th {\n",
              "        text-align: right;\n",
              "    }\n",
              "</style>\n",
              "<table border=\"1\" class=\"dataframe\">\n",
              "  <thead>\n",
              "    <tr style=\"text-align: right;\">\n",
              "      <th></th>\n",
              "      <th>Patient_ID</th>\n",
              "      <th>new_names</th>\n",
              "      <th>labels</th>\n",
              "      <th>true_labels</th>\n",
              "    </tr>\n",
              "  </thead>\n",
              "  <tbody>\n",
              "    <tr>\n",
              "      <th>0</th>\n",
              "      <td>UID_57_29_1_all.bmp</td>\n",
              "      <td>1.bmp</td>\n",
              "      <td>1</td>\n",
              "      <td>0</td>\n",
              "    </tr>\n",
              "    <tr>\n",
              "      <th>1</th>\n",
              "      <td>UID_57_22_2_all.bmp</td>\n",
              "      <td>2.bmp</td>\n",
              "      <td>1</td>\n",
              "      <td>0</td>\n",
              "    </tr>\n",
              "    <tr>\n",
              "      <th>2</th>\n",
              "      <td>UID_57_31_3_all.bmp</td>\n",
              "      <td>3.bmp</td>\n",
              "      <td>1</td>\n",
              "      <td>0</td>\n",
              "    </tr>\n",
              "    <tr>\n",
              "      <th>3</th>\n",
              "      <td>UID_H49_35_1_hem.bmp</td>\n",
              "      <td>4.bmp</td>\n",
              "      <td>0</td>\n",
              "      <td>1</td>\n",
              "    </tr>\n",
              "    <tr>\n",
              "      <th>4</th>\n",
              "      <td>UID_58_6_13_all.bmp</td>\n",
              "      <td>5.bmp</td>\n",
              "      <td>1</td>\n",
              "      <td>0</td>\n",
              "    </tr>\n",
              "    <tr>\n",
              "      <th>...</th>\n",
              "      <td>...</td>\n",
              "      <td>...</td>\n",
              "      <td>...</td>\n",
              "      <td>...</td>\n",
              "    </tr>\n",
              "    <tr>\n",
              "      <th>1862</th>\n",
              "      <td>UID_54_33_1_all.bmp</td>\n",
              "      <td>1863.bmp</td>\n",
              "      <td>1</td>\n",
              "      <td>0</td>\n",
              "    </tr>\n",
              "    <tr>\n",
              "      <th>1863</th>\n",
              "      <td>UID_55_24_1_all.bmp</td>\n",
              "      <td>1864.bmp</td>\n",
              "      <td>1</td>\n",
              "      <td>0</td>\n",
              "    </tr>\n",
              "    <tr>\n",
              "      <th>1864</th>\n",
              "      <td>UID_H32_20_1_hem.bmp</td>\n",
              "      <td>1865.bmp</td>\n",
              "      <td>0</td>\n",
              "      <td>1</td>\n",
              "    </tr>\n",
              "    <tr>\n",
              "      <th>1865</th>\n",
              "      <td>UID_54_30_2_all.bmp</td>\n",
              "      <td>1866.bmp</td>\n",
              "      <td>1</td>\n",
              "      <td>0</td>\n",
              "    </tr>\n",
              "    <tr>\n",
              "      <th>1866</th>\n",
              "      <td>UID_66_10_3_all.bmp</td>\n",
              "      <td>1867.bmp</td>\n",
              "      <td>1</td>\n",
              "      <td>0</td>\n",
              "    </tr>\n",
              "  </tbody>\n",
              "</table>\n",
              "<p>1867 rows × 4 columns</p>\n",
              "</div>\n",
              "      <button class=\"colab-df-convert\" onclick=\"convertToInteractive('df-dc0c7e22-0f10-46e7-babe-212e9a424da5')\"\n",
              "              title=\"Convert this dataframe to an interactive table.\"\n",
              "              style=\"display:none;\">\n",
              "        \n",
              "  <svg xmlns=\"http://www.w3.org/2000/svg\" height=\"24px\"viewBox=\"0 0 24 24\"\n",
              "       width=\"24px\">\n",
              "    <path d=\"M0 0h24v24H0V0z\" fill=\"none\"/>\n",
              "    <path d=\"M18.56 5.44l.94 2.06.94-2.06 2.06-.94-2.06-.94-.94-2.06-.94 2.06-2.06.94zm-11 1L8.5 8.5l.94-2.06 2.06-.94-2.06-.94L8.5 2.5l-.94 2.06-2.06.94zm10 10l.94 2.06.94-2.06 2.06-.94-2.06-.94-.94-2.06-.94 2.06-2.06.94z\"/><path d=\"M17.41 7.96l-1.37-1.37c-.4-.4-.92-.59-1.43-.59-.52 0-1.04.2-1.43.59L10.3 9.45l-7.72 7.72c-.78.78-.78 2.05 0 2.83L4 21.41c.39.39.9.59 1.41.59.51 0 1.02-.2 1.41-.59l7.78-7.78 2.81-2.81c.8-.78.8-2.07 0-2.86zM5.41 20L4 18.59l7.72-7.72 1.47 1.35L5.41 20z\"/>\n",
              "  </svg>\n",
              "      </button>\n",
              "      \n",
              "  <style>\n",
              "    .colab-df-container {\n",
              "      display:flex;\n",
              "      flex-wrap:wrap;\n",
              "      gap: 12px;\n",
              "    }\n",
              "\n",
              "    .colab-df-convert {\n",
              "      background-color: #E8F0FE;\n",
              "      border: none;\n",
              "      border-radius: 50%;\n",
              "      cursor: pointer;\n",
              "      display: none;\n",
              "      fill: #1967D2;\n",
              "      height: 32px;\n",
              "      padding: 0 0 0 0;\n",
              "      width: 32px;\n",
              "    }\n",
              "\n",
              "    .colab-df-convert:hover {\n",
              "      background-color: #E2EBFA;\n",
              "      box-shadow: 0px 1px 2px rgba(60, 64, 67, 0.3), 0px 1px 3px 1px rgba(60, 64, 67, 0.15);\n",
              "      fill: #174EA6;\n",
              "    }\n",
              "\n",
              "    [theme=dark] .colab-df-convert {\n",
              "      background-color: #3B4455;\n",
              "      fill: #D2E3FC;\n",
              "    }\n",
              "\n",
              "    [theme=dark] .colab-df-convert:hover {\n",
              "      background-color: #434B5C;\n",
              "      box-shadow: 0px 1px 3px 1px rgba(0, 0, 0, 0.15);\n",
              "      filter: drop-shadow(0px 1px 2px rgba(0, 0, 0, 0.3));\n",
              "      fill: #FFFFFF;\n",
              "    }\n",
              "  </style>\n",
              "\n",
              "      <script>\n",
              "        const buttonEl =\n",
              "          document.querySelector('#df-dc0c7e22-0f10-46e7-babe-212e9a424da5 button.colab-df-convert');\n",
              "        buttonEl.style.display =\n",
              "          google.colab.kernel.accessAllowed ? 'block' : 'none';\n",
              "\n",
              "        async function convertToInteractive(key) {\n",
              "          const element = document.querySelector('#df-dc0c7e22-0f10-46e7-babe-212e9a424da5');\n",
              "          const dataTable =\n",
              "            await google.colab.kernel.invokeFunction('convertToInteractive',\n",
              "                                                     [key], {});\n",
              "          if (!dataTable) return;\n",
              "\n",
              "          const docLinkHtml = 'Like what you see? Visit the ' +\n",
              "            '<a target=\"_blank\" href=https://colab.research.google.com/notebooks/data_table.ipynb>data table notebook</a>'\n",
              "            + ' to learn more about interactive tables.';\n",
              "          element.innerHTML = '';\n",
              "          dataTable['output_type'] = 'display_data';\n",
              "          await google.colab.output.renderOutput(dataTable, element);\n",
              "          const docLink = document.createElement('div');\n",
              "          docLink.innerHTML = docLinkHtml;\n",
              "          element.appendChild(docLink);\n",
              "        }\n",
              "      </script>\n",
              "    </div>\n",
              "  </div>\n",
              "  "
            ]
          },
          "metadata": {},
          "execution_count": 4
        }
      ]
    },
    {
      "cell_type": "markdown",
      "source": [
        "## Data Exploration\n",
        "\n",
        "This notebook was created with the purpose of analyzing images of cells that were contained within the original dataset. The first step was to assess whether these images could be found and categorized within the code, based on folder structure and organization. This process was conducted in the cell below: "
      ],
      "metadata": {
        "id": "GllzxZItudPx"
      }
    },
    {
      "cell_type": "code",
      "execution_count": null,
      "metadata": {
        "colab": {
          "base_uri": "https://localhost:8080/"
        },
        "id": "oKHVRwcpRKWD",
        "outputId": "82eedbea-a7a1-4303-f794-1d3ae1d4cef2"
      },
      "outputs": [
        {
          "output_type": "stream",
          "name": "stdout",
          "text": [
            "Found 10661 files belonging to 2 classes.\n"
          ]
        }
      ],
      "source": [
        "# Re-structuring the training directory prior to running any further cells is required\n",
        "# Instructions for re-structuring are found in README file\n",
        "\n",
        "data = \\\n",
        "tf.keras.utils.\\\n",
        "image_dataset_from_directory('/content/drive/Othercomputers/My MacBook Air/C-NMC_Leukemia/training_data', # --> Training set directory path\n",
        "                             labels = \"inferred\", # --> Labels are extracted directly from folder names from directory\n",
        "                             class_names=['all', 'hem']) # --> Class names need to be identical to folder names or errors will result"
      ]
    },
    {
      "cell_type": "markdown",
      "metadata": {
        "id": "x7O0pDKcQ2cL"
      },
      "source": [
        "The machine was able to correctly identify 10,661 images as part of the training dataset. It is useful to be able to visualize these images directly within this notebook. Below is an assortment of 15 cells from the dataset with their appropriate labels. "
      ]
    },
    {
      "cell_type": "code",
      "execution_count": null,
      "metadata": {
        "colab": {
          "base_uri": "https://localhost:8080/",
          "height": 544
        },
        "id": "EIektODPqqze",
        "outputId": "e210ea57-c33a-4330-8aab-ce6f0aca1b39"
      },
      "outputs": [
        {
          "output_type": "display_data",
          "data": {
            "text/plain": [
              "<Figure size 720x576 with 15 Axes>"
            ],
            "image/png": "[encoded data removed]"
          },
          "metadata": {
            "needs_background": "light"
          }
        }
      ],
      "source": [
        "# Re-Running this code gives a new assortment of 15 cells labelled as either normal lymphoblasts (hem) or cancerous lymphoblasts (all)\n",
        "\n",
        "class_names = data.class_names\n",
        "\n",
        "plt.figure(figsize=(10, 8))\n",
        "for images, labels in data.take(1):\n",
        "  for i in range(15): # --> Plot 15 images \n",
        "    ax = plt.subplot(3, 5, i + 1) # --> Index starts from 0; +1 needed to plot each image\n",
        "    plt.imshow(images[i].numpy().astype(\"uint8\")) # --> Integer conversion needed to display images\n",
        "    plt.title(class_names[labels[i]])\n",
        "    plt.axis(\"off\")\n",
        "plt.tight_layout()"
      ]
    },
    {
      "cell_type": "markdown",
      "source": [
        "B-Lymphocytes develop and mature within bone marrow as immature B-lymphoblasts. Typically, bone marrow samples are collected and visualized through a microscope, which allows pathologists and other medical professionals to visualize a multitude of different cell types. This dataset is unique in that lymphoblasts found within pictures of bone marrow smears were isolated from the rest of the image and normalized on a black background. This is a relatively novell imaging technique that isn't typically used in a clinical setting, but can provide benefit in medical research. This imaging technique is especially useful in the context of machine learning and neural networks since the models are exclusively trained on the lymphoblast images themselves and are unaffected by any other noise.\n",
        "\n",
        "Cycling through random assortments of 15 images of lymphoblasts showcases the similarity between normal lymphoblasts and cancerous lymphoblasts. Immature cells throughout the body typically have large nuclei which allows for increased cell transcription and division. Closer inspection might reveal that cancerous lymphoblasts tend to be marginally larger and have more colour variation. However, these rules aren't followed by every image."
      ],
      "metadata": {
        "id": "T5jwjYgXvidC"
      }
    },
    {
      "cell_type": "markdown",
      "metadata": {
        "id": "n7fyZPDzQ2cO"
      },
      "source": [
        "#### Lymphoblast Size Analysis\n",
        "\n",
        "There are analytical techniques that can be utilized to assess whether there are truly changes in colour distribution and size between healthy lymphoblasts and cancerous lymphoblasts. Utilizing data manipulation techniques prior to machine modelling can provide useful insights as to what constitutes the differences between these two cell groups. In order to accomplish this task, an average of every \"all\" cancer image was created to compare to an average of normal lymphoblasts. In this notebook, images were interpreted as matrices that could be plotted as graphs. In essence, an image is nothing more than a matrix that holds RGB coordinates.  To create an average of images, every individual matrix for each image was combined into a single giant matrix. One giant matrix was created for normal cells (called `hem_`) and one for cancerous cells (called `all_`). These steps are listed below:"
      ]
    },
    {
      "cell_type": "code",
      "execution_count": null,
      "metadata": {
        "id": "DzFrYksIQ2cP"
      },
      "outputs": [],
      "source": [
        "hem_ = []\n",
        "\n",
        "#For original author: Code to run locally\n",
        "#for i in glob.glob('/C-NMC_Leukemia/training_data/hem/*.bmp'):\n",
        "#   im=img.imread(i)\n",
        "#   hem_.append(im)\n",
        "\n",
        "# For original author: Code to run on co-lab\n",
        "for i in glob.glob('/content/drive/Othercomputers/My MacBook Air/C-NMC_Leukemia/training_data/hem/*.bmp'):\n",
        "    im=img.imread(i)\n",
        "    hem_.append(im)\n",
        "\n",
        "hem_array = np.array(hem_)"
      ]
    },
    {
      "cell_type": "code",
      "execution_count": null,
      "metadata": {
        "id": "yw3s7RIsQ2cQ"
      },
      "outputs": [],
      "source": [
        "all_ = []\n",
        "\n",
        "#For original author: Code to run locally\n",
        "#for i in glob.glob('/C-NMC_Leukemia/training_data/all/*.bmp'):\n",
        "#   im=img.imread(i)\n",
        "#   all_.append(im)\n",
        "\n",
        "# For original author: Code to run on co-lab\n",
        "for i in glob.glob('/content/drive/Othercomputers/My MacBook Air/C-NMC_Leukemia/training_data/all/*.bmp'):\n",
        "    im=img.imread(i)\n",
        "    all_.append(im)\n",
        "\n",
        "all_array = np.array(all_)"
      ]
    },
    {
      "cell_type": "markdown",
      "source": [
        "Every image is appended to the giant matrix as a new layer. By assessing the shape of these matrices, new information can be discerned about the image data."
      ],
      "metadata": {
        "id": "z2cyptphysNd"
      }
    },
    {
      "cell_type": "code",
      "execution_count": null,
      "metadata": {
        "colab": {
          "base_uri": "https://localhost:8080/"
        },
        "id": "TDdBu3FuqeU6",
        "outputId": "7ecdb323-bcd3-40d2-c5da-f5d534e73529"
      },
      "outputs": [
        {
          "output_type": "execute_result",
          "data": {
            "text/plain": [
              "(3389, 450, 450, 3)"
            ]
          },
          "metadata": {},
          "execution_count": 9
        }
      ],
      "source": [
        "hem_array.shape"
      ]
    },
    {
      "cell_type": "code",
      "execution_count": null,
      "metadata": {
        "colab": {
          "base_uri": "https://localhost:8080/"
        },
        "id": "HXWWUbfxqhBF",
        "outputId": "cf5008e8-a2c4-4ca2-f993-52b5aec9bd14"
      },
      "outputs": [
        {
          "output_type": "execute_result",
          "data": {
            "text/plain": [
              "(7272, 450, 450, 3)"
            ]
          },
          "metadata": {},
          "execution_count": 10
        }
      ],
      "source": [
        "all_array.shape"
      ]
    },
    {
      "cell_type": "markdown",
      "metadata": {
        "id": "lVGkJd7wQ2cS"
      },
      "source": [
        "The shapes of the above arrays reveal that all images in the dataset are 450 pixels by 450 pixels. The '3' in these matrices represents the three RGB colours. Assessing the shapes of both aformentioned arrays showcases the distribution of the dataset. There is an obvious imbalance in the dataset, since only 3,389 images are classified as normal cells and 7,272 images are cancerous. From a clinical context, this imbalance makes sense. Bone marrow extraction is an exceptionally painful and invasive procedure. Physicians are unlikely to order a bone marrow biopsy unless there is significant evidence that the patient might be suffering from cancer. As such, imbalance is to be expected, as the majority of bone marrow biopsies should reveal cancerous disease.\n",
        "\n",
        "However, this imbalance can prove to be an issue during modelling. To address this issue, data could have been manipulated by randomly isolating half of cancerous images, in order to establish a relatively even number of images to compare between cancerous and non-cancerous states. However, this technique was ultimately decided against since having less data could also prove detrimental to model performance and reliability. For the purposes of this project, every image was utilized in model training. Instead of removing images, every neural network was assigned \"weights\" which allowed for normal cellular images to be assigned the weight of two cancerous cell images.\n",
        "These giant matrices were plotted as images below and are representative of the average of each cell class:"
      ]
    },
    {
      "cell_type": "code",
      "execution_count": 1,
      "metadata": {
        "colab": {
          "base_uri": "https://localhost:8080/",
          "height": 240
        },
        "id": "itQIoSPvQ2cT",
        "outputId": "d2520b2d-5b59-4235-b96e-80303aa0725d"
      },
      "outputs": [
        {
          "output_type": "error",
          "ename": "NameError",
          "evalue": "ignored",
          "traceback": [
            "\u001b[0;31m---------------------------------------------------------------------------\u001b[0m",
            "\u001b[0;31mNameError\u001b[0m                                 Traceback (most recent call last)",
            "\u001b[0;32m<ipython-input-1-b0421f6b011b>\u001b[0m in \u001b[0;36m<module>\u001b[0;34m()\u001b[0m\n\u001b[1;32m      1\u001b[0m \u001b[0;31m# Created a subplot of two images next to each other\u001b[0m\u001b[0;34m\u001b[0m\u001b[0;34m\u001b[0m\u001b[0;34m\u001b[0m\u001b[0m\n\u001b[1;32m      2\u001b[0m \u001b[0;34m\u001b[0m\u001b[0m\n\u001b[0;32m----> 3\u001b[0;31m \u001b[0mplt\u001b[0m\u001b[0;34m.\u001b[0m\u001b[0mfigure\u001b[0m\u001b[0;34m(\u001b[0m\u001b[0mfigsize\u001b[0m\u001b[0;34m=\u001b[0m\u001b[0;34m(\u001b[0m\u001b[0;36m10\u001b[0m\u001b[0;34m,\u001b[0m \u001b[0;36m8\u001b[0m\u001b[0;34m)\u001b[0m\u001b[0;34m)\u001b[0m\u001b[0;34m\u001b[0m\u001b[0;34m\u001b[0m\u001b[0m\n\u001b[0m\u001b[1;32m      4\u001b[0m \u001b[0mplt\u001b[0m\u001b[0;34m.\u001b[0m\u001b[0msubplot\u001b[0m\u001b[0;34m(\u001b[0m\u001b[0;36m1\u001b[0m\u001b[0;34m,\u001b[0m \u001b[0;36m2\u001b[0m\u001b[0;34m,\u001b[0m \u001b[0;36m1\u001b[0m\u001b[0;34m)\u001b[0m\u001b[0;34m\u001b[0m\u001b[0;34m\u001b[0m\u001b[0m\n\u001b[1;32m      5\u001b[0m \u001b[0mplt\u001b[0m\u001b[0;34m.\u001b[0m\u001b[0mimshow\u001b[0m\u001b[0;34m(\u001b[0m\u001b[0mall_array\u001b[0m\u001b[0;34m.\u001b[0m\u001b[0mmean\u001b[0m\u001b[0;34m(\u001b[0m\u001b[0maxis\u001b[0m\u001b[0;34m=\u001b[0m\u001b[0;36m0\u001b[0m\u001b[0;34m)\u001b[0m\u001b[0;34m)\u001b[0m\u001b[0;34m\u001b[0m\u001b[0;34m\u001b[0m\u001b[0m\n",
            "\u001b[0;31mNameError\u001b[0m: name 'plt' is not defined"
          ]
        }
      ],
      "source": [
        "# Created a subplot of two images next to each other\n",
        "\n",
        "plt.figure(figsize=(10, 8))\n",
        "plt.subplot(1, 2, 1)\n",
        "plt.imshow(all_array.mean(axis=0))\n",
        "plt.title(\"Mean of Cancer Cells\")\n",
        "plt.axis(\"off\")\n",
        "\n",
        "plt.subplot(1, 2, 2)\n",
        "plt.imshow(hem_array.mean(axis=0))\n",
        "plt.title(\"Mean of Normal Cells\")\n",
        "plt.axis(\"off\")\n",
        "plt.show()"
      ]
    },
    {
      "cell_type": "markdown",
      "metadata": {
        "id": "Q-tidEnxQ2cV"
      },
      "source": [
        "Some interesting observations between both classes of cells can be made based on the images above. In terms of similarities, the core of both of these images are bright white in colour. This makes sense, since every cell image in this dataset had varying presentations of the colours within the cell. Taking the average of several images cause these variations to cancel each other out, resulting in a uniform white colour.\n",
        "In terms of differences between these images, there are two significant observations. Firstly, the average cancer cell appears relatively large compared to the non-cancer image. The current understanding of cancer is that neoplastic cells are typically large to facilitate constant growth resutling in increased cell division. \n",
        "Additionally, the average cancer cell had a 'thinner' membrane compare to a non-cancer cell. This isn't necessarily a reflection of the thickness in cell membranes, but rather a reflection of average cell size. Immature cells, such as lymphoblasts, are already in a state of growth which requires relatively large nuclei. Cancer cells will be significantly more transcriptionally active compared to non-cancer lymphoblasts, which simply means that there will be more DNA replication for eventual protein synthesis. More transcription requires more DNA replication proteins, which takes up space. DNA replication almost exclusively occurs in the nucleus, which is why neoplastic cells should have larger nuclei. The result of larger nuclei, represented by the white space in our two images, is that cancer cells will typically have less space between their outer cell membrane and their nuclear envelope. "
      ]
    },
    {
      "cell_type": "markdown",
      "metadata": {
        "id": "nBZ-xdAcQ2cW"
      },
      "source": [
        "#### Lymphoblast Colour Distribution\n",
        "\n",
        "Based on the difference in the average cell size, machine learning models might be able to predict cancerous cells with a high degree of accuracy. Size and thickness of boundaries are two features that are typically easily discernable by various machine learning models. Furthermore, the high variation in thickness in the normal cell class might also result in a higher representation of colours, which is another feature that is typically easily identified by machine learning models. Isolating a small portion of both cells can allow for the comparison of their colour distributions. Comparing a small portion of the two cell stacks will allow for a better representation of the distribution of eosin (pink) colours. This technique would also allow for prevent eosin colours from being significantly outweighed by the black and white hues which make up a majority of the image."
      ]
    },
    {
      "cell_type": "code",
      "execution_count": null,
      "metadata": {
        "colab": {
          "base_uri": "https://localhost:8080/",
          "height": 215
        },
        "id": "OFyzjzYUQ2cX",
        "outputId": "ee10b220-db8b-4de8-c87b-fc1e95fbbeca"
      },
      "outputs": [
        {
          "output_type": "stream",
          "name": "stderr",
          "text": [
            "Clipping input data to the valid range for imshow with RGB data ([0..1] for floats or [0..255] for integers).\n",
            "Clipping input data to the valid range for imshow with RGB data ([0..1] for floats or [0..255] for integers).\n"
          ]
        },
        {
          "output_type": "display_data",
          "data": {
            "text/plain": [
              "<Figure size 432x288 with 2 Axes>"
            ],
            "image/png": "[encoded data removed]"
          },
          "metadata": {
            "needs_background": "light"
          }
        }
      ],
      "source": [
        "plt.subplot(1, 2, 1)\n",
        "plt.imshow(all_array[:,100:250,100:250].mean(axis=0))\n",
        "plt.title(\"Closeup Mean of Cancer Cells\")\n",
        "plt.axis(\"off\")\n",
        "\n",
        "plt.subplot(1, 2, 2)\n",
        "plt.imshow(hem_array[:,100:250,100:250].mean(axis=0))\n",
        "plt.title(\"Closeup Mean of Normal Cells\")\n",
        "plt.axis(\"off\")\n",
        "\n",
        "plt.subplots_adjust(wspace=1) \n",
        "plt.show()"
      ]
    },
    {
      "cell_type": "code",
      "execution_count": null,
      "metadata": {
        "colab": {
          "base_uri": "https://localhost:8080/",
          "height": 350
        },
        "id": "3nSklW0DQ2cX",
        "outputId": "5dd73aaf-1d54-4bdf-9c1a-99c9420364d3"
      },
      "outputs": [
        {
          "output_type": "display_data",
          "data": {
            "text/plain": [
              "<Figure size 720x360 with 1 Axes>"
            ],
            "image/png": "[encoded data removed]"
          },
          "metadata": {
            "needs_background": "light"
          }
        }
      ],
      "source": [
        "plt.figure(figsize = (10, 5))\n",
        "plt.hist(np.ravel(all_array[:,100:250,100:250]), bins=256, label = 'Cancer', color = 'blueviolet')\n",
        "plt.hist(np.ravel(hem_array[:,100:250,100:250]), bins=256, label = 'Normal', color = 'orchid')\n",
        "plt.ylim(0,8000000) # --> set the y limit to zoom in on the y axis to better display difference\n",
        "plt.xlim(1,130) # --> set the X limit to only show the portion of the graph that shows difference\n",
        "plt.xlabel('Colour Value')\n",
        "plt.ylabel('Pixel Count')\n",
        "plt.legend(loc='upper right')\n",
        "plt.title('Pixel Count per Colour Value')\n",
        "plt.show()"
      ]
    },
    {
      "cell_type": "markdown",
      "metadata": {
        "id": "lU7o48oBQ2cY"
      },
      "source": [
        "The above graph reveals a surpising finding, being that the cancer cell somehow showcases a more expansive colour distribution when compared to normal lymphoblasts. This is peculiar, and might require further biological testing to better understand why the cancer cell membrane might be showcasing a larger variation in colour. \n",
        "\n",
        "## Conclusion\n",
        "\n",
        "A lot was surmised from the initial exploratory data analysis and this concludes this notebook. The exploration of the dataset revealed that cancer cells are larger and might display a higher colour density than normal cells. Based on these features, certain machine learning models have the potential to perform well in diagnosing lymphoblasts as normal or cancerous.\n",
        "\n",
        "The next notebook details an initial logistic regression model and a simple convolutional neural network. The notebook will train these models on the image data and reveal their respective performances."
      ]
    }
  ],
  "metadata": {
    "colab": {
      "collapsed_sections": [],
      "machine_shape": "hm",
      "name": "1. ALL EDA.ipynb",
      "provenance": [],
      "include_colab_link": true
    },
    "gpuClass": "standard",
    "kernelspec": {
      "display_name": "Python 3.8.13 ('deeplearning')",
      "language": "python",
      "name": "python3"
    },
    "language_info": {
      "codemirror_mode": {
        "name": "ipython",
        "version": 3
      },
      "file_extension": ".py",
      "mimetype": "text/x-python",
      "name": "python",
      "nbconvert_exporter": "python",
      "pygments_lexer": "ipython3",
      "version": "3.8.13"
    },
    "orig_nbformat": 4,
    "vscode": {
      "interpreter": {
        "hash": "273d489d297b00ca4249bd56ca235947d5c672f5aad333aaf3138058574823b8"
      }
    },
    "accelerator": "GPU"
  },
  "nbformat": 4,
  "nbformat_minor": 0
}