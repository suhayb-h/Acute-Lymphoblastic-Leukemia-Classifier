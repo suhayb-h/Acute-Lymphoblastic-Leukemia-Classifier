{
  "cells": [
    {
      "cell_type": "markdown",
      "source": [
        "###Introduction\n",
        "\n",
        "The purpose of this report was to establish a base model by which to compare additional models. For this reason, the simplest of neural network models was selected to test the image data. The initial intention was to construct a classic machine learning model, but such models required more computational resources compared to what was available. Dealing with images as tensors was much more computationally efficient and manageable. Therefore, for the base model a simple sequential convolutional network was created for the purposes of this report. "
      ],
      "metadata": {
        "id": "dKUITB6BGLl-"
      }
    },
    {
      "cell_type": "code",
      "execution_count": null,
      "metadata": {
        "id": "H0_bqQOrTsm5"
      },
      "outputs": [],
      "source": [
        "import tensorflow as tf\n",
        "import tensorflow.keras as keras\n",
        "import math\n",
        "from tensorflow.keras_preprocessing.image import ImageDataGenerator\n",
        "from tensorflow.keras.layers import Dense, Activation, Flatten, Dropout, BatchNormalization\n",
        "from tensorflow.keras.layers import Conv2D, MaxPooling2D\n",
        "from tensorflow.keras import regularizers\n",
        "from tensorflow.keras import optimizers\n",
        "from tensorflow.keras import preprocessing\n",
        "from tensorflow.keras.callbacks import EarlyStopping\n",
        "from tensorflow.keras.models import Sequential\n",
        "import pandas as pd\n",
        "import numpy as np\n",
        "import matplotlib.pyplot as plt\n",
        "import seaborn as sns\n",
        "from sklearn.metrics import confusion_matrix"
      ]
    },
    {
      "cell_type": "code",
      "source": [
        "from google.colab import drive\n",
        "drive.mount('/content/drive')"
      ],
      "metadata": {
        "colab": {
          "base_uri": "https://localhost:8080/"
        },
        "id": "8p15-tzxaFS0",
        "outputId": "2700bcf3-c0bb-4bb1-a4ad-dafad66ef8d8"
      },
      "execution_count": null,
      "outputs": [
        {
          "output_type": "stream",
          "name": "stdout",
          "text": [
            "Drive already mounted at /content/drive; to attempt to forcibly remount, call drive.mount(\"/content/drive\", force_remount=True).\n"
          ]
        }
      ]
    },
    {
      "cell_type": "markdown",
      "source": [
        "The initial steps were to import relevant libraries, import the dataset, scale the data. As mentioned in the EDA report, the validation data set was utilized as the test data set. For this reason, a validation set was created by splitting  the training set. This split was done directly within the image data generator by allocating 17.5% of the train data set as the validation set. 17.5% was chosen simply because it roughly equates to the size of the test data set. \n",
        "\n",
        "Within the image data generators, all images were rescaled, randomly rotated, randomly flipped, shuffled, and split into batches of 256 images. These manipulations were to implement as much randomness into the data as possible, while simultaneously maintaining the integrity of the images. Since these images were round cells without obvious directional polarity, rotatating and flipping the cells should not affect the integrity of the sequential model. Finally, based on the analysis of colour distribution in the previous EDA report, images were forced to retain their colors before being passed into the model. "
      ],
      "metadata": {
        "id": "2IhOeVbOIdbW"
      }
    },
    {
      "cell_type": "code",
      "source": [
        "# Create training image data generator.\n",
        "train_datagen = ImageDataGenerator(rescale=1./255, \n",
        "                                   rotation_range = 180, \n",
        "                                   horizontal_flip = True, \n",
        "                                   vertical_flip = True, \n",
        "                                   validation_split = 0.175)\n",
        "\n",
        "# Finaly we specify where the images should be loaded from as well as some additional attributes:\n",
        "train_generator = train_datagen.flow_from_directory('/content/drive/Othercomputers/My MacBook Air/BrainStation/Capstone/capstone_data/training_data', \n",
        "                                                    target_size = (256, 256),\n",
        "                                                    batch_size = 256, \n",
        "                                                    color_mode = 'rgb', \n",
        "                                                    class_mode = 'categorical',\n",
        "                                                    shuffle = True, \n",
        "                                                    subset = 'training')\n",
        "\n",
        "validation_generator = train_datagen.flow_from_directory('/content/drive/Othercomputers/My MacBook Air/BrainStation/Capstone/capstone_data/training_data', \n",
        "                                                         target_size = (256, 256), \n",
        "                                                         batch_size = 256,\n",
        "                                                         color_mode = 'rgb', \n",
        "                                                         class_mode = 'categorical',\n",
        "                                                         shuffle = True, \n",
        "                                                         subset = 'validation')"
      ],
      "metadata": {
        "colab": {
          "base_uri": "https://localhost:8080/"
        },
        "id": "4K3dPQmSNOxq",
        "outputId": "b5561c3e-c903-4de7-f250-70ca8025029f"
      },
      "execution_count": null,
      "outputs": [
        {
          "output_type": "stream",
          "name": "stdout",
          "text": [
            "Found 8796 images belonging to 2 classes.\n",
            "Found 1865 images belonging to 2 classes.\n"
          ]
        }
      ]
    },
    {
      "cell_type": "markdown",
      "source": [
        "###Instantiating the model\n",
        "\n",
        "Sequential models are constructed by \"adding\" layers and then adjusting the parameters of each individual layer. The model constructed for this report was created with three 2-demnsional convlution layers, followed by a flattened layer and 2 dense layers. The convolutional layers recieved the most adjustment in terms of parameter optimization. Regularizers were established on these layers with the sole purpose of reducing overfitting. Two regularizers were available, L1 and L2, with the option to utilize both regularizers in conjuntion for each parameter. Ultimately, L2 was chosen as the sole regularizer since it specifically serves the function of reducing overfitting. Each convolutional layer was also given a dropout function, since doing so also reduces overfitting... All three layers were also given maximum pooling layers... The final output layer of this model was set to a sigmoid activating dense layer with two outputs. This  output layer serves to provide a binary classification between two final results, those being cancerous and non-cancerous. Since the purpose of the model is a binary classifier, binary cross entropy was also selected as the loss function. "
      ],
      "metadata": {
        "id": "LMI4gCLrKBZX"
      }
    },
    {
      "cell_type": "code",
      "execution_count": null,
      "metadata": {
        "id": "MlFt7dUATsnC"
      },
      "outputs": [],
      "source": [
        "model = Sequential()\n",
        "\n",
        "model.add(Conv2D(16, (3,3), 1, \n",
        "                 activation = 'relu',\n",
        "                 kernel_regularizer = regularizers.L2(0.01),\n",
        "                 activity_regularizer = regularizers.L2(0.01), \n",
        "                 input_shape = (256,256,3)))\n",
        "model.add(MaxPooling2D())\n",
        "model.add(Dropout(0.2))\n",
        "\n",
        "\n",
        "model.add(Conv2D(32, (3,3), 1, \n",
        "                 activation='relu', \n",
        "                 kernel_regularizer = regularizers.L2(0.01),\n",
        "                 activity_regularizer = regularizers.L2(0.01)))\n",
        "model.add(MaxPooling2D())\n",
        "model.add(Dropout(0.2))\n",
        "\n",
        "\n",
        "model.add(Conv2D(16, (3,3), 1, \n",
        "                 activation='relu',\n",
        "                 kernel_regularizer = regularizers.L2(0.01),\n",
        "                 activity_regularizer = regularizers.L2(0.01)))\n",
        "model.add(MaxPooling2D())\n",
        "model.add(Dropout(0.2))\n",
        "\n",
        "model.add(Flatten())\n",
        "\n",
        "model.add(Dense(256, activation='relu'))\n",
        "\n",
        "model.add(Dense(2, activation='sigmoid'))"
      ]
    },
    {
      "cell_type": "code",
      "execution_count": null,
      "metadata": {
        "id": "70Vvzw_ETsnD"
      },
      "outputs": [],
      "source": [
        "model.compile(optimizer = 'Adam', \n",
        "              loss = 'binary_crossentropy', \n",
        "              metrics = ['accuracy'])"
      ]
    },
    {
      "cell_type": "code",
      "execution_count": null,
      "metadata": {
        "id": "uqzxaoy4TsnE"
      },
      "outputs": [],
      "source": [
        "#model.summary()"
      ]
    },
    {
      "cell_type": "code",
      "execution_count": null,
      "metadata": {
        "colab": {
          "base_uri": "https://localhost:8080/"
        },
        "id": "jjmx0fX6TsnE",
        "outputId": "d3d1f692-f231-42be-da7e-5c86c9d5b781"
      },
      "outputs": [
        {
          "output_type": "stream",
          "name": "stdout",
          "text": [
            "Epoch 1/30\n",
            "35/35 [==============================] - 228s 6s/step - loss: 2.6592 - accuracy: 0.6977 - val_loss: 0.9006 - val_accuracy: 0.7383\n",
            "Epoch 2/30\n",
            "35/35 [==============================] - 217s 6s/step - loss: 0.7665 - accuracy: 0.8109 - val_loss: 0.7461 - val_accuracy: 0.7453\n",
            "Epoch 3/30\n",
            "35/35 [==============================] - 208s 6s/step - loss: 0.6449 - accuracy: 0.8130 - val_loss: 0.6727 - val_accuracy: 0.7437\n",
            "Epoch 4/30\n",
            "35/35 [==============================] - 203s 6s/step - loss: 0.5816 - accuracy: 0.8179 - val_loss: 0.6451 - val_accuracy: 0.7421\n",
            "Epoch 5/30\n",
            "35/35 [==============================] - 204s 6s/step - loss: 0.5555 - accuracy: 0.8190 - val_loss: 0.6158 - val_accuracy: 0.7426\n",
            "Epoch 6/30\n",
            "35/35 [==============================] - 209s 6s/step - loss: 0.5303 - accuracy: 0.8192 - val_loss: 0.6019 - val_accuracy: 0.7437\n",
            "Epoch 7/30\n",
            "35/35 [==============================] - 226s 7s/step - loss: 0.5202 - accuracy: 0.8158 - val_loss: 0.5962 - val_accuracy: 0.7437\n",
            "Epoch 8/30\n",
            "35/35 [==============================] - 209s 6s/step - loss: 0.5038 - accuracy: 0.8203 - val_loss: 0.5803 - val_accuracy: 0.7458\n",
            "Epoch 9/30\n",
            "35/35 [==============================] - 210s 6s/step - loss: 0.4948 - accuracy: 0.8207 - val_loss: 0.5816 - val_accuracy: 0.7464\n",
            "Epoch 10/30\n",
            "35/35 [==============================] - 207s 6s/step - loss: 0.4911 - accuracy: 0.8199 - val_loss: 0.5707 - val_accuracy: 0.7544\n",
            "Epoch 11/30\n",
            "35/35 [==============================] - 208s 6s/step - loss: 0.4800 - accuracy: 0.8242 - val_loss: 0.5851 - val_accuracy: 0.7378\n",
            "Epoch 12/30\n",
            "35/35 [==============================] - 208s 6s/step - loss: 0.4792 - accuracy: 0.8256 - val_loss: 0.5533 - val_accuracy: 0.7582\n",
            "Epoch 13/30\n",
            "35/35 [==============================] - 211s 6s/step - loss: 0.4720 - accuracy: 0.8270 - val_loss: 0.5568 - val_accuracy: 0.7555\n",
            "Epoch 14/30\n",
            "35/35 [==============================] - 203s 6s/step - loss: 0.4715 - accuracy: 0.8270 - val_loss: 0.5645 - val_accuracy: 0.7507\n",
            "Epoch 15/30\n",
            "35/35 [==============================] - 201s 6s/step - loss: 0.4675 - accuracy: 0.8275 - val_loss: 0.5501 - val_accuracy: 0.7716\n",
            "Epoch 16/30\n",
            "35/35 [==============================] - 200s 6s/step - loss: 0.4610 - accuracy: 0.8317 - val_loss: 0.5485 - val_accuracy: 0.7507\n",
            "Epoch 17/30\n",
            "35/35 [==============================] - 198s 6s/step - loss: 0.4561 - accuracy: 0.8321 - val_loss: 0.5372 - val_accuracy: 0.7619\n",
            "Epoch 18/30\n",
            "35/35 [==============================] - 200s 6s/step - loss: 0.4552 - accuracy: 0.8290 - val_loss: 0.5419 - val_accuracy: 0.7625\n",
            "Epoch 19/30\n",
            "35/35 [==============================] - 198s 6s/step - loss: 0.4543 - accuracy: 0.8312 - val_loss: 0.5339 - val_accuracy: 0.7716\n",
            "Epoch 20/30\n",
            "35/35 [==============================] - 199s 6s/step - loss: 0.4548 - accuracy: 0.8333 - val_loss: 0.5365 - val_accuracy: 0.7705\n",
            "Epoch 21/30\n",
            "35/35 [==============================] - 197s 6s/step - loss: 0.4522 - accuracy: 0.8333 - val_loss: 0.5276 - val_accuracy: 0.7769\n",
            "Epoch 22/30\n",
            "35/35 [==============================] - 206s 6s/step - loss: 0.4536 - accuracy: 0.8340 - val_loss: 0.5385 - val_accuracy: 0.7748\n",
            "Epoch 23/30\n",
            "35/35 [==============================] - 198s 6s/step - loss: 0.4489 - accuracy: 0.8327 - val_loss: 0.5442 - val_accuracy: 0.7651\n",
            "Epoch 24/30\n",
            "35/35 [==============================] - 199s 6s/step - loss: 0.4563 - accuracy: 0.8299 - val_loss: 0.5360 - val_accuracy: 0.7657\n",
            "Epoch 25/30\n",
            "35/35 [==============================] - 197s 6s/step - loss: 0.4452 - accuracy: 0.8342 - val_loss: 0.5278 - val_accuracy: 0.7716\n",
            "Epoch 26/30\n",
            "35/35 [==============================] - 199s 6s/step - loss: 0.4465 - accuracy: 0.8337 - val_loss: 0.5261 - val_accuracy: 0.7748\n",
            "Epoch 27/30\n",
            "35/35 [==============================] - 199s 6s/step - loss: 0.4442 - accuracy: 0.8329 - val_loss: 0.5242 - val_accuracy: 0.7753\n",
            "Epoch 28/30\n",
            "35/35 [==============================] - 197s 6s/step - loss: 0.4433 - accuracy: 0.8352 - val_loss: 0.5307 - val_accuracy: 0.7802\n",
            "Epoch 29/30\n",
            "35/35 [==============================] - 207s 6s/step - loss: 0.4413 - accuracy: 0.8332 - val_loss: 0.5300 - val_accuracy: 0.7823\n",
            "Epoch 30/30\n",
            "35/35 [==============================] - 198s 6s/step - loss: 0.4407 - accuracy: 0.8336 - val_loss: 0.5219 - val_accuracy: 0.7802\n"
          ]
        }
      ],
      "source": [
        "early_stop = EarlyStopping(monitor = 'val_loss', \n",
        "                           patience = 5, \n",
        "                           mode = 'min', \n",
        "                           verbose = 1)\n",
        "\n",
        "hist = model.fit(train_generator, \n",
        "                 validation_data = validation_generator, \n",
        "                 epochs = 30,\n",
        "                 callbacks = [early_stop])"
      ]
    },
    {
      "cell_type": "markdown",
      "source": [
        "###Analysis of Model Performance\n",
        "\n",
        "For the purposes of this preliminary report, an early stop was set in place for this model based on insufficient improvements in lowering validation loss. Since this model was stopped early, this model might have room for further parameter optimization. Ultimately, this model didn't seem to showcase effective performance, with obvious overfitting of the test data when analyzingthe analysis curve. In most scenarios, any neural network would continuously be optimized in an iterative process. For the purposes of this preliminary report, analysis was continued as if this model had been completely optimized."
      ],
      "metadata": {
        "id": "FrGi7fF4KOQ5"
      }
    },
    {
      "cell_type": "code",
      "source": [
        "fig = plt.figure()\n",
        "\n",
        "plt.subplot(1, 2, 1)\n",
        "plt.plot(hist.history['loss'], \n",
        "         color = 'teal', \n",
        "         label = 'loss')\n",
        "plt.plot(hist.history['val_loss'], \n",
        "         color = 'orange', \n",
        "         label = 'val_loss')\n",
        "fig.suptitle('Loss', fontsize=20)\n",
        "plt.legend(loc = \"upper left\")\n",
        "plt.ylabel('Loss')\n",
        "plt.xlabel('Epochs')\n",
        "\n",
        "plt.subplot(1, 2, 2)\n",
        "plt.plot(hist.history['accuracy'], \n",
        "         color = 'teal', \n",
        "         label = 'accuracy')\n",
        "plt.plot(hist.history['val_accuracy'], \n",
        "         color = 'orange', \n",
        "         label = 'val_accuracy')\n",
        "fig.suptitle('Accuracy', fontsize=20)\n",
        "plt.legend(loc = \"upper left\")\n",
        "plt.ylabel('Accuracy')\n",
        "plt.xlable('Epochs')\n",
        "\n",
        "plt.show()"
      ],
      "metadata": {
        "colab": {
          "base_uri": "https://localhost:8080/",
          "height": 531
        },
        "id": "vz0CJHEUN7xs",
        "outputId": "98f030f3-9440-46b4-ac51-9abddf4ae276"
      },
      "execution_count": null,
      "outputs": [
        {
          "output_type": "error",
          "ename": "AttributeError",
          "evalue": "ignored",
          "traceback": [
            "\u001b[0;31m---------------------------------------------------------------------------\u001b[0m",
            "\u001b[0;31mAttributeError\u001b[0m                            Traceback (most recent call last)",
            "\u001b[0;32m<ipython-input-20-f663e9513535>\u001b[0m in \u001b[0;36m<module>\u001b[0;34m()\u001b[0m\n\u001b[1;32m     23\u001b[0m \u001b[0mplt\u001b[0m\u001b[0;34m.\u001b[0m\u001b[0mlegend\u001b[0m\u001b[0;34m(\u001b[0m\u001b[0mloc\u001b[0m \u001b[0;34m=\u001b[0m \u001b[0;34m\"upper left\"\u001b[0m\u001b[0;34m)\u001b[0m\u001b[0;34m\u001b[0m\u001b[0;34m\u001b[0m\u001b[0m\n\u001b[1;32m     24\u001b[0m \u001b[0mplt\u001b[0m\u001b[0;34m.\u001b[0m\u001b[0mylabel\u001b[0m\u001b[0;34m(\u001b[0m\u001b[0;34m'Accuracy'\u001b[0m\u001b[0;34m)\u001b[0m\u001b[0;34m\u001b[0m\u001b[0;34m\u001b[0m\u001b[0m\n\u001b[0;32m---> 25\u001b[0;31m \u001b[0mplt\u001b[0m\u001b[0;34m.\u001b[0m\u001b[0mxlable\u001b[0m\u001b[0;34m(\u001b[0m\u001b[0;34m'Epochs'\u001b[0m\u001b[0;34m)\u001b[0m\u001b[0;34m\u001b[0m\u001b[0;34m\u001b[0m\u001b[0m\n\u001b[0m\u001b[1;32m     26\u001b[0m \u001b[0;34m\u001b[0m\u001b[0m\n\u001b[1;32m     27\u001b[0m \u001b[0mplt\u001b[0m\u001b[0;34m.\u001b[0m\u001b[0mshow\u001b[0m\u001b[0;34m(\u001b[0m\u001b[0;34m)\u001b[0m\u001b[0;34m\u001b[0m\u001b[0;34m\u001b[0m\u001b[0m\n",
            "\u001b[0;31mAttributeError\u001b[0m: module 'matplotlib.pyplot' has no attribute 'xlable'"
          ]
        },
        {
          "output_type": "display_data",
          "data": {
            "text/plain": [
              "<Figure size 432x288 with 2 Axes>"
            ],
            "image/png": "[encoded data removed]"
          },
          "metadata": {
            "needs_background": "light"
          }
        }
      ]
    },
    {
      "cell_type": "markdown",
      "source": [
        "The final phase of analysis was to assess the models performance on the testing data. Just as for the training and validation data, the testing data was imported via an image generator. However, because the validation dataset was labelled differently than the training set, a different methodology was used to import the data. A dataframe for the test set was created as described in the previous EDA report. From this dataframe, the test data was imported and labelled to be tested on the sequential model. The same parameter optimizations that were utilized for the training and validation generators were utilized for the test generator as well. "
      ],
      "metadata": {
        "id": "vyixtiTpKYPa"
      }
    },
    {
      "cell_type": "code",
      "source": [
        "df_test = pd.read_csv(\"/content/drive/Othercomputers/My MacBook Air/BrainStation/Capstone/capstone_data/test_data/val_data.csv\", \n",
        "                      dtype = str)\n",
        "df_test"
      ],
      "metadata": {
        "colab": {
          "base_uri": "https://localhost:8080/",
          "height": 424
        },
        "id": "jeZXzP7wOAzL",
        "outputId": "ed164ee1-65da-443e-f09c-4fb1e8c3603e"
      },
      "execution_count": null,
      "outputs": [
        {
          "output_type": "execute_result",
          "data": {
            "text/plain": [
              "                Patient_ID new_names labels\n",
              "0      UID_57_29_1_all.bmp     1.bmp      1\n",
              "1      UID_57_22_2_all.bmp     2.bmp      1\n",
              "2      UID_57_31_3_all.bmp     3.bmp      1\n",
              "3     UID_H49_35_1_hem.bmp     4.bmp      0\n",
              "4      UID_58_6_13_all.bmp     5.bmp      1\n",
              "...                    ...       ...    ...\n",
              "1862   UID_54_33_1_all.bmp  1863.bmp      1\n",
              "1863   UID_55_24_1_all.bmp  1864.bmp      1\n",
              "1864  UID_H32_20_1_hem.bmp  1865.bmp      0\n",
              "1865   UID_54_30_2_all.bmp  1866.bmp      1\n",
              "1866   UID_66_10_3_all.bmp  1867.bmp      1\n",
              "\n",
              "[1867 rows x 3 columns]"
            ],
            "text/html": [
              "\n",
              "  <div id=\"df-a2ac8ad6-197f-4e65-a841-97826d445b14\">\n",
              "    <div class=\"colab-df-container\">\n",
              "      <div>\n",
              "<style scoped>\n",
              "    .dataframe tbody tr th:only-of-type {\n",
              "        vertical-align: middle;\n",
              "    }\n",
              "\n",
              "    .dataframe tbody tr th {\n",
              "        vertical-align: top;\n",
              "    }\n",
              "\n",
              "    .dataframe thead th {\n",
              "        text-align: right;\n",
              "    }\n",
              "</style>\n",
              "<table border=\"1\" class=\"dataframe\">\n",
              "  <thead>\n",
              "    <tr style=\"text-align: right;\">\n",
              "      <th></th>\n",
              "      <th>Patient_ID</th>\n",
              "      <th>new_names</th>\n",
              "      <th>labels</th>\n",
              "    </tr>\n",
              "  </thead>\n",
              "  <tbody>\n",
              "    <tr>\n",
              "      <th>0</th>\n",
              "      <td>UID_57_29_1_all.bmp</td>\n",
              "      <td>1.bmp</td>\n",
              "      <td>1</td>\n",
              "    </tr>\n",
              "    <tr>\n",
              "      <th>1</th>\n",
              "      <td>UID_57_22_2_all.bmp</td>\n",
              "      <td>2.bmp</td>\n",
              "      <td>1</td>\n",
              "    </tr>\n",
              "    <tr>\n",
              "      <th>2</th>\n",
              "      <td>UID_57_31_3_all.bmp</td>\n",
              "      <td>3.bmp</td>\n",
              "      <td>1</td>\n",
              "    </tr>\n",
              "    <tr>\n",
              "      <th>3</th>\n",
              "      <td>UID_H49_35_1_hem.bmp</td>\n",
              "      <td>4.bmp</td>\n",
              "      <td>0</td>\n",
              "    </tr>\n",
              "    <tr>\n",
              "      <th>4</th>\n",
              "      <td>UID_58_6_13_all.bmp</td>\n",
              "      <td>5.bmp</td>\n",
              "      <td>1</td>\n",
              "    </tr>\n",
              "    <tr>\n",
              "      <th>...</th>\n",
              "      <td>...</td>\n",
              "      <td>...</td>\n",
              "      <td>...</td>\n",
              "    </tr>\n",
              "    <tr>\n",
              "      <th>1862</th>\n",
              "      <td>UID_54_33_1_all.bmp</td>\n",
              "      <td>1863.bmp</td>\n",
              "      <td>1</td>\n",
              "    </tr>\n",
              "    <tr>\n",
              "      <th>1863</th>\n",
              "      <td>UID_55_24_1_all.bmp</td>\n",
              "      <td>1864.bmp</td>\n",
              "      <td>1</td>\n",
              "    </tr>\n",
              "    <tr>\n",
              "      <th>1864</th>\n",
              "      <td>UID_H32_20_1_hem.bmp</td>\n",
              "      <td>1865.bmp</td>\n",
              "      <td>0</td>\n",
              "    </tr>\n",
              "    <tr>\n",
              "      <th>1865</th>\n",
              "      <td>UID_54_30_2_all.bmp</td>\n",
              "      <td>1866.bmp</td>\n",
              "      <td>1</td>\n",
              "    </tr>\n",
              "    <tr>\n",
              "      <th>1866</th>\n",
              "      <td>UID_66_10_3_all.bmp</td>\n",
              "      <td>1867.bmp</td>\n",
              "      <td>1</td>\n",
              "    </tr>\n",
              "  </tbody>\n",
              "</table>\n",
              "<p>1867 rows × 3 columns</p>\n",
              "</div>\n",
              "      <button class=\"colab-df-convert\" onclick=\"convertToInteractive('df-a2ac8ad6-197f-4e65-a841-97826d445b14')\"\n",
              "              title=\"Convert this dataframe to an interactive table.\"\n",
              "              style=\"display:none;\">\n",
              "        \n",
              "  <svg xmlns=\"http://www.w3.org/2000/svg\" height=\"24px\"viewBox=\"0 0 24 24\"\n",
              "       width=\"24px\">\n",
              "    <path d=\"M0 0h24v24H0V0z\" fill=\"none\"/>\n",
              "    <path d=\"M18.56 5.44l.94 2.06.94-2.06 2.06-.94-2.06-.94-.94-2.06-.94 2.06-2.06.94zm-11 1L8.5 8.5l.94-2.06 2.06-.94-2.06-.94L8.5 2.5l-.94 2.06-2.06.94zm10 10l.94 2.06.94-2.06 2.06-.94-2.06-.94-.94-2.06-.94 2.06-2.06.94z\"/><path d=\"M17.41 7.96l-1.37-1.37c-.4-.4-.92-.59-1.43-.59-.52 0-1.04.2-1.43.59L10.3 9.45l-7.72 7.72c-.78.78-.78 2.05 0 2.83L4 21.41c.39.39.9.59 1.41.59.51 0 1.02-.2 1.41-.59l7.78-7.78 2.81-2.81c.8-.78.8-2.07 0-2.86zM5.41 20L4 18.59l7.72-7.72 1.47 1.35L5.41 20z\"/>\n",
              "  </svg>\n",
              "      </button>\n",
              "      \n",
              "  <style>\n",
              "    .colab-df-container {\n",
              "      display:flex;\n",
              "      flex-wrap:wrap;\n",
              "      gap: 12px;\n",
              "    }\n",
              "\n",
              "    .colab-df-convert {\n",
              "      background-color: #E8F0FE;\n",
              "      border: none;\n",
              "      border-radius: 50%;\n",
              "      cursor: pointer;\n",
              "      display: none;\n",
              "      fill: #1967D2;\n",
              "      height: 32px;\n",
              "      padding: 0 0 0 0;\n",
              "      width: 32px;\n",
              "    }\n",
              "\n",
              "    .colab-df-convert:hover {\n",
              "      background-color: #E2EBFA;\n",
              "      box-shadow: 0px 1px 2px rgba(60, 64, 67, 0.3), 0px 1px 3px 1px rgba(60, 64, 67, 0.15);\n",
              "      fill: #174EA6;\n",
              "    }\n",
              "\n",
              "    [theme=dark] .colab-df-convert {\n",
              "      background-color: #3B4455;\n",
              "      fill: #D2E3FC;\n",
              "    }\n",
              "\n",
              "    [theme=dark] .colab-df-convert:hover {\n",
              "      background-color: #434B5C;\n",
              "      box-shadow: 0px 1px 3px 1px rgba(0, 0, 0, 0.15);\n",
              "      filter: drop-shadow(0px 1px 2px rgba(0, 0, 0, 0.3));\n",
              "      fill: #FFFFFF;\n",
              "    }\n",
              "  </style>\n",
              "\n",
              "      <script>\n",
              "        const buttonEl =\n",
              "          document.querySelector('#df-a2ac8ad6-197f-4e65-a841-97826d445b14 button.colab-df-convert');\n",
              "        buttonEl.style.display =\n",
              "          google.colab.kernel.accessAllowed ? 'block' : 'none';\n",
              "\n",
              "        async function convertToInteractive(key) {\n",
              "          const element = document.querySelector('#df-a2ac8ad6-197f-4e65-a841-97826d445b14');\n",
              "          const dataTable =\n",
              "            await google.colab.kernel.invokeFunction('convertToInteractive',\n",
              "                                                     [key], {});\n",
              "          if (!dataTable) return;\n",
              "\n",
              "          const docLinkHtml = 'Like what you see? Visit the ' +\n",
              "            '<a target=\"_blank\" href=https://colab.research.google.com/notebooks/data_table.ipynb>data table notebook</a>'\n",
              "            + ' to learn more about interactive tables.';\n",
              "          element.innerHTML = '';\n",
              "          dataTable['output_type'] = 'display_data';\n",
              "          await google.colab.output.renderOutput(dataTable, element);\n",
              "          const docLink = document.createElement('div');\n",
              "          docLink.innerHTML = docLinkHtml;\n",
              "          element.appendChild(docLink);\n",
              "        }\n",
              "      </script>\n",
              "    </div>\n",
              "  </div>\n",
              "  "
            ]
          },
          "metadata": {},
          "execution_count": 9
        }
      ]
    },
    {
      "cell_type": "code",
      "source": [
        "# Apply the same rescaling factor as our other generators\n",
        "test_datagen = ImageDataGenerator(rescale=1./255, \n",
        "                                  rotation_range = 180, \n",
        "                                  horizontal_flip = True, \n",
        "                                  vertical_flip = True)\n",
        "test_generator = test_datagen.flow_from_dataframe(dataframe = df_test,\n",
        "                                                  directory = '/content/drive/Othercomputers/My MacBook Air/BrainStation/Capstone/capstone_data/test_data',\n",
        "                                                  target_size = (256, 256),\n",
        "                                                  batch_size = 256,\n",
        "                                                  x_col = 'new_names',\n",
        "                                                  y_col = 'labels',\n",
        "                                                  color_mode = 'rgb',\n",
        "                                                  class_mode = 'categorical')\n",
        "\n",
        "X_test, y_test = validation_generator.next() # <-- Validation data was used for all further analysis as opposed to the test data"
      ],
      "metadata": {
        "colab": {
          "base_uri": "https://localhost:8080/"
        },
        "id": "CcbRn0SqOBh2",
        "outputId": "67668167-f826-43cd-b5b4-ad9552fe4dd7"
      },
      "execution_count": null,
      "outputs": [
        {
          "output_type": "stream",
          "name": "stdout",
          "text": [
            "Found 1867 validated image filenames belonging to 2 classes.\n"
          ]
        }
      ]
    },
    {
      "cell_type": "code",
      "source": [
        "# Evaluate the model's performance on the test data\n",
        "score = model.evaluate(X_test, \n",
        "                       y_test)\n",
        "\n",
        "print('Test loss:', score[0])\n",
        "print('Test accuracy:', score[1])"
      ],
      "metadata": {
        "colab": {
          "base_uri": "https://localhost:8080/"
        },
        "id": "67_B6IpwOWGC",
        "outputId": "a595b398-a818-442b-a9f0-90fcefc5b30d"
      },
      "execution_count": null,
      "outputs": [
        {
          "output_type": "stream",
          "name": "stdout",
          "text": [
            "8/8 [==============================] - 0s 21ms/step - loss: 0.4928 - accuracy: 0.7852\n",
            "Test loss: 0.49278146028518677\n",
            "Test accuracy: 0.78515625\n"
          ]
        }
      ]
    },
    {
      "cell_type": "code",
      "source": [
        "# Calculate the predictions\n",
        "predict_probas = model.predict(X_test)\n",
        "\n",
        "# Convert probabilities to label encoding\n",
        "y_predict = np.argmax(predict_probas, axis=1)"
      ],
      "metadata": {
        "id": "MVgTormFOZTW"
      },
      "execution_count": null,
      "outputs": []
    },
    {
      "cell_type": "markdown",
      "source": [
        "###Final analysis\n",
        "\n",
        "This model showcased a test accuracy of 78.5%. The confusion matrix below allowed for further analysis of the general performance of the model per each batch of 256 images. \n",
        "\n",
        "This model was extremely unlikely to predict that any cell was a normal lymphoblast. Considering the distribution of the data, where only 31.79% of all images were healthy lymphoblasts in the training dataset, this wasn't surprising. However, thhis model should have still predicted normal lymphoblasts 31% of the time, accounting for about 77 predictions. Instead, based on the confusion matrix, the model only predicted 29 healthy lymphoblasts. "
      ],
      "metadata": {
        "id": "lNCj9jI9SuX3"
      }
    },
    {
      "cell_type": "code",
      "source": [
        "class_names = validation_generator.class_indices\n",
        "\n",
        "y_test_labels = np.argmax(y_test, axis=1)\n",
        "conf_mat = confusion_matrix(y_test_labels, y_predict)\n",
        "\n",
        "plt.figure(figsize = (8,6))\n",
        "sns.heatmap(conf_mat,\n",
        "            annot=True,\n",
        "            cbar=False,\n",
        "            xticklabels = class_names,\n",
        "            yticklabels = class_names,\n",
        "            cmap = \"rocket_r\",\n",
        "            linewidths = 1)\n",
        "plt.title('Confusion Matrix Sequential CNN', \n",
        "          size = 25, \n",
        "          y = 1.01)\n",
        "plt.xlabel(\"Predicted Label\", size = 20)\n",
        "plt.ylabel(\"True Label\", size = 20)\n",
        "plt.show()"
      ],
      "metadata": {
        "colab": {
          "base_uri": "https://localhost:8080/",
          "height": 422
        },
        "id": "deO_AT2xOcIg",
        "outputId": "56a824f7-efbf-4499-93fb-9f4f1d75d5fc"
      },
      "execution_count": null,
      "outputs": [
        {
          "output_type": "display_data",
          "data": {
            "text/plain": [
              "<Figure size 576x432 with 1 Axes>"
            ],
            "image/png": "[encoded data removed]"
          },
          "metadata": {
            "needs_background": "light"
          }
        }
      ]
    },
    {
      "cell_type": "markdown",
      "source": [
        "This is the end of the report. Please proceed to read the final report on the ResNet50V2 model."
      ],
      "metadata": {
        "id": "yfwccbCZXN6F"
      }
    }
  ],
  "metadata": {
    "kernelspec": {
      "display_name": "Python 3.8.13 ('deeplearning')",
      "language": "python",
      "name": "python3"
    },
    "language_info": {
      "codemirror_mode": {
        "name": "ipython",
        "version": 3
      },
      "file_extension": ".py",
      "mimetype": "text/x-python",
      "name": "python",
      "nbconvert_exporter": "python",
      "pygments_lexer": "ipython3",
      "version": "3.8.13"
    },
    "orig_nbformat": 4,
    "vscode": {
      "interpreter": {
        "hash": "273d489d297b00ca4249bd56ca235947d5c672f5aad333aaf3138058574823b8"
      }
    },
    "colab": {
      "name": "Base_Model_CNN.ipynb",
      "provenance": [],
      "collapsed_sections": []
    },
    "accelerator": "GPU",
    "gpuClass": "standard"
  },
  "nbformat": 4,
  "nbformat_minor": 0
}